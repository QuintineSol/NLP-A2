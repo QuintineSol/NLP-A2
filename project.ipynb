{
 "cells": [
  {
   "cell_type": "markdown",
   "metadata": {},
   "source": [
    "# NLP - Assignment 2"
   ]
  },
  {
   "cell_type": "markdown",
   "metadata": {},
   "source": [
    "## Imports"
   ]
  },
  {
   "cell_type": "code",
   "execution_count": 12,
   "metadata": {},
   "outputs": [],
   "source": [
    "import pandas as pd\n",
    "from sklearn.feature_extraction.text import CountVectorizer\n",
    "from sklearn.decomposition import LatentDirichletAllocation\n",
    "from bertopic import BERTopic\n",
    "import numpy as np\n",
    "import re\n",
    "import nltk\n",
    "from nltk.corpus import stopwords\n",
    "from nltk.tokenize import word_tokenize\n",
    "from nltk.stem import WordNetLemmatizer, PorterStemmer\n",
    "from FuzzyTM import FLSA_W\n",
    "from gensim.models import CoherenceModel\n",
    "import matplotlib.pyplot as plt\n",
    "import gensim\n",
    "from gensim import corpora\n",
    "\n"
   ]
  },
  {
   "cell_type": "markdown",
   "metadata": {},
   "source": [
    "## Preprocess Data"
   ]
  },
  {
   "cell_type": "code",
   "execution_count": 13,
   "metadata": {},
   "outputs": [
    {
     "data": {
      "text/html": [
       "<div>\n",
       "<style scoped>\n",
       "    .dataframe tbody tr th:only-of-type {\n",
       "        vertical-align: middle;\n",
       "    }\n",
       "\n",
       "    .dataframe tbody tr th {\n",
       "        vertical-align: top;\n",
       "    }\n",
       "\n",
       "    .dataframe thead th {\n",
       "        text-align: right;\n",
       "    }\n",
       "</style>\n",
       "<table border=\"1\" class=\"dataframe\">\n",
       "  <thead>\n",
       "    <tr style=\"text-align: right;\">\n",
       "      <th></th>\n",
       "      <th>id</th>\n",
       "      <th>ticker</th>\n",
       "      <th>title</th>\n",
       "      <th>category</th>\n",
       "      <th>content</th>\n",
       "      <th>release_date</th>\n",
       "      <th>provider</th>\n",
       "      <th>url</th>\n",
       "      <th>article_id</th>\n",
       "    </tr>\n",
       "  </thead>\n",
       "  <tbody>\n",
       "    <tr>\n",
       "      <th>0</th>\n",
       "      <td>221515</td>\n",
       "      <td>NIO</td>\n",
       "      <td>Why Shares of Chinese Electric Car Maker NIO A...</td>\n",
       "      <td>news</td>\n",
       "      <td>What s happening\\nShares of Chinese electric c...</td>\n",
       "      <td>2020-01-15</td>\n",
       "      <td>The Motley Fool</td>\n",
       "      <td>https://invst.ly/pigqi</td>\n",
       "      <td>2060327</td>\n",
       "    </tr>\n",
       "    <tr>\n",
       "      <th>1</th>\n",
       "      <td>221516</td>\n",
       "      <td>NIO</td>\n",
       "      <td>NIO only consumer gainer  Workhorse Group amon...</td>\n",
       "      <td>news</td>\n",
       "      <td>Gainers  NIO  NYSE NIO   7  \\nLosers  MGP Ingr...</td>\n",
       "      <td>2020-01-18</td>\n",
       "      <td>Seeking Alpha</td>\n",
       "      <td>https://invst.ly/pje9c</td>\n",
       "      <td>2062196</td>\n",
       "    </tr>\n",
       "    <tr>\n",
       "      <th>2</th>\n",
       "      <td>221517</td>\n",
       "      <td>NIO</td>\n",
       "      <td>NIO leads consumer gainers  Beyond Meat and Ma...</td>\n",
       "      <td>news</td>\n",
       "      <td>Gainers  NIO  NYSE NIO   14   Village Farms In...</td>\n",
       "      <td>2020-01-15</td>\n",
       "      <td>Seeking Alpha</td>\n",
       "      <td>https://invst.ly/pifmv</td>\n",
       "      <td>2060249</td>\n",
       "    </tr>\n",
       "    <tr>\n",
       "      <th>3</th>\n",
       "      <td>221518</td>\n",
       "      <td>NIO</td>\n",
       "      <td>NIO  NVAX among premarket gainers</td>\n",
       "      <td>news</td>\n",
       "      <td>Cemtrex  NASDAQ CETX   85  after FY results \\n...</td>\n",
       "      <td>2020-01-15</td>\n",
       "      <td>Seeking Alpha</td>\n",
       "      <td>https://invst.ly/picu8</td>\n",
       "      <td>2060039</td>\n",
       "    </tr>\n",
       "    <tr>\n",
       "      <th>4</th>\n",
       "      <td>221519</td>\n",
       "      <td>NIO</td>\n",
       "      <td>PLUG  NIO among premarket gainers</td>\n",
       "      <td>news</td>\n",
       "      <td>aTyr Pharma  NASDAQ LIFE   63  on Kyorin Pharm...</td>\n",
       "      <td>2020-01-06</td>\n",
       "      <td>Seeking Alpha</td>\n",
       "      <td>https://seekingalpha.com/news/3529772-plug-nio...</td>\n",
       "      <td>2053096</td>\n",
       "    </tr>\n",
       "  </tbody>\n",
       "</table>\n",
       "</div>"
      ],
      "text/plain": [
       "       id ticker                                              title category  \\\n",
       "0  221515    NIO  Why Shares of Chinese Electric Car Maker NIO A...     news   \n",
       "1  221516    NIO  NIO only consumer gainer  Workhorse Group amon...     news   \n",
       "2  221517    NIO  NIO leads consumer gainers  Beyond Meat and Ma...     news   \n",
       "3  221518    NIO                  NIO  NVAX among premarket gainers     news   \n",
       "4  221519    NIO                  PLUG  NIO among premarket gainers     news   \n",
       "\n",
       "                                             content release_date  \\\n",
       "0  What s happening\\nShares of Chinese electric c...   2020-01-15   \n",
       "1  Gainers  NIO  NYSE NIO   7  \\nLosers  MGP Ingr...   2020-01-18   \n",
       "2  Gainers  NIO  NYSE NIO   14   Village Farms In...   2020-01-15   \n",
       "3  Cemtrex  NASDAQ CETX   85  after FY results \\n...   2020-01-15   \n",
       "4  aTyr Pharma  NASDAQ LIFE   63  on Kyorin Pharm...   2020-01-06   \n",
       "\n",
       "          provider                                                url  \\\n",
       "0  The Motley Fool                             https://invst.ly/pigqi   \n",
       "1    Seeking Alpha                             https://invst.ly/pje9c   \n",
       "2    Seeking Alpha                             https://invst.ly/pifmv   \n",
       "3    Seeking Alpha                             https://invst.ly/picu8   \n",
       "4    Seeking Alpha  https://seekingalpha.com/news/3529772-plug-nio...   \n",
       "\n",
       "   article_id  \n",
       "0     2060327  \n",
       "1     2062196  \n",
       "2     2060249  \n",
       "3     2060039  \n",
       "4     2053096  "
      ]
     },
     "execution_count": 13,
     "metadata": {},
     "output_type": "execute_result"
    }
   ],
   "source": [
    "path = \"./us_equities_news_dataset.csv\"\n",
    "\n",
    "# Load the news dataset\n",
    "news_dataset = pd.read_csv(\"./us_equities_news_dataset.csv\")\n",
    "news_dataset.head()"
   ]
  },
  {
   "cell_type": "code",
   "execution_count": 14,
   "metadata": {},
   "outputs": [],
   "source": [
    "# Filter dataset to only include articles with 'Nvidia' in the content\n",
    "nvidia_dataset = news_dataset[news_dataset['content'].str.contains('Nvidia', case=False, na=False)]\n"
   ]
  },
  {
   "cell_type": "code",
   "execution_count": 15,
   "metadata": {},
   "outputs": [],
   "source": [
    "lemmatizer = WordNetLemmatizer()\n",
    "stemmer = PorterStemmer()\n",
    "stop_words = set(stopwords.words('english'))\n",
    "\n",
    "def preprocess_text(text, \n",
    "                    remove_punctuation=True, \n",
    "                    remove_stopwords=True, \n",
    "                    lemmatize=False, \n",
    "                    stem=False, \n",
    "                    remove_short_words=False, \n",
    "                    remove_rare_words=False, \n",
    "                    remove_numbers=True, \n",
    "                    min_word_length=2):\n",
    "    \"\"\"\n",
    "    Advanced preprocessing function that applies different levels of text processing.\n",
    "    \n",
    "    Parameters:\n",
    "    - text: The text to preprocess.\n",
    "    - remove_punctuation: Whether to remove punctuation from the text.\n",
    "    - remove_stopwords: Whether to remove common stopwords.\n",
    "    - lemmatize: Whether to apply lemmatization to reduce words to their root form.\n",
    "    - stem: Whether to apply stemming to reduce words to their base form.\n",
    "    - remove_short_words: Whether to remove short words from the text.\n",
    "    - remove_rare_words: Whether to remove rare words based on the dataset distribution.\n",
    "    - remove_numbers: Whether to remove numbers from the text.\n",
    "    - min_word_length: The minimum length of words to keep in the text.\n",
    "    \n",
    "    Returns:\n",
    "    - Preprocessed text as tokens.\n",
    "    \"\"\"\n",
    "    \n",
    "    # Tokenization\n",
    "    tokens = word_tokenize(text)\n",
    "    \n",
    "    # Convert to lowercase\n",
    "    tokens = [token.lower() for token in tokens]\n",
    "    \n",
    "    # Remove numbers if specified\n",
    "    if remove_numbers:\n",
    "        tokens = [re.sub(r'\\d+', '', token) for token in tokens]\n",
    "    \n",
    "    # Remove non-alphabetic characters (punctuation)\n",
    "    if remove_punctuation:\n",
    "        tokens = [re.sub(r'[^a-zA-Z]', '', token) for token in tokens]\n",
    "    \n",
    "    # Remove stopwords\n",
    "    if remove_stopwords:\n",
    "        tokens = [token for token in tokens if token not in stop_words]\n",
    "    \n",
    "    # Lemmatization\n",
    "    if lemmatize:\n",
    "        tokens = [lemmatizer.lemmatize(token) for token in tokens]\n",
    "    \n",
    "    # Stemming (alternative to lemmatization)\n",
    "    if stem:\n",
    "        tokens = [stemmer.stem(token) for token in tokens]\n",
    "    \n",
    "    # Remove short words\n",
    "    if remove_short_words:\n",
    "        tokens = [token for token in tokens if len(token) >= min_word_length]\n",
    "    \n",
    "    return tokens"
   ]
  },
  {
   "cell_type": "code",
   "execution_count": 16,
   "metadata": {},
   "outputs": [],
   "source": [
    "# Concatenate title and content columns\n",
    "nvidia_dataset['content'] = nvidia_dataset['title'] + ' ' + nvidia_dataset['content']"
   ]
  },
  {
   "cell_type": "code",
   "execution_count": 17,
   "metadata": {},
   "outputs": [],
   "source": [
    "def apply_preprocessing(nvidia_dataset, version='v1'):\n",
    "    \"\"\"\n",
    "    Apply different levels of preprocessing to the dataset.\n",
    "    \n",
    "    Parameters:\n",
    "    - nvidia_dataset: The Nvidia articles with a 'content' column.\n",
    "    - version: The version of preprocessing to apply ('v1', 'v2', 'v3', or 'v4').\n",
    "    \n",
    "    Returns:\n",
    "    - DataFrame with the original content and the preprocessed content in 'preprocessed_content' column.\n",
    "    \"\"\"\n",
    "    \n",
    "    if version == 'v1':\n",
    "        # Basic tokenization and lowercasing\n",
    "        nvidia_dataset['preprocessed_content'] = nvidia_dataset['content'].apply(lambda x: preprocess_text(\n",
    "            x, remove_punctuation=False, remove_stopwords=False, \n",
    "            lemmatize=False, remove_numbers=False, stem=False, \n",
    "            remove_short_words=False\n",
    "        ))\n",
    "    \n",
    "    elif version == 'v2':\n",
    "        # Remove punctuation, stopwords, and numbers, but no lemmatization/stemming\n",
    "        nvidia_dataset['preprocessed_content'] = nvidia_dataset['content'].apply(lambda x: preprocess_text(\n",
    "            x, remove_punctuation=True, remove_stopwords=True, \n",
    "            lemmatize=False, remove_numbers=False, stem=False, \n",
    "            remove_short_words=False\n",
    "        ))\n",
    "    \n",
    "    elif version == 'v3':\n",
    "        # Advanced preprocessing with stemming, number removal, short words removal\n",
    "        nvidia_dataset['preprocessed_content'] = nvidia_dataset['content'].apply(lambda x: preprocess_text(\n",
    "            x, remove_punctuation=True, remove_stopwords=True, \n",
    "            lemmatize=False, stem=True, remove_numbers=True, \n",
    "            remove_short_words=True, min_word_length=2\n",
    "        ))\n",
    "    \n",
    "    elif version == 'v4':\n",
    "        # Full preprocessing with lemmatization instead of stemming, number removal, and short words removal\n",
    "        nvidia_dataset['preprocessed_content'] = nvidia_dataset['content'].apply(lambda x: preprocess_text(\n",
    "            x, remove_punctuation=True, remove_stopwords=True, \n",
    "            lemmatize=True, remove_numbers=True, stem=False, \n",
    "            remove_short_words=True, min_word_length=2\n",
    "        ))\n",
    "    \n",
    "    else:\n",
    "        raise ValueError(\"Invalid preprocessing version. Choose from 'v1', 'v2', 'v3', or 'v4'.\")\n",
    "    \n",
    "    # Return the DataFrame with original and preprocessed content\n",
    "    return nvidia_dataset\n"
   ]
  },
  {
   "cell_type": "code",
   "execution_count": 18,
   "metadata": {},
   "outputs": [],
   "source": [
    "train_data_v1 = apply_preprocessing(nvidia_dataset, version='v1')  # Basic preprocessing\n",
    "train_data_v2 = apply_preprocessing(nvidia_dataset, version='v2')  # Intermediate preprocessing\n",
    "train_data_v3 = apply_preprocessing(nvidia_dataset, version='v3')  # Full preprocessing with stemming\n",
    "train_data_v4 = apply_preprocessing(nvidia_dataset, version='v4')  # Full preprocessing with lemmatizer"
   ]
  },
  {
   "cell_type": "code",
   "execution_count": 19,
   "metadata": {},
   "outputs": [
    {
     "data": {
      "text/html": [
       "<div>\n",
       "<style scoped>\n",
       "    .dataframe tbody tr th:only-of-type {\n",
       "        vertical-align: middle;\n",
       "    }\n",
       "\n",
       "    .dataframe tbody tr th {\n",
       "        vertical-align: top;\n",
       "    }\n",
       "\n",
       "    .dataframe thead th {\n",
       "        text-align: right;\n",
       "    }\n",
       "</style>\n",
       "<table border=\"1\" class=\"dataframe\">\n",
       "  <thead>\n",
       "    <tr style=\"text-align: right;\">\n",
       "      <th></th>\n",
       "      <th>id</th>\n",
       "      <th>ticker</th>\n",
       "      <th>title</th>\n",
       "      <th>category</th>\n",
       "      <th>content</th>\n",
       "      <th>release_date</th>\n",
       "      <th>provider</th>\n",
       "      <th>url</th>\n",
       "      <th>article_id</th>\n",
       "      <th>preprocessed_content</th>\n",
       "    </tr>\n",
       "  </thead>\n",
       "  <tbody>\n",
       "    <tr>\n",
       "      <th>24</th>\n",
       "      <td>221539</td>\n",
       "      <td>NIO</td>\n",
       "      <td>A Central Bank War Just Started And Its Good F...</td>\n",
       "      <td>opinion</td>\n",
       "      <td>A Central Bank War Just Started And Its Good F...</td>\n",
       "      <td>2019-03-07</td>\n",
       "      <td>Michael Kramer</td>\n",
       "      <td>https://www.investing.com/analysis/a-central-b...</td>\n",
       "      <td>200395687</td>\n",
       "      <td>[central, bank, war, started, good, stock, ecb...</td>\n",
       "    </tr>\n",
       "    <tr>\n",
       "      <th>32</th>\n",
       "      <td>221547</td>\n",
       "      <td>NIO</td>\n",
       "      <td>6 Stocks To Watch  Nivida Could Be Falling</td>\n",
       "      <td>opinion</td>\n",
       "      <td>6 Stocks To Watch  Nivida Could Be Falling 6 S...</td>\n",
       "      <td>2019-03-06</td>\n",
       "      <td>Michael Kramer</td>\n",
       "      <td>https://www.investing.com/analysis/6-stocks-to...</td>\n",
       "      <td>200394931</td>\n",
       "      <td>[stock, watch, nivida, could, falling, stock, ...</td>\n",
       "    </tr>\n",
       "    <tr>\n",
       "      <th>57</th>\n",
       "      <td>221572</td>\n",
       "      <td>NIO</td>\n",
       "      <td>Stocks   Dow Drops Nearly 400 Points as Apple ...</td>\n",
       "      <td>news</td>\n",
       "      <td>Stocks   Dow Drops Nearly 400 Points as Apple ...</td>\n",
       "      <td>2018-11-19</td>\n",
       "      <td>Investing.com</td>\n",
       "      <td>https://www.investing.com/news/stock-market-ne...</td>\n",
       "      <td>1694042</td>\n",
       "      <td>[stock, dow, drop, nearly, point, apple, lead,...</td>\n",
       "    </tr>\n",
       "    <tr>\n",
       "      <th>78</th>\n",
       "      <td>221593</td>\n",
       "      <td>UBER</td>\n",
       "      <td>The Zacks Analyst Blog Highlights  Advanced Mi...</td>\n",
       "      <td>opinion</td>\n",
       "      <td>The Zacks Analyst Blog Highlights  Advanced Mi...</td>\n",
       "      <td>2020-01-12</td>\n",
       "      <td>Zacks Investment Research</td>\n",
       "      <td>https://www.investing.com/analysis/the-zacks-a...</td>\n",
       "      <td>200498277</td>\n",
       "      <td>[zacks, analyst, blog, highlight, advanced, mi...</td>\n",
       "    </tr>\n",
       "    <tr>\n",
       "      <th>82</th>\n",
       "      <td>221597</td>\n",
       "      <td>UBER</td>\n",
       "      <td>The Best Of CES 2020  Revised</td>\n",
       "      <td>opinion</td>\n",
       "      <td>The Best Of CES 2020  Revised  With 4 500 comp...</td>\n",
       "      <td>2020-01-16</td>\n",
       "      <td>Zacks Investment Research</td>\n",
       "      <td>https://www.investing.com/analysis/the-best-of...</td>\n",
       "      <td>200499164</td>\n",
       "      <td>[best, ce, revised, company, bringing, innovat...</td>\n",
       "    </tr>\n",
       "  </tbody>\n",
       "</table>\n",
       "</div>"
      ],
      "text/plain": [
       "        id ticker                                              title category  \\\n",
       "24  221539    NIO  A Central Bank War Just Started And Its Good F...  opinion   \n",
       "32  221547    NIO         6 Stocks To Watch  Nivida Could Be Falling  opinion   \n",
       "57  221572    NIO  Stocks   Dow Drops Nearly 400 Points as Apple ...     news   \n",
       "78  221593   UBER  The Zacks Analyst Blog Highlights  Advanced Mi...  opinion   \n",
       "82  221597   UBER                     The Best Of CES 2020  Revised   opinion   \n",
       "\n",
       "                                              content release_date  \\\n",
       "24  A Central Bank War Just Started And Its Good F...   2019-03-07   \n",
       "32  6 Stocks To Watch  Nivida Could Be Falling 6 S...   2019-03-06   \n",
       "57  Stocks   Dow Drops Nearly 400 Points as Apple ...   2018-11-19   \n",
       "78  The Zacks Analyst Blog Highlights  Advanced Mi...   2020-01-12   \n",
       "82  The Best Of CES 2020  Revised  With 4 500 comp...   2020-01-16   \n",
       "\n",
       "                     provider  \\\n",
       "24             Michael Kramer   \n",
       "32             Michael Kramer   \n",
       "57              Investing.com   \n",
       "78  Zacks Investment Research   \n",
       "82  Zacks Investment Research   \n",
       "\n",
       "                                                  url  article_id  \\\n",
       "24  https://www.investing.com/analysis/a-central-b...   200395687   \n",
       "32  https://www.investing.com/analysis/6-stocks-to...   200394931   \n",
       "57  https://www.investing.com/news/stock-market-ne...     1694042   \n",
       "78  https://www.investing.com/analysis/the-zacks-a...   200498277   \n",
       "82  https://www.investing.com/analysis/the-best-of...   200499164   \n",
       "\n",
       "                                 preprocessed_content  \n",
       "24  [central, bank, war, started, good, stock, ecb...  \n",
       "32  [stock, watch, nivida, could, falling, stock, ...  \n",
       "57  [stock, dow, drop, nearly, point, apple, lead,...  \n",
       "78  [zacks, analyst, blog, highlight, advanced, mi...  \n",
       "82  [best, ce, revised, company, bringing, innovat...  "
      ]
     },
     "execution_count": 19,
     "metadata": {},
     "output_type": "execute_result"
    }
   ],
   "source": [
    "train_data_v1.head()"
   ]
  },
  {
   "cell_type": "code",
   "execution_count": 20,
   "metadata": {},
   "outputs": [],
   "source": [
    "# train_data_head = train_data_v1.head()\n",
    "\n",
    "# # Specify the filename for the Excel file\n",
    "# output_file = 'train_data_v1_head.xlsx'\n",
    "\n",
    "# # Save to Excel\n",
    "# train_data_head.to_excel(output_file, index=False)"
   ]
  },
  {
   "cell_type": "markdown",
   "metadata": {},
   "source": [
    "# Helper functions"
   ]
  },
  {
   "cell_type": "code",
   "execution_count": 21,
   "metadata": {},
   "outputs": [],
   "source": [
    "def compute_coherence_values_lda(train_data_list, dictionary, max_topics=20):\n",
    "    \"\"\"\n",
    "    Compute coherence values for different numbers of topics in LDA model.\n",
    "\n",
    "    Parameters:\n",
    "    - train_data_list: List of tokenized documents.\n",
    "    - dictionary: Gensim dictionary.\n",
    "    - max_topics: Maximum number of topics to test.\n",
    "\n",
    "    Returns:\n",
    "    - coherence_values: List of coherence values for each number of topics.\n",
    "    - optimal_num_topics: The optimal number of topics based on maximum coherence.\n",
    "    \"\"\"\n",
    "\n",
    "    # Create Document-Term Matrix\n",
    "    doc_term_matrix = [dictionary.doc2bow(doc) for doc in train_data_list]\n",
    "\n",
    "    coherence_values = []\n",
    "    \n",
    "    # Iterate over different numbers of topics\n",
    "    for num_topics in range(2, max_topics + 1):\n",
    "        lda_model = gensim.models.LdaModel(\n",
    "            doc_term_matrix,\n",
    "            num_topics=num_topics,\n",
    "            id2word=dictionary,\n",
    "            random_state=42,\n",
    "            passes=10,\n",
    "            alpha='auto'\n",
    "        )\n",
    "\n",
    "        # Compute coherence score\n",
    "        coherence_model_lda = CoherenceModel(model=lda_model, texts=train_data_list, dictionary=dictionary, coherence='c_v')\n",
    "        coherence_values.append(coherence_model_lda.get_coherence())\n",
    "\n",
    "    # Find the optimal number of topics (maximum coherence)\n",
    "    optimal_num_topics = coherence_values.index(max(coherence_values)) + 2  # +2 because range starts from 2\n",
    "\n",
    "    return coherence_values, optimal_num_topics"
   ]
  },
  {
   "cell_type": "code",
   "execution_count": 22,
   "metadata": {},
   "outputs": [],
   "source": [
    "def plot_coherence_scores_lda(coherence_values, max_topics):\n",
    "    \"\"\"\n",
    "    Plot the coherence scores to visualize the elbow method.\n",
    "\n",
    "    Parameters:\n",
    "    - coherence_values: List of coherence values.\n",
    "    - max_topics: Maximum number of topics tested.\n",
    "    \"\"\"\n",
    "    x = range(2, max_topics + 1)\n",
    "    plt.figure(figsize=(10, 6))\n",
    "    plt.plot(x, coherence_values, marker='o')\n",
    "    plt.title('Coherence Scores vs. Number of Topics')\n",
    "    plt.xlabel('Number of Topics')\n",
    "    plt.ylabel('Coherence Score')\n",
    "    plt.xticks(x)\n",
    "    plt.grid()\n",
    "    plt.show()"
   ]
  },
  {
   "cell_type": "markdown",
   "metadata": {},
   "source": [
    "## Train Topic Models"
   ]
  },
  {
   "cell_type": "code",
   "execution_count": 37,
   "metadata": {},
   "outputs": [],
   "source": [
    "def train_topic_model(train_data, model_type='LDA', max_topics=20):\n",
    "    \"\"\"\n",
    "    Train a topic model on the given training data.\n",
    "\n",
    "    Parameters:\n",
    "    - train_data: list of str, the text to train the model on\n",
    "    - model_type: str, the type of model to train ('LDA', 'FLSA-W', 'BERTopic')\n",
    "    - max_topics: int, the maximum number of topics to test\n",
    "\n",
    "    Returns:\n",
    "    - model: the trained model\n",
    "    - topics: the topics generated by the model\n",
    "    \"\"\"\n",
    "\n",
    "    train_data_list_string = [' '.join(tokens) for tokens in train_data['preprocessed_content']]\n",
    "    train_data_list_tokens = train_data['preprocessed_content'].tolist()  # This should already be a list of lists\n",
    "\n",
    "\n",
    "    if model_type == 'LDA':\n",
    "        # Create Gensim dictionary\n",
    "        dictionary = corpora.Dictionary(train_data_list_tokens)\n",
    "        \n",
    "        # Compute coherence values and find optimal number of topics\n",
    "        coherence_values, optimal_num_topics = compute_coherence_values_lda(train_data_list_tokens, dictionary, max_topics)\n",
    "\n",
    "        # Plot coherence scores\n",
    "        plot_coherence_scores_lda(coherence_values, max_topics)\n",
    "\n",
    "        # Create Document-Term Matrix\n",
    "        doc_term_matrix = [dictionary.doc2bow(doc) for doc in train_data_list_tokens]\n",
    "\n",
    "        # Train LDA model with optimal number of topics\n",
    "        lda_model = gensim.models.LdaModel(\n",
    "            doc_term_matrix,\n",
    "            num_topics=optimal_num_topics,\n",
    "            id2word=dictionary,\n",
    "            random_state=42,\n",
    "            passes=10,\n",
    "            alpha='auto'\n",
    "        )\n",
    "\n",
    "        # Get topics (top words in each topic)\n",
    "        topics = lda_model.print_topics(num_words=10)\n",
    "\n",
    "        return lda_model, topics\n",
    "    \n",
    "    elif model_type == 'FLSA-W':\n",
    "        best_flsa_w_coherence = -1\n",
    "        best_flsa_w_model = None\n",
    "        best_flsa_w_topics = None\n",
    "        flsa_w_coherence_scores = []\n",
    "        flsa_w_topic_nums = []\n",
    "\n",
    "        for num_topics in range(2, max_topics + 1):\n",
    "            flsa_w_model = FLSA_W(\n",
    "                input_file=train_data_list_tokens,\n",
    "                num_topics=num_topics,\n",
    "                num_words=10\n",
    "            )\n",
    "            pwgt, ptgd = flsa_w_model.get_matrices()  # This trains the model\n",
    "            coherence_score = flsa_w_model.get_coherence_score()\n",
    "            flsa_w_coherence_scores.append(coherence_score)\n",
    "            flsa_w_topic_nums.append(num_topics)\n",
    "\n",
    "            if coherence_score > best_flsa_w_coherence:\n",
    "                best_flsa_w_coherence = coherence_score\n",
    "                best_flsa_w_model = flsa_w_model\n",
    "                best_flsa_w_topics = flsa_w_model.show_topics(representation='words')\n",
    "\n",
    "        return best_flsa_w_model, best_flsa_w_topics, (flsa_w_topic_nums, flsa_w_coherence_scores)\n",
    "    \n",
    "    elif model_type == 'BERTopic':\n",
    "        # Train BERTopic model\n",
    "        topic_model = BERTopic(nr_topics=10)\n",
    "        topics, _ = topic_model.fit_transform(train_data_list_string)\n",
    "        \n",
    "        return topic_model, topics\n",
    "    \n",
    "    else:\n",
    "        raise ValueError(\"Invalid model_type. Choose from 'LDA', 'FLSA-W', 'BERTopic'.\")"
   ]
  },
  {
   "cell_type": "markdown",
   "metadata": {},
   "source": [
    "## Iteration 1"
   ]
  },
  {
   "cell_type": "code",
   "execution_count": 24,
   "metadata": {},
   "outputs": [],
   "source": [
    "def print_bertopic_topics(topic_model):\n",
    "    \"\"\"\n",
    "    Print topics generated by BERTopic.\n",
    "    \n",
    "    Parameters:\n",
    "    - topic_model: the trained BERTopic model\n",
    "    \"\"\"\n",
    "    topics = topic_model.get_topics()\n",
    "    for topic_num, words in topics.items():\n",
    "        # Ignore the '-1' topic, which is typically noise in BERTopic\n",
    "        if topic_num == -1:\n",
    "            continue\n",
    "        print(f\"Topic {topic_num}: {', '.join([word[0] for word in words])}\")\n"
   ]
  },
  {
   "cell_type": "markdown",
   "metadata": {},
   "source": [
    "### LDA"
   ]
  },
  {
   "cell_type": "code",
   "execution_count": 25,
   "metadata": {},
   "outputs": [
    {
     "data": {
      "image/png": "[encoded data removed]",
      "text/plain": [
       "<Figure size 1000x600 with 1 Axes>"
      ]
     },
     "metadata": {},
     "output_type": "display_data"
    },
    {
     "name": "stdout",
     "output_type": "stream",
     "text": [
      "(0, '0.011*\"stock\" + 0.008*\"market\" + 0.006*\"company\" + 0.006*\"time\" + 0.006*\"like\" + 0.006*\"day\" + 0.005*\"one\" + 0.005*\"tech\" + 0.005*\"nasdaq\" + 0.004*\"trading\"')\n",
      "(1, '0.013*\"market\" + 0.011*\"week\" + 0.009*\"year\" + 0.007*\"could\" + 0.007*\"last\" + 0.006*\"rate\" + 0.006*\"investor\" + 0.006*\"might\" + 0.006*\"fed\" + 0.005*\"month\"')\n",
      "(2, '0.022*\"year\" + 0.022*\"stock\" + 0.017*\"earnings\" + 0.016*\"industry\" + 0.015*\"zacks\" + 0.014*\"estimate\" + 0.013*\"nasdaq\" + 0.011*\"share\" + 0.011*\"company\" + 0.010*\"investor\"')\n",
      "(3, '0.035*\"nvidia\" + 0.016*\"amd\" + 0.015*\"year\" + 0.013*\"share\" + 0.012*\"chip\" + 0.012*\"revenue\" + 0.012*\"intel\" + 0.010*\"company\" + 0.010*\"gaming\" + 0.010*\"analyst\"')\n",
      "(4, '0.015*\"company\" + 0.011*\"technology\" + 0.011*\"nasdaq\" + 0.009*\"intel\" + 0.009*\"driving\" + 0.008*\"car\" + 0.008*\"nvidia\" + 0.006*\"new\" + 0.006*\"also\" + 0.006*\"apple\"')\n",
      "(5, '0.015*\"china\" + 0.011*\"said\" + 0.010*\"percent\" + 0.008*\"trade\" + 0.007*\"market\" + 0.007*\"company\" + 0.007*\"billion\" + 0.006*\"year\" + 0.006*\"trump\" + 0.006*\"chinese\"')\n",
      "(6, '0.046*\"earnings\" + 0.021*\"revenue\" + 0.018*\"growth\" + 0.017*\"estimate\" + 0.016*\"index\" + 0.016*\"eps\" + 0.015*\"year\" + 0.014*\"result\" + 0.013*\"percent\" + 0.013*\"expected\"')\n",
      "(7, '0.038*\"nasdaq\" + 0.025*\"stock\" + 0.022*\"nyse\" + 0.016*\"nvidia\" + 0.014*\"share\" + 0.014*\"day\" + 0.012*\"trade\" + 0.011*\"index\" + 0.011*\"inc\" + 0.010*\"fell\"')\n",
      "(8, '0.031*\"quarter\" + 0.029*\"year\" + 0.021*\"earnings\" + 0.021*\"company\" + 0.020*\"zacks\" + 0.020*\"revenue\" + 0.018*\"million\" + 0.014*\"estimate\" + 0.012*\"consensus\" + 0.011*\"stock\"')\n",
      "(9, '0.034*\"etf\" + 0.027*\"semiconductor\" + 0.023*\"fund\" + 0.014*\"nasdaq\" + 0.013*\"technology\" + 0.012*\"stock\" + 0.011*\"company\" + 0.010*\"top\" + 0.010*\"sector\" + 0.009*\"year\"')\n",
      "(10, '0.023*\"zacks\" + 0.019*\"company\" + 0.015*\"stock\" + 0.013*\"growth\" + 0.011*\"market\" + 0.008*\"year\" + 0.008*\"rank\" + 0.008*\"nasdaq\" + 0.007*\"product\" + 0.007*\"technology\"')\n",
      "(11, '0.032*\"zacks\" + 0.029*\"stock\" + 0.027*\"investment\" + 0.014*\"research\" + 0.013*\"company\" + 0.013*\"earnings\" + 0.012*\"year\" + 0.010*\"security\" + 0.010*\"market\" + 0.009*\"growth\"')\n",
      "(12, '0.033*\"bitcoin\" + 0.029*\"amd\" + 0.013*\"graphic\" + 0.013*\"blockchain\" + 0.012*\"cryptocurrency\" + 0.012*\"mining\" + 0.010*\"card\" + 0.009*\"radeon\" + 0.008*\"gpu\" + 0.008*\"cryptocurrencies\"')\n",
      "(13, '0.026*\"stock\" + 0.013*\"week\" + 0.012*\"nasdaq\" + 0.011*\"market\" + 0.009*\"zacks\" + 0.008*\"today\" + 0.007*\"time\" + 0.006*\"portfolio\" + 0.005*\"trader\" + 0.005*\"earnings\"')\n",
      "(14, '0.013*\"market\" + 0.010*\"gained\" + 0.009*\"climbed\" + 0.009*\"italy\" + 0.009*\"rallied\" + 0.009*\"kospi\" + 0.009*\"dax\" + 0.009*\"dollar\" + 0.008*\"australian\" + 0.008*\"soared\"')\n",
      "(15, '0.065*\"inc\" + 0.038*\"nasdaq\" + 0.025*\"nyse\" + 0.015*\"corporation\" + 0.015*\"share\" + 0.011*\"stock\" + 0.010*\"million\" + 0.010*\"day\" + 0.009*\"traded\" + 0.009*\"target\"')\n"
     ]
    }
   ],
   "source": [
    "LDA_model, LDA_topics = train_topic_model(train_data_v1, model_type='LDA', max_topics=20)\n",
    "\n",
    "# Print topics\n",
    "for topic in LDA_topics:\n",
    "    print(topic)"
   ]
  },
  {
   "cell_type": "markdown",
   "metadata": {},
   "source": [
    "### FLSA-W"
   ]
  },
  {
   "cell_type": "code",
   "execution_count": 38,
   "metadata": {},
   "outputs": [
    {
     "name": "stdout",
     "output_type": "stream",
     "text": [
      "FLSA-W Topics:\n",
      "\n",
      "Topic 1: gmt, uncover, performer, ounce, esp, unchanged, traded, nasdaq, company, towards\n",
      "Topic 2: book, evolution, mind, richard, science, certainty, modern, professor, knowledge, unstoppable\n",
      "Topic 3: premarket, company, nasdaq, market, stock, also, troy, new, share, year\n",
      "Topic 4: nvda, nvidia, corporation, nasdaq, inc, com, investing, rank, stock, broader\n"
     ]
    }
   ],
   "source": [
    "# Train FLSA-W model on the first version of the preprocessed dataset\n",
    "flsa_w_model, flsa_w_topics, (flsa_w_topic_nums, flsa_w_coherence_scores) = train_topic_model(train_data_v1, model_type='FLSA-W', max_topics=10)\n",
    "\n",
    "# Print topics with improved formatting\n",
    "print(\"FLSA-W Topics:\\n\")\n",
    "for i, topic in enumerate(flsa_w_topics):\n",
    "    print(f\"Topic {i + 1}: {', '.join(topic)}\")"
   ]
  },
  {
   "cell_type": "code",
   "execution_count": 29,
   "metadata": {},
   "outputs": [],
   "source": [
    "def plot_elbow_curve(topic_nums, coherence_scores):\n",
    "    \"\"\"\n",
    "    Create an elbow plot for the coherence scores vs. number of topics.\n",
    "\n",
    "    Parameters:\n",
    "    - topic_nums: list of number of topics tested.\n",
    "    - coherence_scores: list of coherence scores for each number of topics.\n",
    "    \"\"\"\n",
    "    plt.figure(figsize=(8, 5))\n",
    "    plt.plot(topic_nums, coherence_scores, marker='o')\n",
    "    plt.title('FLSA-W Elbow Plot: Number of Topics vs Coherence Score')\n",
    "    plt.xlabel('Number of Topics')\n",
    "    plt.ylabel('Coherence Score')\n",
    "    plt.grid(True)\n",
    "    plt.show()"
   ]
  },
  {
   "cell_type": "code",
   "execution_count": 34,
   "metadata": {},
   "outputs": [
    {
     "data": {
      "image/png": "[encoded data removed]",
      "text/plain": [
       "<Figure size 800x500 with 1 Axes>"
      ]
     },
     "metadata": {},
     "output_type": "display_data"
    }
   ],
   "source": [
    "# Plot the elbow curve\n",
    "plot_elbow_curve(flsa_w_topic_nums, flsa_w_coherence_scores)\n"
   ]
  },
  {
   "cell_type": "markdown",
   "metadata": {},
   "source": [
    "### BERTopic"
   ]
  },
  {
   "cell_type": "code",
   "execution_count": 69,
   "metadata": {},
   "outputs": [],
   "source": [
    "# Train BERTopic model on the first version of the preprocessed dataset\n",
    "# num_topics is maximum number of topics rather than a fixed number of topics\n",
    "bertopic_model, bertopic_topics = train_topic_model(train_data_v1, model_type='BERTopic', max_topics=10)\n",
    "\n"
   ]
  },
  {
   "cell_type": "code",
   "execution_count": 54,
   "metadata": {},
   "outputs": [
    {
     "name": "stdout",
     "output_type": "stream",
     "text": [
      "BERTopic Topics:\n",
      "Topic 0: year, company, zacks, quarter, stock, revenue, earnings, nasdaq, million, growth\n",
      "Topic 1: nasdaq, stock, nyse, week, market, trade, index, day, inc, year\n",
      "Topic 2: nvidia, year, gaming, revenue, company, quarter, share, nvda, billion, nasdaq\n",
      "Topic 3: driving, car, vehicle, self, autonomous, technology, company, ai, system, nvidia\n",
      "Topic 4: traded, nvidia, day, seven, lowest, gmt, highest, exchange, volume, session\n",
      "Topic 5: earnings, growth, estimate, zacks, stock, eps, period, company, investment, quarter\n",
      "Topic 6: huawei, said, qualcomm, china, company, chinese, technology, patent, commission, chip\n",
      "Topic 7: facebook, user, ad, company, platform, video, zacks, nasdaq, rank, twitter\n",
      "Topic 8: rallied, climbed, soared, australian, gained, italy, market, dollar, step, towards\n"
     ]
    }
   ],
   "source": [
    "# Print the generated BERTopic topics\n",
    "print(\"BERTopic Topics:\")\n",
    "print_bertopic_topics(bertopic_model)"
   ]
  },
  {
   "cell_type": "markdown",
   "metadata": {},
   "source": [
    "## Iteration 2"
   ]
  },
  {
   "cell_type": "markdown",
   "metadata": {},
   "source": [
    "## Iteration 3"
   ]
  },
  {
   "cell_type": "markdown",
   "metadata": {},
   "source": [
    "## Iteration ...."
   ]
  },
  {
   "cell_type": "markdown",
   "metadata": {},
   "source": [
    "## Evaluation"
   ]
  },
  {
   "cell_type": "markdown",
   "metadata": {},
   "source": [
    "### Qualitative"
   ]
  },
  {
   "cell_type": "markdown",
   "metadata": {},
   "source": [
    "### Quantitative"
   ]
  },
  {
   "cell_type": "markdown",
   "metadata": {},
   "source": [
    "## Output of Final Topic Model"
   ]
  }
 ],
 "metadata": {
  "kernelspec": {
   "display_name": "JADS-NLP",
   "language": "python",
   "name": "python3"
  },
  "language_info": {
   "codemirror_mode": {
    "name": "ipython",
    "version": 3
   },
   "file_extension": ".py",
   "mimetype": "text/x-python",
   "name": "python",
   "nbconvert_exporter": "python",
   "pygments_lexer": "ipython3",
   "version": "3.12.4"
  }
 },
 "nbformat": 4,
 "nbformat_minor": 2
}

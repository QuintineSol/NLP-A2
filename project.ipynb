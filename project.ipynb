{
 "cells": [
  {
   "cell_type": "markdown",
   "metadata": {},
   "source": [
    "# NLP - Assignment 2"
   ]
  },
  {
   "cell_type": "markdown",
   "metadata": {},
   "source": [
    "## Imports"
   ]
  },
  {
   "cell_type": "code",
   "execution_count": 1,
   "metadata": {},
   "outputs": [
    {
     "name": "stderr",
     "output_type": "stream",
     "text": [
      "c:\\Users\\bravo\\anaconda3\\envs\\JADS-NLP\\Lib\\site-packages\\tqdm\\auto.py:21: TqdmWarning: IProgress not found. Please update jupyter and ipywidgets. See https://ipywidgets.readthedocs.io/en/stable/user_install.html\n",
      "  from .autonotebook import tqdm as notebook_tqdm\n"
     ]
    }
   ],
   "source": [
    "import pandas as pd\n",
    "from sklearn.feature_extraction.text import CountVectorizer\n",
    "from sklearn.decomposition import LatentDirichletAllocation\n",
    "from bertopic import BERTopic\n",
    "import numpy as np\n",
    "import re\n",
    "import nltk\n",
    "from nltk.corpus import stopwords\n",
    "from nltk.tokenize import word_tokenize\n",
    "from nltk.stem import WordNetLemmatizer, PorterStemmer\n",
    "from FuzzyTM import FLSA_W\n",
    "import matplotlib.pyplot as plt"
   ]
  },
  {
   "cell_type": "markdown",
   "metadata": {},
   "source": [
    "## Preprocess Data"
   ]
  },
  {
   "cell_type": "code",
   "execution_count": 2,
   "metadata": {},
   "outputs": [
    {
     "data": {
      "text/html": [
       "<div>\n",
       "<style scoped>\n",
       "    .dataframe tbody tr th:only-of-type {\n",
       "        vertical-align: middle;\n",
       "    }\n",
       "\n",
       "    .dataframe tbody tr th {\n",
       "        vertical-align: top;\n",
       "    }\n",
       "\n",
       "    .dataframe thead th {\n",
       "        text-align: right;\n",
       "    }\n",
       "</style>\n",
       "<table border=\"1\" class=\"dataframe\">\n",
       "  <thead>\n",
       "    <tr style=\"text-align: right;\">\n",
       "      <th></th>\n",
       "      <th>id</th>\n",
       "      <th>ticker</th>\n",
       "      <th>title</th>\n",
       "      <th>category</th>\n",
       "      <th>content</th>\n",
       "      <th>release_date</th>\n",
       "      <th>provider</th>\n",
       "      <th>url</th>\n",
       "      <th>article_id</th>\n",
       "    </tr>\n",
       "  </thead>\n",
       "  <tbody>\n",
       "    <tr>\n",
       "      <th>0</th>\n",
       "      <td>221515</td>\n",
       "      <td>NIO</td>\n",
       "      <td>Why Shares of Chinese Electric Car Maker NIO A...</td>\n",
       "      <td>news</td>\n",
       "      <td>What s happening\\nShares of Chinese electric c...</td>\n",
       "      <td>2020-01-15</td>\n",
       "      <td>The Motley Fool</td>\n",
       "      <td>https://invst.ly/pigqi</td>\n",
       "      <td>2060327</td>\n",
       "    </tr>\n",
       "    <tr>\n",
       "      <th>1</th>\n",
       "      <td>221516</td>\n",
       "      <td>NIO</td>\n",
       "      <td>NIO only consumer gainer  Workhorse Group amon...</td>\n",
       "      <td>news</td>\n",
       "      <td>Gainers  NIO  NYSE NIO   7  \\nLosers  MGP Ingr...</td>\n",
       "      <td>2020-01-18</td>\n",
       "      <td>Seeking Alpha</td>\n",
       "      <td>https://invst.ly/pje9c</td>\n",
       "      <td>2062196</td>\n",
       "    </tr>\n",
       "    <tr>\n",
       "      <th>2</th>\n",
       "      <td>221517</td>\n",
       "      <td>NIO</td>\n",
       "      <td>NIO leads consumer gainers  Beyond Meat and Ma...</td>\n",
       "      <td>news</td>\n",
       "      <td>Gainers  NIO  NYSE NIO   14   Village Farms In...</td>\n",
       "      <td>2020-01-15</td>\n",
       "      <td>Seeking Alpha</td>\n",
       "      <td>https://invst.ly/pifmv</td>\n",
       "      <td>2060249</td>\n",
       "    </tr>\n",
       "    <tr>\n",
       "      <th>3</th>\n",
       "      <td>221518</td>\n",
       "      <td>NIO</td>\n",
       "      <td>NIO  NVAX among premarket gainers</td>\n",
       "      <td>news</td>\n",
       "      <td>Cemtrex  NASDAQ CETX   85  after FY results \\n...</td>\n",
       "      <td>2020-01-15</td>\n",
       "      <td>Seeking Alpha</td>\n",
       "      <td>https://invst.ly/picu8</td>\n",
       "      <td>2060039</td>\n",
       "    </tr>\n",
       "    <tr>\n",
       "      <th>4</th>\n",
       "      <td>221519</td>\n",
       "      <td>NIO</td>\n",
       "      <td>PLUG  NIO among premarket gainers</td>\n",
       "      <td>news</td>\n",
       "      <td>aTyr Pharma  NASDAQ LIFE   63  on Kyorin Pharm...</td>\n",
       "      <td>2020-01-06</td>\n",
       "      <td>Seeking Alpha</td>\n",
       "      <td>https://seekingalpha.com/news/3529772-plug-nio...</td>\n",
       "      <td>2053096</td>\n",
       "    </tr>\n",
       "  </tbody>\n",
       "</table>\n",
       "</div>"
      ],
      "text/plain": [
       "       id ticker                                              title category  \\\n",
       "0  221515    NIO  Why Shares of Chinese Electric Car Maker NIO A...     news   \n",
       "1  221516    NIO  NIO only consumer gainer  Workhorse Group amon...     news   \n",
       "2  221517    NIO  NIO leads consumer gainers  Beyond Meat and Ma...     news   \n",
       "3  221518    NIO                  NIO  NVAX among premarket gainers     news   \n",
       "4  221519    NIO                  PLUG  NIO among premarket gainers     news   \n",
       "\n",
       "                                             content release_date  \\\n",
       "0  What s happening\\nShares of Chinese electric c...   2020-01-15   \n",
       "1  Gainers  NIO  NYSE NIO   7  \\nLosers  MGP Ingr...   2020-01-18   \n",
       "2  Gainers  NIO  NYSE NIO   14   Village Farms In...   2020-01-15   \n",
       "3  Cemtrex  NASDAQ CETX   85  after FY results \\n...   2020-01-15   \n",
       "4  aTyr Pharma  NASDAQ LIFE   63  on Kyorin Pharm...   2020-01-06   \n",
       "\n",
       "          provider                                                url  \\\n",
       "0  The Motley Fool                             https://invst.ly/pigqi   \n",
       "1    Seeking Alpha                             https://invst.ly/pje9c   \n",
       "2    Seeking Alpha                             https://invst.ly/pifmv   \n",
       "3    Seeking Alpha                             https://invst.ly/picu8   \n",
       "4    Seeking Alpha  https://seekingalpha.com/news/3529772-plug-nio...   \n",
       "\n",
       "   article_id  \n",
       "0     2060327  \n",
       "1     2062196  \n",
       "2     2060249  \n",
       "3     2060039  \n",
       "4     2053096  "
      ]
     },
     "execution_count": 2,
     "metadata": {},
     "output_type": "execute_result"
    }
   ],
   "source": [
    "path = \"./us_equities_news_dataset.csv\"\n",
    "\n",
    "# Load the news dataset\n",
    "news_dataset = pd.read_csv(\"./us_equities_news_dataset.csv\")\n",
    "news_dataset.head()"
   ]
  },
  {
   "cell_type": "code",
   "execution_count": 3,
   "metadata": {},
   "outputs": [],
   "source": [
    "# Filter dataset to only include articles with 'Nvidia' in the content\n",
    "nvidia_dataset = news_dataset[news_dataset['content'].str.contains('Nvidia', case=False, na=False)]\n"
   ]
  },
  {
   "cell_type": "code",
   "execution_count": 4,
   "metadata": {},
   "outputs": [],
   "source": [
    "lemmatizer = WordNetLemmatizer()\n",
    "stemmer = PorterStemmer()\n",
    "stop_words = set(stopwords.words('english'))\n",
    "\n",
    "def preprocess_text(text, \n",
    "                    remove_punctuation=True, \n",
    "                    remove_stopwords=True, \n",
    "                    lemmatize=False, \n",
    "                    stem=False, \n",
    "                    remove_short_words=False, \n",
    "                    remove_rare_words=False, \n",
    "                    remove_numbers=True, \n",
    "                    min_word_length=2):\n",
    "    \"\"\"\n",
    "    Advanced preprocessing function that applies different levels of text processing.\n",
    "    \n",
    "    Parameters:\n",
    "    - text: The text to preprocess.\n",
    "    - remove_punctuation: Whether to remove punctuation from the text.\n",
    "    - remove_stopwords: Whether to remove common stopwords.\n",
    "    - lemmatize: Whether to apply lemmatization to reduce words to their root form.\n",
    "    - stem: Whether to apply stemming to reduce words to their base form.\n",
    "    - remove_short_words: Whether to remove short words from the text.\n",
    "    - remove_rare_words: Whether to remove rare words based on the dataset distribution.\n",
    "    - remove_numbers: Whether to remove numbers from the text.\n",
    "    - min_word_length: The minimum length of words to keep in the text.\n",
    "    \n",
    "    Returns:\n",
    "    - Preprocessed text as tokens.\n",
    "    \"\"\"\n",
    "    \n",
    "    # Tokenization\n",
    "    tokens = word_tokenize(text)\n",
    "    \n",
    "    # Convert to lowercase\n",
    "    tokens = [token.lower() for token in tokens]\n",
    "    \n",
    "    # Remove numbers if specified\n",
    "    if remove_numbers:\n",
    "        tokens = [re.sub(r'\\d+', '', token) for token in tokens]\n",
    "    \n",
    "    # Remove non-alphabetic characters (punctuation)\n",
    "    if remove_punctuation:\n",
    "        tokens = [re.sub(r'[^a-zA-Z]', '', token) for token in tokens]\n",
    "    \n",
    "    # Remove stopwords\n",
    "    if remove_stopwords:\n",
    "        tokens = [token for token in tokens if token not in stop_words]\n",
    "    \n",
    "    # Lemmatization\n",
    "    if lemmatize:\n",
    "        tokens = [lemmatizer.lemmatize(token) for token in tokens]\n",
    "    \n",
    "    # Stemming (alternative to lemmatization)\n",
    "    if stem:\n",
    "        tokens = [stemmer.stem(token) for token in tokens]\n",
    "    \n",
    "    # Remove short words\n",
    "    if remove_short_words:\n",
    "        tokens = [token for token in tokens if len(token) >= min_word_length]\n",
    "    \n",
    "    return tokens"
   ]
  },
  {
   "cell_type": "code",
   "execution_count": 5,
   "metadata": {},
   "outputs": [],
   "source": [
    "# Concatenate title and content columns\n",
    "nvidia_dataset['content'] = nvidia_dataset['title'] + ' ' + nvidia_dataset['content']"
   ]
  },
  {
   "cell_type": "code",
   "execution_count": 6,
   "metadata": {},
   "outputs": [],
   "source": [
    "def apply_preprocessing(nvidia_dataset, version='v1'):\n",
    "    \"\"\"\n",
    "    Apply different levels of preprocessing to the dataset.\n",
    "    \n",
    "    Parameters:\n",
    "    - nvidia_dataset: The Nvidia articles with a 'content' column.\n",
    "    - version: The version of preprocessing to apply ('v1', 'v2', 'v3', or 'v4').\n",
    "    \n",
    "    Returns:\n",
    "    - DataFrame with the original content and the preprocessed content in 'preprocessed_content' column.\n",
    "    \"\"\"\n",
    "    \n",
    "    if version == 'v1':\n",
    "        # Basic tokenization and lowercasing\n",
    "        nvidia_dataset['preprocessed_content'] = nvidia_dataset['content'].apply(lambda x: preprocess_text(\n",
    "            x, remove_punctuation=False, remove_stopwords=False, \n",
    "            lemmatize=False, remove_numbers=False, stem=False, \n",
    "            remove_short_words=False\n",
    "        ))\n",
    "    \n",
    "    elif version == 'v2':\n",
    "        # Remove punctuation, stopwords, and numbers, but no lemmatization/stemming\n",
    "        nvidia_dataset['preprocessed_content'] = nvidia_dataset['content'].apply(lambda x: preprocess_text(\n",
    "            x, remove_punctuation=True, remove_stopwords=True, \n",
    "            lemmatize=False, remove_numbers=False, stem=False, \n",
    "            remove_short_words=False\n",
    "        ))\n",
    "    \n",
    "    elif version == 'v3':\n",
    "        # Advanced preprocessing with stemming, number removal, short words removal\n",
    "        nvidia_dataset['preprocessed_content'] = nvidia_dataset['content'].apply(lambda x: preprocess_text(\n",
    "            x, remove_punctuation=True, remove_stopwords=True, \n",
    "            lemmatize=False, stem=True, remove_numbers=True, \n",
    "            remove_short_words=True, min_word_length=2\n",
    "        ))\n",
    "    \n",
    "    elif version == 'v4':\n",
    "        # Full preprocessing with lemmatization instead of stemming, number removal, and short words removal\n",
    "        nvidia_dataset['preprocessed_content'] = nvidia_dataset['content'].apply(lambda x: preprocess_text(\n",
    "            x, remove_punctuation=True, remove_stopwords=True, \n",
    "            lemmatize=True, remove_numbers=True, stem=False, \n",
    "            remove_short_words=True, min_word_length=2\n",
    "        ))\n",
    "    \n",
    "    else:\n",
    "        raise ValueError(\"Invalid preprocessing version. Choose from 'v1', 'v2', 'v3', or 'v4'.\")\n",
    "    \n",
    "    # Return the DataFrame with original and preprocessed content\n",
    "    return nvidia_dataset\n"
   ]
  },
  {
   "cell_type": "code",
   "execution_count": 7,
   "metadata": {},
   "outputs": [],
   "source": [
    "train_data_v1 = apply_preprocessing(nvidia_dataset, version='v1')  # Basic preprocessing\n",
    "train_data_v2 = apply_preprocessing(nvidia_dataset, version='v2')  # Intermediate preprocessing\n",
    "train_data_v3 = apply_preprocessing(nvidia_dataset, version='v3')  # Full preprocessing with stemming\n",
    "train_data_v4 = apply_preprocessing(nvidia_dataset, version='v4')  # Full preprocessing with lemmatizer"
   ]
  },
  {
   "cell_type": "code",
   "execution_count": 8,
   "metadata": {},
   "outputs": [],
   "source": [
    "# train_data_head = train_data_v1.head()\n",
    "\n",
    "# # Specify the filename for the Excel file\n",
    "# output_file = 'train_data_v1_head.xlsx'\n",
    "\n",
    "# # Save to Excel\n",
    "# train_data_head.to_excel(output_file, index=False)"
   ]
  },
  {
   "cell_type": "markdown",
   "metadata": {},
   "source": [
    "## Train Topic Models"
   ]
  },
  {
   "cell_type": "code",
   "execution_count": 9,
   "metadata": {},
   "outputs": [],
   "source": [
    "def train_topic_model(train_data, model_type='LDA', num_topics=10):\n",
    "    \"\"\"\n",
    "    Train a topic model on the given training data.\n",
    "\n",
    "    Parameters:\n",
    "    - train_data: list of str, the text to train the model on\n",
    "    - model_type: str, the type of model to train ('LDA', 'FLSA-W', 'BERTopic')\n",
    "    - num_topics: int, the number of topics to generate\n",
    "\n",
    "    Returns:\n",
    "    - model: the trained model\n",
    "    - topics: the topics generated by the model\n",
    "    \"\"\"\n",
    "    \n",
    "    # Preprocessed content (tokenized) is passed to all models consistently\n",
    "    train_data_list = [' '.join(tokens) for tokens in train_data['preprocessed_content']]\n",
    "\n",
    "    if model_type == 'LDA':\n",
    "        vectorizer = CountVectorizer(max_df=0.95, min_df=2, stop_words='english')\n",
    "        data_vectorized = vectorizer.fit_transform(train_data_list)\n",
    "        \n",
    "        # Train LDA model\n",
    "        lda_model = LatentDirichletAllocation(n_components=num_topics, random_state=42)\n",
    "        lda_model.fit(data_vectorized)\n",
    "        \n",
    "        # Get topics (top words in each topic)\n",
    "        def get_lda_topics(model, vectorizer, n_top_words=10):\n",
    "            feature_names = vectorizer.get_feature_names_out()\n",
    "            topics = []\n",
    "            for topic_idx, topic in enumerate(model.components_):\n",
    "                top_words = [feature_names[i] for i in topic.argsort()[:-n_top_words - 1:-1]]\n",
    "                topics.append(top_words)\n",
    "            return topics\n",
    "        \n",
    "        topics = get_lda_topics(lda_model, vectorizer)\n",
    "        \n",
    "        return lda_model, topics\n",
    "    \n",
    "    elif model_type == 'FLSA-W':\n",
    "        # Tokenized input is passed directly to FLSA-W\n",
    "        tokenized_data = [tokens for tokens in train_data['preprocessed_content']]\n",
    "\n",
    "        # Initialize FLSA-W model with tokenized data directly\n",
    "        flsa_w_model = FLSA_W(\n",
    "            input_file=tokenized_data,  \n",
    "            num_topics=num_topics,      \n",
    "            num_words=10                \n",
    "        )\n",
    "        \n",
    "        # Train the FLSA-W model\n",
    "        pwgt, ptgd = flsa_w_model.get_matrices()  # This trains the model\n",
    "\n",
    "        # Get topics as words\n",
    "        topics = flsa_w_model.show_topics(representation='words')\n",
    "\n",
    "        return flsa_w_model, topics\n",
    "    \n",
    "    elif model_type == 'BERTopic':\n",
    "        # Train BERTopic model\n",
    "        topic_model = BERTopic(nr_topics=num_topics)\n",
    "        topics, _ = topic_model.fit_transform(train_data_list)\n",
    "        \n",
    "        return topic_model, topics\n",
    "    \n",
    "    else:\n",
    "        raise ValueError(\"Invalid model_type. Choose from 'LDA', 'FLSA-W', 'BERTopic'.\")"
   ]
  },
  {
   "cell_type": "markdown",
   "metadata": {},
   "source": [
    "## Iteration 1"
   ]
  },
  {
   "cell_type": "code",
   "execution_count": 10,
   "metadata": {},
   "outputs": [],
   "source": [
    "def print_topics_lda(topics):\n",
    "    for idx, topic in enumerate(topics):\n",
    "        print(f\"Topic {idx + 1}: {', '.join(topic)}\")"
   ]
  },
  {
   "cell_type": "code",
   "execution_count": 11,
   "metadata": {},
   "outputs": [],
   "source": [
    "def print_bertopic_topics(topic_model):\n",
    "    \"\"\"\n",
    "    Print topics generated by BERTopic.\n",
    "    \n",
    "    Parameters:\n",
    "    - topic_model: the trained BERTopic model\n",
    "    \"\"\"\n",
    "    topics = topic_model.get_topics()\n",
    "    for topic_num, words in topics.items():\n",
    "        # Ignore the '-1' topic, which is typically noise in BERTopic\n",
    "        if topic_num == -1:\n",
    "            continue\n",
    "        print(f\"Topic {topic_num}: {', '.join([word[0] for word in words])}\")\n"
   ]
  },
  {
   "cell_type": "markdown",
   "metadata": {},
   "source": [
    "### LDA"
   ]
  },
  {
   "cell_type": "code",
   "execution_count": 12,
   "metadata": {},
   "outputs": [],
   "source": [
    "# Train LDA model on the first version of the preprocessed dataset\n",
    "LDA__model, LDA_topics = train_topic_model(train_data_v1, model_type='LDA', num_topics=10)\n"
   ]
  },
  {
   "cell_type": "code",
   "execution_count": 13,
   "metadata": {},
   "outputs": [
    {
     "name": "stdout",
     "output_type": "stream",
     "text": [
      "Initial LDA Topics:\n",
      "Topic 1: percent, year, market, share, price, week, data, said, analyst, investor\n",
      "Topic 2: apple, company, china, google, said, iphone, service, technology, amazon, billion\n",
      "Topic 3: nasdaq, nyse, stock, trade, point, index, share, china, dow, oil\n",
      "Topic 4: stock, zacks, nasdaq, etf, fund, market, company, investor, investment, year\n",
      "Topic 5: earnings, stock, zacks, year, company, estimate, growth, industry, share, revenue\n",
      "Topic 6: year, quarter, company, zacks, revenue, million, earnings, stock, growth, billion\n",
      "Topic 7: stock, market, nasdaq, week, day, trading, like, time, nyse, high\n",
      "Topic 8: amd, gaming, intel, graphic, nasdaq, market, year, gpu, chip, gpus\n",
      "Topic 9: company, new, facebook, nasdaq, amazon, microsoft, user, technology, ai, cloud\n",
      "Topic 10: company, technology, driving, car, chip, vehicle, self, nasdaq, intel, market\n"
     ]
    }
   ],
   "source": [
    "# Print the generated LDA topics\n",
    "print(\"Initial LDA Topics:\")\n",
    "print_topics_lda(LDA_topics)"
   ]
  },
  {
   "cell_type": "markdown",
   "metadata": {},
   "source": [
    "### FLSA-W"
   ]
  },
  {
   "cell_type": "code",
   "execution_count": 14,
   "metadata": {},
   "outputs": [],
   "source": [
    "# Train FLSA-W model on the first version of the preprocessed dataset\n",
    "flsa_w_model, flsa_w_topics = train_topic_model(train_data_v1, model_type='FLSA-W', num_topics=10)\n"
   ]
  },
  {
   "cell_type": "code",
   "execution_count": 15,
   "metadata": {},
   "outputs": [
    {
     "name": "stdout",
     "output_type": "stream",
     "text": [
      "Initial FLSA-W Topics:\n",
      "Topic 1: book, evolution, certainty, richard, synthesis, professor, creativity, feynman, inventing, pretend\n",
      "Topic 2: newest, art, becoming, restriction, doubt, persist, editing, charles, tied, connecting\n",
      "Topic 3: premarket, noel, randewich, divide, kem, pct, colette, qrvo, vlkay, staged\n",
      "Topic 4: settle, implied, unveils, roku, thomson, swks, troy, nv, mellanox, subscribe\n",
      "Topic 5: gmt, performer, towards, miner, incorporated, vector, citigroup, alllast, poured, rock\n",
      "Topic 6: cryptocurrency, percent, matras, genius, witnessing, breaking, remarkable, previously, apart, marijuana\n",
      "Topic 7: supervisory, whileolympusshares, upnoteus, delisting, icera, marketpulse, bofaml, trv, equitiesasian, chee\n",
      "Topic 8: chipmaker, hottest, composite, rose, phenomenon, reuters, session, bell, jones, spotlight\n",
      "Topic 9: nvda, nvidia, nyse, hold, best, recent, likely, day, top, zacks\n",
      "Topic 10: broader, corporation, com, intc, rise, giant, industrial, led, fall, chip\n"
     ]
    }
   ],
   "source": [
    "# Print the generated FLSA-W topics\n",
    "print(\"Initial FLSA-W Topics:\")\n",
    "print_topics_lda(flsa_w_topics)"
   ]
  },
  {
   "cell_type": "code",
   "execution_count": 16,
   "metadata": {},
   "outputs": [],
   "source": [
    "def compute_coherence_flsa_w(train_data, max_topics=10):\n",
    "    \"\"\"\n",
    "    Compute coherence scores for FLSA-W model with varying number of topics.\n",
    "    Parameters:\n",
    "        - train_data: list of tokenized documents (preprocessed content).\n",
    "        - max_topics: int, the maximum number of topics to test.\n",
    "    Returns:\n",
    "        - topic_nums: list of topic numbers used for testing.\n",
    "        - coherence_scores: list of coherence scores for each number of topics.\n",
    "    \"\"\"\n",
    "    \n",
    "    tokenized_data = [tokens for tokens in train_data['preprocessed_content']]\n",
    "    \n",
    "    topic_nums = []\n",
    "    coherence_scores = []\n",
    "    \n",
    "    # Try different numbers of topics\n",
    "    for num_topics in range(3, max_topics + 1):\n",
    "        # Train FLSA-W model\n",
    "        flsa_w_model = FLSA_W(\n",
    "            input_file=tokenized_data,  \n",
    "            num_topics=num_topics,      \n",
    "            num_words=10                \n",
    "        )\n",
    "        \n",
    "        # Train the FLSA-W model\n",
    "        flsa_w_model.get_matrices()  \n",
    "        \n",
    "        # Get the coherence score for the current model\n",
    "        coherence_score = flsa_w_model.get_coherence_score() \n",
    "        print(f\"Number of topics: {num_topics}, Coherence score: {coherence_score}\")\n",
    "        \n",
    "        # Store the results\n",
    "        topic_nums.append(num_topics)\n",
    "        coherence_scores.append(coherence_score)\n",
    "    \n",
    "    return topic_nums, coherence_scores\n",
    "\n",
    "\n",
    "def plot_elbow_curve(topic_nums, coherence_scores):\n",
    "    \"\"\"\n",
    "    Create an elbow plot for the coherence scores vs. number of topics.\n",
    "\n",
    "    Parameters:\n",
    "    - topic_nums: list of number of topics tested.\n",
    "    - coherence_scores: list of coherence scores for each number of topics.\n",
    "    \"\"\"\n",
    "    plt.figure(figsize=(8, 5))\n",
    "    plt.plot(topic_nums, coherence_scores, marker='o')\n",
    "    plt.title('FLSA-W Elbow Plot: Number of Topics vs Coherence Score')\n",
    "    plt.xlabel('Number of Topics')\n",
    "    plt.ylabel('Coherence Score')\n",
    "    plt.grid(True)\n",
    "    plt.show()"
   ]
  },
  {
   "cell_type": "code",
   "execution_count": 17,
   "metadata": {},
   "outputs": [
    {
     "name": "stdout",
     "output_type": "stream",
     "text": [
      "Number of topics: 3, Coherence score: 0.39215558891255675\n",
      "Number of topics: 4, Coherence score: 0.39411504947830545\n",
      "Number of topics: 5, Coherence score: 0.4523960619322053\n",
      "Number of topics: 6, Coherence score: 0.4113500987177594\n",
      "Number of topics: 7, Coherence score: 0.4165684791647775\n",
      "Number of topics: 8, Coherence score: 0.3848790394357928\n",
      "Number of topics: 9, Coherence score: 0.3769917307957381\n",
      "Number of topics: 10, Coherence score: 0.4192631097261835\n",
      "Number of topics: 11, Coherence score: 0.3968726270089041\n",
      "Number of topics: 12, Coherence score: 0.3838636933207795\n",
      "Number of topics: 13, Coherence score: 0.37515545511281145\n",
      "Number of topics: 14, Coherence score: 0.37403191644841904\n",
      "Number of topics: 15, Coherence score: 0.3882115675564781\n"
     ]
    }
   ],
   "source": [
    "# Train the model and compute coherence scores\n",
    "topic_nums, coherence_scores = compute_coherence_flsa_w(train_data_v1, max_topics=15)"
   ]
  },
  {
   "cell_type": "code",
   "execution_count": 18,
   "metadata": {},
   "outputs": [
    {
     "data": {
      "image/png": "[encoded data removed]",
      "text/plain": [
       "<Figure size 800x500 with 1 Axes>"
      ]
     },
     "metadata": {},
     "output_type": "display_data"
    }
   ],
   "source": [
    "# Plot the elbow curve\n",
    "plot_elbow_curve(topic_nums, coherence_scores)"
   ]
  },
  {
   "cell_type": "markdown",
   "metadata": {},
   "source": [
    "### BERTopic"
   ]
  },
  {
   "cell_type": "code",
   "execution_count": 19,
   "metadata": {},
   "outputs": [],
   "source": [
    "# Train BERTopic model on the first version of the preprocessed dataset\n",
    "bertopic_model, bertopic_topics = train_topic_model(train_data_v1, model_type='BERTopic', num_topics=10)\n"
   ]
  },
  {
   "cell_type": "code",
   "execution_count": 20,
   "metadata": {},
   "outputs": [
    {
     "name": "stdout",
     "output_type": "stream",
     "text": [
      "BERTopic Topics:\n",
      "Topic 0: stock, nasdaq, year, company, zacks, earnings, quarter, market, share, revenue\n",
      "Topic 1: nvidia, amd, year, revenue, gaming, quarter, company, share, gpu, graphic\n",
      "Topic 2: traded, nvidia, day, seven, lowest, gmt, highest, exchange, volume, session\n",
      "Topic 3: driving, car, vehicle, self, autonomous, company, technology, tesla, nvidia, said\n",
      "Topic 4: scenario, oil, target, dollar, pivot, resistance, extension, comment, rsi, support\n",
      "Topic 5: game, gaming, video, service, stadium, esports, company, google, nasdaq, streaming\n",
      "Topic 6: facebook, user, ad, company, platform, video, twitter, snap, zacks, rank\n",
      "Topic 7: earnings, growth, estimate, period, eps, company, index, revenue, year, zacks\n",
      "Topic 8: qualcomm, patent, commission, eu, said, antitrust, google, european, fine, court\n"
     ]
    }
   ],
   "source": [
    "# Print the generated BERTopic topics\n",
    "print(\"BERTopic Topics:\")\n",
    "print_bertopic_topics(bertopic_model)"
   ]
  },
  {
   "cell_type": "markdown",
   "metadata": {},
   "source": [
    "## Iteration 2"
   ]
  },
  {
   "cell_type": "markdown",
   "metadata": {},
   "source": [
    "## Iteration 3"
   ]
  },
  {
   "cell_type": "markdown",
   "metadata": {},
   "source": [
    "## Iteration ...."
   ]
  },
  {
   "cell_type": "markdown",
   "metadata": {},
   "source": [
    "## Evaluation"
   ]
  },
  {
   "cell_type": "markdown",
   "metadata": {},
   "source": [
    "### Qualitative"
   ]
  },
  {
   "cell_type": "markdown",
   "metadata": {},
   "source": [
    "### Quantitative"
   ]
  },
  {
   "cell_type": "markdown",
   "metadata": {},
   "source": [
    "## Output of Final Topic Model"
   ]
  }
 ],
 "metadata": {
  "kernelspec": {
   "display_name": "JADS-NLP",
   "language": "python",
   "name": "python3"
  },
  "language_info": {
   "codemirror_mode": {
    "name": "ipython",
    "version": 3
   },
   "file_extension": ".py",
   "mimetype": "text/x-python",
   "name": "python",
   "nbconvert_exporter": "python",
   "pygments_lexer": "ipython3",
   "version": "3.12.4"
  }
 },
 "nbformat": 4,
 "nbformat_minor": 2
}

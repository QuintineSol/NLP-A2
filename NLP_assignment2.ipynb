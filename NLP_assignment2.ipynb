{
  "cells": [
    {
      "cell_type": "markdown",
      "metadata": {
        "id": "9rYAx4e2IoF2"
      },
      "source": [
        "# NLP - Assignment 2"
      ]
    },
    {
      "cell_type": "markdown",
      "metadata": {
        "id": "h6Me-aAIIucC"
      },
      "source": [
        "## Imports"
      ]
    },
    {
      "cell_type": "code",
      "execution_count": 1,
      "metadata": {
        "id": "eJpG9EHvI1ni"
      },
      "outputs": [
        {
          "name": "stderr",
          "output_type": "stream",
          "text": [
            "c:\\Users\\bravo\\anaconda3\\envs\\JADS-NLP\\Lib\\site-packages\\tqdm\\auto.py:21: TqdmWarning: IProgress not found. Please update jupyter and ipywidgets. See https://ipywidgets.readthedocs.io/en/stable/user_install.html\n",
            "  from .autonotebook import tqdm as notebook_tqdm\n"
          ]
        }
      ],
      "source": [
        "import pandas as pd\n",
        "from collections import Counter\n",
        "from sklearn.feature_extraction.text import CountVectorizer\n",
        "from sklearn.decomposition import LatentDirichletAllocation\n",
        "from bertopic import BERTopic\n",
        "import numpy as np\n",
        "import re\n",
        "import nltk\n",
        "from nltk.corpus import stopwords\n",
        "from nltk.tokenize import word_tokenize\n",
        "from nltk.stem import WordNetLemmatizer, PorterStemmer\n",
        "from FuzzyTM import FLSA_W\n",
        "from gensim.models import CoherenceModel\n",
        "import matplotlib.pyplot as plt\n",
        "import gensim\n",
        "from gensim import corpora"
      ]
    },
    {
      "cell_type": "markdown",
      "metadata": {
        "id": "KJrknAepI-ey"
      },
      "source": [
        "## Preprocess Data"
      ]
    },
    {
      "cell_type": "code",
      "execution_count": 2,
      "metadata": {
        "id": "NLJ5KEEQJB1d"
      },
      "outputs": [
        {
          "data": {
            "text/html": [
              "<div>\n",
              "<style scoped>\n",
              "    .dataframe tbody tr th:only-of-type {\n",
              "        vertical-align: middle;\n",
              "    }\n",
              "\n",
              "    .dataframe tbody tr th {\n",
              "        vertical-align: top;\n",
              "    }\n",
              "\n",
              "    .dataframe thead th {\n",
              "        text-align: right;\n",
              "    }\n",
              "</style>\n",
              "<table border=\"1\" class=\"dataframe\">\n",
              "  <thead>\n",
              "    <tr style=\"text-align: right;\">\n",
              "      <th></th>\n",
              "      <th>id</th>\n",
              "      <th>ticker</th>\n",
              "      <th>title</th>\n",
              "      <th>category</th>\n",
              "      <th>content</th>\n",
              "      <th>release_date</th>\n",
              "      <th>provider</th>\n",
              "      <th>url</th>\n",
              "      <th>article_id</th>\n",
              "    </tr>\n",
              "  </thead>\n",
              "  <tbody>\n",
              "    <tr>\n",
              "      <th>0</th>\n",
              "      <td>221515</td>\n",
              "      <td>NIO</td>\n",
              "      <td>Why Shares of Chinese Electric Car Maker NIO A...</td>\n",
              "      <td>news</td>\n",
              "      <td>What s happening\\nShares of Chinese electric c...</td>\n",
              "      <td>2020-01-15</td>\n",
              "      <td>The Motley Fool</td>\n",
              "      <td>https://invst.ly/pigqi</td>\n",
              "      <td>2060327</td>\n",
              "    </tr>\n",
              "    <tr>\n",
              "      <th>1</th>\n",
              "      <td>221516</td>\n",
              "      <td>NIO</td>\n",
              "      <td>NIO only consumer gainer  Workhorse Group amon...</td>\n",
              "      <td>news</td>\n",
              "      <td>Gainers  NIO  NYSE NIO   7  \\nLosers  MGP Ingr...</td>\n",
              "      <td>2020-01-18</td>\n",
              "      <td>Seeking Alpha</td>\n",
              "      <td>https://invst.ly/pje9c</td>\n",
              "      <td>2062196</td>\n",
              "    </tr>\n",
              "    <tr>\n",
              "      <th>2</th>\n",
              "      <td>221517</td>\n",
              "      <td>NIO</td>\n",
              "      <td>NIO leads consumer gainers  Beyond Meat and Ma...</td>\n",
              "      <td>news</td>\n",
              "      <td>Gainers  NIO  NYSE NIO   14   Village Farms In...</td>\n",
              "      <td>2020-01-15</td>\n",
              "      <td>Seeking Alpha</td>\n",
              "      <td>https://invst.ly/pifmv</td>\n",
              "      <td>2060249</td>\n",
              "    </tr>\n",
              "    <tr>\n",
              "      <th>3</th>\n",
              "      <td>221518</td>\n",
              "      <td>NIO</td>\n",
              "      <td>NIO  NVAX among premarket gainers</td>\n",
              "      <td>news</td>\n",
              "      <td>Cemtrex  NASDAQ CETX   85  after FY results \\n...</td>\n",
              "      <td>2020-01-15</td>\n",
              "      <td>Seeking Alpha</td>\n",
              "      <td>https://invst.ly/picu8</td>\n",
              "      <td>2060039</td>\n",
              "    </tr>\n",
              "    <tr>\n",
              "      <th>4</th>\n",
              "      <td>221519</td>\n",
              "      <td>NIO</td>\n",
              "      <td>PLUG  NIO among premarket gainers</td>\n",
              "      <td>news</td>\n",
              "      <td>aTyr Pharma  NASDAQ LIFE   63  on Kyorin Pharm...</td>\n",
              "      <td>2020-01-06</td>\n",
              "      <td>Seeking Alpha</td>\n",
              "      <td>https://seekingalpha.com/news/3529772-plug-nio...</td>\n",
              "      <td>2053096</td>\n",
              "    </tr>\n",
              "  </tbody>\n",
              "</table>\n",
              "</div>"
            ],
            "text/plain": [
              "       id ticker                                              title category  \\\n",
              "0  221515    NIO  Why Shares of Chinese Electric Car Maker NIO A...     news   \n",
              "1  221516    NIO  NIO only consumer gainer  Workhorse Group amon...     news   \n",
              "2  221517    NIO  NIO leads consumer gainers  Beyond Meat and Ma...     news   \n",
              "3  221518    NIO                  NIO  NVAX among premarket gainers     news   \n",
              "4  221519    NIO                  PLUG  NIO among premarket gainers     news   \n",
              "\n",
              "                                             content release_date  \\\n",
              "0  What s happening\\nShares of Chinese electric c...   2020-01-15   \n",
              "1  Gainers  NIO  NYSE NIO   7  \\nLosers  MGP Ingr...   2020-01-18   \n",
              "2  Gainers  NIO  NYSE NIO   14   Village Farms In...   2020-01-15   \n",
              "3  Cemtrex  NASDAQ CETX   85  after FY results \\n...   2020-01-15   \n",
              "4  aTyr Pharma  NASDAQ LIFE   63  on Kyorin Pharm...   2020-01-06   \n",
              "\n",
              "          provider                                                url  \\\n",
              "0  The Motley Fool                             https://invst.ly/pigqi   \n",
              "1    Seeking Alpha                             https://invst.ly/pje9c   \n",
              "2    Seeking Alpha                             https://invst.ly/pifmv   \n",
              "3    Seeking Alpha                             https://invst.ly/picu8   \n",
              "4    Seeking Alpha  https://seekingalpha.com/news/3529772-plug-nio...   \n",
              "\n",
              "   article_id  \n",
              "0     2060327  \n",
              "1     2062196  \n",
              "2     2060249  \n",
              "3     2060039  \n",
              "4     2053096  "
            ]
          },
          "execution_count": 2,
          "metadata": {},
          "output_type": "execute_result"
        }
      ],
      "source": [
        "path = \"./us_equities_news_dataset.csv\"\n",
        "\n",
        "# Load the news dataset\n",
        "news_dataset = pd.read_csv(\"./us_equities_news_dataset.csv\")\n",
        "news_dataset.head()"
      ]
    },
    {
      "cell_type": "code",
      "execution_count": 3,
      "metadata": {
        "id": "hlbTI6GjJE-m"
      },
      "outputs": [],
      "source": [
        "# Filter dataset to only include articles with 'Nvidia' in the content\n",
        "nvidia_dataset = news_dataset[news_dataset['content'].str.contains('Nvidia', case=False, na=False)]"
      ]
    },
    {
      "cell_type": "code",
      "execution_count": 4,
      "metadata": {
        "id": "WpjzmJNYJXXB"
      },
      "outputs": [],
      "source": [
        "# Concatenate title and content columns\n",
        "nvidia_dataset['content'] = nvidia_dataset['title'] + ' ' + nvidia_dataset['content']"
      ]
    },
    {
      "cell_type": "code",
      "execution_count": 5,
      "metadata": {
        "id": "Rj42yjhDJNeq"
      },
      "outputs": [],
      "source": [
        "# Initialize the lemmatizer\n",
        "lemmatizer = WordNetLemmatizer()\n",
        "\n",
        "# Define the default stop words\n",
        "default_stop_words = set(stopwords.words('english'))\n",
        "\n",
        "def preprocess_text(text,\n",
        "                    remove_punctuation=True,\n",
        "                    remove_stopwords=True,\n",
        "                    lemmatize=False,\n",
        "                    remove_short_words=False,\n",
        "                    remove_numbers=True,\n",
        "                    min_word_length=2,\n",
        "                    top_n_percent=0,\n",
        "                    bottom_n_percent=0,\n",
        "                    remove_words=None,  # specific words to remove\n",
        "                    meaningful_words=None  # meaningful words to keep\n",
        "                   ):\n",
        "    \"\"\"\n",
        "    Advanced preprocessing function that applies different levels of text processing.\n",
        "\n",
        "    Parameters:\n",
        "    - text: The text to preprocess.\n",
        "    - remove_punctuation: Whether to remove punctuation from the text.\n",
        "    - remove_stopwords: Whether to remove common stopwords.\n",
        "    - lemmatize: Whether to apply lemmatization to reduce words to their root form.\n",
        "    - remove_short_words: Whether to remove short words from the text.\n",
        "    - remove_numbers: Whether to remove numbers from the text.\n",
        "    - min_word_length: The minimum length of words to keep in the text.\n",
        "    - top_n_percent: Percentage of the most frequent words to remove.\n",
        "    - bottom_n_percent: Percentage of the least frequent words to remove.\n",
        "    - remove_words: A list of specific words to remove.\n",
        "    - meaningful_words: A list of meaningful words to exclude from stop words.\n",
        "\n",
        "    Returns:\n",
        "    - Preprocessed text as tokens.\n",
        "    \"\"\"\n",
        "\n",
        "    # Tokenization\n",
        "    tokens = word_tokenize(text)\n",
        "\n",
        "    # Convert to lowercase\n",
        "    tokens = [token.lower() for token in tokens]\n",
        "\n",
        "    # Remove numbers if specified\n",
        "    if remove_numbers:\n",
        "        tokens = [re.sub(r'\\d+', '', token) for token in tokens]\n",
        "\n",
        "    # Remove non-alphabetic characters (punctuation)\n",
        "    if remove_punctuation:\n",
        "        tokens = [re.sub(r'[^a-zA-Z]', '', token) for token in tokens]\n",
        "\n",
        "    # Remove stopwords, excluding meaningful words\n",
        "    if remove_stopwords:\n",
        "        stop_words = default_stop_words\n",
        "        if meaningful_words:\n",
        "            stop_words = stop_words - set(meaningful_words)  # Exclude meaningful words from stop words\n",
        "        tokens = [token for token in tokens if token not in stop_words]\n",
        "\n",
        "    # Lemmatization\n",
        "    if lemmatize:\n",
        "        tokens = [lemmatizer.lemmatize(token) for token in tokens]\n",
        "\n",
        "    # Remove short words\n",
        "    if remove_short_words:\n",
        "        tokens = [token for token in tokens if len(token) >= min_word_length]\n",
        "\n",
        "    # Calculate global word frequencies\n",
        "    global_word_frequencies = Counter(tokens)\n",
        "\n",
        "    # Remove top n% most frequent words\n",
        "    if top_n_percent > 0:\n",
        "        top_n_cutoff = int(len(global_word_frequencies) * (top_n_percent / 100))\n",
        "        top_n_words = {word for word, count in global_word_frequencies.most_common(top_n_cutoff)}\n",
        "        tokens = [token for token in tokens if token not in top_n_words]\n",
        "\n",
        "    # Remove bottom n% least frequent words\n",
        "    if bottom_n_percent > 0:\n",
        "        bottom_n_cutoff = int(len(global_word_frequencies) * (bottom_n_percent / 100))\n",
        "        bottom_n_words = {word for word, count in global_word_frequencies.most_common()[:-bottom_n_cutoff-1:-1]}\n",
        "        tokens = [token for token in tokens if token not in bottom_n_words]\n",
        "\n",
        "    # Remove specific words\n",
        "    if remove_words:\n",
        "        tokens = [token for token in tokens if token not in remove_words]\n",
        "\n",
        "    return tokens"
      ]
    },
    {
      "cell_type": "code",
      "execution_count": 6,
      "metadata": {},
      "outputs": [],
      "source": [
        "def apply_preprocessing(nvidia_dataset, version='v1'):\n",
        "    \"\"\"\n",
        "    Apply different levels of preprocessing to the dataset.\n",
        "\n",
        "    Parameters:\n",
        "    - nvidia_dataset: The Nvidia articles with a 'content' column.\n",
        "    - version: The version of preprocessing to apply ('v1', 'v2', 'v3', or 'v4').\n",
        "\n",
        "    Returns:\n",
        "    - DataFrame with the original content and the preprocessed content in 'preprocessed_content' column.\n",
        "    \"\"\"\n",
        "    \n",
        "    # Make a copy of the dataset for each version to avoid overwriting the original content\n",
        "    dataset_copy = nvidia_dataset.copy()\n",
        "\n",
        "    if version == 'v1':\n",
        "        # Basic tokenization and lowercasing\n",
        "        dataset_copy['preprocessed_content'] = dataset_copy['content'].apply(lambda x: preprocess_text(\n",
        "            x, \n",
        "            remove_punctuation=False, \n",
        "            remove_stopwords=False,\n",
        "            lemmatize=False, \n",
        "            remove_numbers=False,\n",
        "            remove_short_words=False,\n",
        "            top_n_percent=0,\n",
        "            bottom_n_percent=0,\n",
        "        ))\n",
        "\n",
        "    elif version == 'v2':\n",
        "        # Remove punctuation, stopwords, and numbers, but no lemmatization/stemming\n",
        "        dataset_copy['preprocessed_content'] = dataset_copy['content'].apply(lambda x: preprocess_text(\n",
        "            x, \n",
        "            remove_punctuation=True, \n",
        "            remove_stopwords=True,\n",
        "            lemmatize=False, \n",
        "            remove_numbers=True,\n",
        "            remove_short_words=False,\n",
        "            top_n_percent=5,\n",
        "            bottom_n_percent=5,\n",
        "            remove_words=['nvidia', 'nvda'],\n",
        "            meaningful_words=['up', 'down']\n",
        "        ))\n",
        "\n",
        "    elif version == 'v3':\n",
        "        # Full preprocessing with lemmatization, number removal, and short words removal\n",
        "        dataset_copy['preprocessed_content'] = dataset_copy['content'].apply(lambda x: preprocess_text(\n",
        "            x, \n",
        "            remove_punctuation=True, \n",
        "            remove_stopwords=True,\n",
        "            lemmatize=True, \n",
        "            remove_numbers=True,\n",
        "            remove_short_words=True, \n",
        "            min_word_length=2,\n",
        "            top_n_percent=5,\n",
        "            bottom_n_percent=5,\n",
        "            remove_words=['nvidia', 'nvda'],\n",
        "            meaningful_words=['up', 'down', 'through', 'during', 'before', 'after', 'above', 'below']\n",
        "        ))\n",
        "\n",
        "    else:\n",
        "        raise ValueError(\"Invalid preprocessing version. Choose from 'v1', 'v2', 'v3'\")\n",
        "\n",
        "    # Return a separate DataFrame for each version with preprocessed content\n",
        "    return dataset_copy\n"
      ]
    },
    {
      "cell_type": "code",
      "execution_count": 7,
      "metadata": {
        "id": "MbJ5SDCFJfX3"
      },
      "outputs": [
        {
          "data": {
            "text/html": [
              "<div>\n",
              "<style scoped>\n",
              "    .dataframe tbody tr th:only-of-type {\n",
              "        vertical-align: middle;\n",
              "    }\n",
              "\n",
              "    .dataframe tbody tr th {\n",
              "        vertical-align: top;\n",
              "    }\n",
              "\n",
              "    .dataframe thead th {\n",
              "        text-align: right;\n",
              "    }\n",
              "</style>\n",
              "<table border=\"1\" class=\"dataframe\">\n",
              "  <thead>\n",
              "    <tr style=\"text-align: right;\">\n",
              "      <th></th>\n",
              "      <th>id</th>\n",
              "      <th>ticker</th>\n",
              "      <th>title</th>\n",
              "      <th>category</th>\n",
              "      <th>content</th>\n",
              "      <th>release_date</th>\n",
              "      <th>provider</th>\n",
              "      <th>url</th>\n",
              "      <th>article_id</th>\n",
              "      <th>preprocessed_content</th>\n",
              "    </tr>\n",
              "  </thead>\n",
              "  <tbody>\n",
              "    <tr>\n",
              "      <th>24</th>\n",
              "      <td>221539</td>\n",
              "      <td>NIO</td>\n",
              "      <td>A Central Bank War Just Started And Its Good F...</td>\n",
              "      <td>opinion</td>\n",
              "      <td>A Central Bank War Just Started And Its Good F...</td>\n",
              "      <td>2019-03-07</td>\n",
              "      <td>Michael Kramer</td>\n",
              "      <td>https://www.investing.com/analysis/a-central-b...</td>\n",
              "      <td>200395687</td>\n",
              "      <td>[a, central, bank, war, just, started, and, it...</td>\n",
              "    </tr>\n",
              "    <tr>\n",
              "      <th>32</th>\n",
              "      <td>221547</td>\n",
              "      <td>NIO</td>\n",
              "      <td>6 Stocks To Watch  Nivida Could Be Falling</td>\n",
              "      <td>opinion</td>\n",
              "      <td>6 Stocks To Watch  Nivida Could Be Falling 6 S...</td>\n",
              "      <td>2019-03-06</td>\n",
              "      <td>Michael Kramer</td>\n",
              "      <td>https://www.investing.com/analysis/6-stocks-to...</td>\n",
              "      <td>200394931</td>\n",
              "      <td>[6, stocks, to, watch, nivida, could, be, fall...</td>\n",
              "    </tr>\n",
              "    <tr>\n",
              "      <th>57</th>\n",
              "      <td>221572</td>\n",
              "      <td>NIO</td>\n",
              "      <td>Stocks   Dow Drops Nearly 400 Points as Apple ...</td>\n",
              "      <td>news</td>\n",
              "      <td>Stocks   Dow Drops Nearly 400 Points as Apple ...</td>\n",
              "      <td>2018-11-19</td>\n",
              "      <td>Investing.com</td>\n",
              "      <td>https://www.investing.com/news/stock-market-ne...</td>\n",
              "      <td>1694042</td>\n",
              "      <td>[stocks, dow, drops, nearly, 400, points, as, ...</td>\n",
              "    </tr>\n",
              "    <tr>\n",
              "      <th>78</th>\n",
              "      <td>221593</td>\n",
              "      <td>UBER</td>\n",
              "      <td>The Zacks Analyst Blog Highlights  Advanced Mi...</td>\n",
              "      <td>opinion</td>\n",
              "      <td>The Zacks Analyst Blog Highlights  Advanced Mi...</td>\n",
              "      <td>2020-01-12</td>\n",
              "      <td>Zacks Investment Research</td>\n",
              "      <td>https://www.investing.com/analysis/the-zacks-a...</td>\n",
              "      <td>200498277</td>\n",
              "      <td>[the, zacks, analyst, blog, highlights, advanc...</td>\n",
              "    </tr>\n",
              "    <tr>\n",
              "      <th>82</th>\n",
              "      <td>221597</td>\n",
              "      <td>UBER</td>\n",
              "      <td>The Best Of CES 2020  Revised</td>\n",
              "      <td>opinion</td>\n",
              "      <td>The Best Of CES 2020  Revised  With 4 500 comp...</td>\n",
              "      <td>2020-01-16</td>\n",
              "      <td>Zacks Investment Research</td>\n",
              "      <td>https://www.investing.com/analysis/the-best-of...</td>\n",
              "      <td>200499164</td>\n",
              "      <td>[the, best, of, ces, 2020, revised, with, 4, 5...</td>\n",
              "    </tr>\n",
              "  </tbody>\n",
              "</table>\n",
              "</div>"
            ],
            "text/plain": [
              "        id ticker                                              title category  \\\n",
              "24  221539    NIO  A Central Bank War Just Started And Its Good F...  opinion   \n",
              "32  221547    NIO         6 Stocks To Watch  Nivida Could Be Falling  opinion   \n",
              "57  221572    NIO  Stocks   Dow Drops Nearly 400 Points as Apple ...     news   \n",
              "78  221593   UBER  The Zacks Analyst Blog Highlights  Advanced Mi...  opinion   \n",
              "82  221597   UBER                     The Best Of CES 2020  Revised   opinion   \n",
              "\n",
              "                                              content release_date  \\\n",
              "24  A Central Bank War Just Started And Its Good F...   2019-03-07   \n",
              "32  6 Stocks To Watch  Nivida Could Be Falling 6 S...   2019-03-06   \n",
              "57  Stocks   Dow Drops Nearly 400 Points as Apple ...   2018-11-19   \n",
              "78  The Zacks Analyst Blog Highlights  Advanced Mi...   2020-01-12   \n",
              "82  The Best Of CES 2020  Revised  With 4 500 comp...   2020-01-16   \n",
              "\n",
              "                     provider  \\\n",
              "24             Michael Kramer   \n",
              "32             Michael Kramer   \n",
              "57              Investing.com   \n",
              "78  Zacks Investment Research   \n",
              "82  Zacks Investment Research   \n",
              "\n",
              "                                                  url  article_id  \\\n",
              "24  https://www.investing.com/analysis/a-central-b...   200395687   \n",
              "32  https://www.investing.com/analysis/6-stocks-to...   200394931   \n",
              "57  https://www.investing.com/news/stock-market-ne...     1694042   \n",
              "78  https://www.investing.com/analysis/the-zacks-a...   200498277   \n",
              "82  https://www.investing.com/analysis/the-best-of...   200499164   \n",
              "\n",
              "                                 preprocessed_content  \n",
              "24  [a, central, bank, war, just, started, and, it...  \n",
              "32  [6, stocks, to, watch, nivida, could, be, fall...  \n",
              "57  [stocks, dow, drops, nearly, 400, points, as, ...  \n",
              "78  [the, zacks, analyst, blog, highlights, advanc...  \n",
              "82  [the, best, of, ces, 2020, revised, with, 4, 5...  "
            ]
          },
          "execution_count": 7,
          "metadata": {},
          "output_type": "execute_result"
        }
      ],
      "source": [
        "train_data_v1 = apply_preprocessing(nvidia_dataset, version='v1')  # Basic preprocessing\n",
        "train_data_v2 = apply_preprocessing(nvidia_dataset, version='v2')  # Intermediate preprocessing\n",
        "train_data_v3 = apply_preprocessing(nvidia_dataset, version='v3')  # Full preprocessing with lemmatizer\n",
        "\n",
        "train_data_v1.head()"
      ]
    },
    {
      "cell_type": "code",
      "execution_count": 8,
      "metadata": {},
      "outputs": [
        {
          "name": "stdout",
          "output_type": "stream",
          "text": [
            "Unique words in v1: 36322\n",
            "Unique words in v2: 31468\n",
            "Unique words in v3: 28459\n"
          ]
        }
      ],
      "source": [
        "unique_words_v1 = set([word for sublist in train_data_v1['preprocessed_content'] for word in sublist])\n",
        "unique_words_v2 = set([word for sublist in train_data_v2['preprocessed_content'] for word in sublist])\n",
        "unique_words_v3 = set([word for sublist in train_data_v3['preprocessed_content'] for word in sublist])\n",
        "\n",
        "print(\"Unique words in v1:\", len(unique_words_v1))\n",
        "print(\"Unique words in v2:\", len(unique_words_v2))\n",
        "print(\"Unique words in v3:\", len(unique_words_v3))"
      ]
    },
    {
      "cell_type": "code",
      "execution_count": 9,
      "metadata": {},
      "outputs": [
        {
          "name": "stdout",
          "output_type": "stream",
          "text": [
            "Rank  v1                   Count      v2                   Count      v3                   Count     \n",
            "====================================================================================================\n",
            "1     the                  126904     nasdaq               4084       nasdaq               4311      \n",
            "2     to                   61701      also                 3961       share                4105      \n",
            "3     and                  55488      up                   3915       also                 4090      \n",
            "4     of                   54474      market               3589       up                   3990      \n",
            "5     in                   46306      stocks               3436       market               3463      \n",
            "6     a                    44793      stock                3181       stock                3386      \n",
            "7     s                    32960      expected             3125       expected             3226      \n",
            "8     is                   26139      shares               3111       growth               3184      \n",
            "9     for                  24701      growth               3022       company              3160      \n",
            "10    on                   23128      company              3019       new                  3110      \n"
          ]
        }
      ],
      "source": [
        "# Flatten lists and count word frequencies\n",
        "freq_v1 = Counter([word for sublist in train_data_v1['preprocessed_content'] for word in sublist])\n",
        "freq_v2 = Counter([word for sublist in train_data_v2['preprocessed_content'] for word in sublist])\n",
        "freq_v3 = Counter([word for sublist in train_data_v3['preprocessed_content'] for word in sublist])\n",
        "\n",
        "# Print the most common words side by side for easier comparison\n",
        "def print_side_by_side(freq_v1, freq_v2, freq_v3, top_n=10):\n",
        "    print(f\"{'Rank':<5} {'v1':<20} {'Count':<10} {'v2':<20} {'Count':<10} {'v3':<20} {'Count':<10}\")\n",
        "    print(\"=\"*100)\n",
        "    for i, ((word1, count1), (word2, count2), (word3, count3)) in enumerate(zip(freq_v1.most_common(top_n), freq_v2.most_common(top_n), freq_v3.most_common(top_n)), 1):\n",
        "        print(f\"{i:<5} {word1:<20} {count1:<10} {word2:<20} {count2:<10} {word3:<20} {count3:<10}\")\n",
        "\n",
        "print_side_by_side(freq_v1, freq_v2, freq_v3)"
      ]
    },
    {
      "cell_type": "code",
      "execution_count": 10,
      "metadata": {},
      "outputs": [
        {
          "name": "stdout",
          "output_type": "stream",
          "text": [
            "Most common 50 words and respective frequencies:\n",
            "\n",
            "1 - nasdaq          4311\n",
            "2 - share           4105\n",
            "3 - also            4090\n",
            "4 - up              3990\n",
            "5 - market          3463\n",
            "6 - stock           3386\n",
            "7 - expected        3226\n",
            "8 - growth          3184\n",
            "9 - company         3160\n",
            "10- new             3110\n",
            "11- buy             3098\n",
            "12- last            3096\n",
            "13- strong          3054\n",
            "14- nyse            2996\n",
            "15- year            2984\n",
            "16- billion         2983\n",
            "17- top             2874\n",
            "18- high            2849\n",
            "19- rank            2847\n",
            "20- technology      2844\n",
            "21- time            2838\n",
            "22- see             2824\n",
            "23- one             2817\n",
            "24- investor        2786\n",
            "25- price           2743\n",
            "26- per             2655\n",
            "27- earnings        2650\n",
            "28- inc             2574\n",
            "29- estimate        2572\n",
            "30- like            2565\n",
            "31- revenue         2479\n",
            "32- after           2469\n",
            "33- report          2447\n",
            "34- well            2316\n",
            "35- day             2314\n",
            "36- result          2313\n",
            "37- quarter         2306\n",
            "38- product         2291\n",
            "39- higher          2266\n",
            "40- first           2258\n",
            "41- term            2241\n",
            "42- business        2228\n",
            "43- down            2211\n",
            "44- consensus       2196\n",
            "45- data            2178\n",
            "46- month           2176\n",
            "47- sector          2129\n",
            "48- may             2065\n",
            "49- reported        2020\n",
            "50- could           2019\n"
          ]
        }
      ],
      "source": [
        "# Flatten the list of lists to get a single list of words\n",
        "all_tokens_v3 = [word for sublist in train_data_v3['preprocessed_content'] for word in sublist]\n",
        "\n",
        "# Get the 50 most common words\n",
        "common_words_v3 = Counter(all_tokens_v3).most_common(50)\n",
        "\n",
        "# Print the most common 50 words and their respective frequencies\n",
        "print('Most common 50 words and respective frequencies:\\n')\n",
        "for i, (word, freq) in enumerate(common_words_v3, 1):\n",
        "    print(f'{i:<2}- {word:<15} {freq}')"
      ]
    },
    {
      "cell_type": "code",
      "execution_count": 11,
      "metadata": {},
      "outputs": [
        {
          "name": "stdout",
          "output_type": "stream",
          "text": [
            "Number of unique words: 28,459\n",
            "Lexical richness: 0.0271\n"
          ]
        }
      ],
      "source": [
        "print(f\"Number of unique words: {len(set(all_tokens_v3)):,}\")\n",
        "print(f\"Lexical richness: {len(set(all_tokens_v3))/len(all_tokens_v3):.4f}\")"
      ]
    },
    {
      "cell_type": "markdown",
      "metadata": {
        "id": "IzHaJpSUJno8"
      },
      "source": [
        "## Helper functions"
      ]
    },
    {
      "cell_type": "code",
      "execution_count": 12,
      "metadata": {},
      "outputs": [],
      "source": [
        "def remove_top_bottom_words(preprocessed_content, top_percent=10, bottom_percent=10, words_to_exclude=None):\n",
        "    \"\"\"\n",
        "    Remove top-n% and bottom-n% words based on frequency and exclude specified words.\n",
        "\n",
        "    Parameters:\n",
        "    - preprocessed_content: list of lists, the preprocessed content\n",
        "    - top_percent: int, the top n% of words to remove\n",
        "    - bottom_percent: int, the bottom n% of words to remove\n",
        "    - words_to_exclude: set, the words to exclude\n",
        "\n",
        "    Returns:\n",
        "    - list of lists, the content with specified words removed\n",
        "    \"\"\"\n",
        "    # Flatten the list of lists to get a single list of words\n",
        "    all_words = [word for sublist in preprocessed_content for word in sublist]\n",
        "    \n",
        "    # Get the word frequencies\n",
        "    word_freq = Counter(all_words)\n",
        "    \n",
        "    # Calculate the number of words to remove\n",
        "    total_words = len(word_freq)\n",
        "    top_n = int(total_words * top_percent / 100)\n",
        "    bottom_n = int(total_words * bottom_percent / 100)\n",
        "    \n",
        "    # Get the top-n% and bottom-n% words\n",
        "    top_words = set([word for word, freq in word_freq.most_common(top_n)])\n",
        "    bottom_words = set([word for word, freq in word_freq.most_common()[:-bottom_n-1:-1]])\n",
        "    \n",
        "    # Combine the words to exclude\n",
        "    words_to_remove = top_words | bottom_words\n",
        "    if words_to_exclude:\n",
        "        words_to_remove |= words_to_exclude\n",
        "    \n",
        "    # Remove the specified words from the content\n",
        "    filtered_content = [[word for word in sublist if word not in words_to_remove] for sublist in preprocessed_content]\n",
        "    \n",
        "    return filtered_content"
      ]
    },
    {
      "cell_type": "markdown",
      "metadata": {
        "id": "3fqtU4TAwSlt"
      },
      "source": [
        "### LDA"
      ]
    },
    {
      "cell_type": "markdown",
      "metadata": {},
      "source": [
        "### FLSA-W"
      ]
    },
    {
      "cell_type": "code",
      "execution_count": 13,
      "metadata": {},
      "outputs": [],
      "source": [
        "def compute_coherence_flsa_w(train_data, max_topics=10, num_words_list=[5, 7, 10]):\n",
        "    \"\"\"\n",
        "    Compute coherence scores for FLSA-W model with varying number of topics and words per topic.\n",
        "    \n",
        "    Parameters:\n",
        "        - train_data: list of tokenized documents (preprocessed content).\n",
        "        - max_topics: int, the maximum number of topics to test.\n",
        "        - num_words_list: list of int, different numbers of words per topic to test.\n",
        "    \n",
        "    Returns:\n",
        "        - results: list of tuples, each containing (num_topics, num_words, coherence_score).\n",
        "    \"\"\"\n",
        "    \n",
        "    tokenized_data = [tokens for tokens in train_data['preprocessed_content']]\n",
        "    \n",
        "    results = []\n",
        "    \n",
        "    # Loop through each number of words per topic first\n",
        "    for num_words in num_words_list:\n",
        "        # Loop through each number of topics for the current number of words\n",
        "        for num_topics in range(2, max_topics + 1):\n",
        "            # Train FLSA-W model\n",
        "            flsa_w_model = FLSA_W(\n",
        "                input_file=tokenized_data,  \n",
        "                num_topics=num_topics,      \n",
        "                num_words=num_words               \n",
        "            )\n",
        "            \n",
        "            # Train the FLSA-W model\n",
        "            flsa_w_model.get_matrices()  \n",
        "            \n",
        "            # Get the coherence score for the current model\n",
        "            coherence_score = flsa_w_model.get_coherence_score() \n",
        "            print(f\"Number of topics: {num_topics}, Number of words: {num_words}, Coherence score: {coherence_score:.4f}\")\n",
        "            \n",
        "            # Store the results\n",
        "            results.append((num_topics, num_words, coherence_score))\n",
        "    \n",
        "    return results"
      ]
    },
    {
      "cell_type": "code",
      "execution_count": 14,
      "metadata": {},
      "outputs": [],
      "source": [
        "def compute_coherence_flsa_w(train_data, max_topics=10, num_words_list=[5, 7, 10]):\n",
        "    \"\"\"\n",
        "    Compute coherence scores for FLSA-W model with varying number of topics and words per topic.\n",
        "    \n",
        "    Parameters:\n",
        "        - train_data: list of tokenized documents (preprocessed content).\n",
        "        - max_topics: int, the maximum number of topics to test.\n",
        "        - num_words_list: list of int, different numbers of words per topic to test.\n",
        "        - display: bool, if True, will print the results in a structured format per num_words.\n",
        "    \n",
        "    Returns:\n",
        "        - results: list of tuples, each containing (num_words, num_topics, coherence_score).\n",
        "    \"\"\"\n",
        "    \n",
        "    tokenized_data = [tokens for tokens in train_data['preprocessed_content']]\n",
        "    \n",
        "    results = []\n",
        "    \n",
        "    # Loop through each number of words per topic first\n",
        "    for num_words in num_words_list:\n",
        "        print(f\"\\n=== Results for {num_words} words per topic ===\")\n",
        "        \n",
        "        # Loop through each number of topics for the current number of words\n",
        "        for num_topics in range(2, max_topics + 1):\n",
        "            # Train FLSA-W model with the current num_words and num_topics\n",
        "            flsa_w_model = FLSA_W(\n",
        "                input_file=tokenized_data,  \n",
        "                num_topics=num_topics,      \n",
        "                num_words=num_words               \n",
        "            )\n",
        "            \n",
        "            # Train the FLSA-W model\n",
        "            flsa_w_model.get_matrices()  \n",
        "            \n",
        "            # Get the coherence score for the current model\n",
        "            coherence_score = flsa_w_model.get_coherence_score() \n",
        "            \n",
        "            # Store the results as a tuple (num_words, num_topics, coherence_score)\n",
        "            results.append((num_words, num_topics, coherence_score))\n",
        "\n",
        "            print(f\"Number of topics: {num_topics}, Coherence score: {coherence_score:.4f}\")\n",
        "    \n",
        "    return results\n"
      ]
    },
    {
      "cell_type": "code",
      "execution_count": 15,
      "metadata": {},
      "outputs": [],
      "source": [
        "def plot_elbow_curve(results):\n",
        "    \"\"\"\n",
        "    Create elbow plots for coherence scores vs. number of topics for different num_words.\n",
        "    \n",
        "    Parameters:\n",
        "    - results: list of tuples, each containing (num_words, num_topics, coherence_score).\n",
        "    \"\"\"\n",
        "    # Organize results by num_words\n",
        "    num_words_dict = {}\n",
        "    for num_words, num_topics, coherence_score in results:  # Corrected tuple unpacking order\n",
        "        if num_words not in num_words_dict:\n",
        "            num_words_dict[num_words] = {'num_topics': [], 'coherence_scores': []}\n",
        "        num_words_dict[num_words]['num_topics'].append(num_topics)\n",
        "        num_words_dict[num_words]['coherence_scores'].append(coherence_score)\n",
        "    \n",
        "    # Plot each num_words line\n",
        "    plt.figure(figsize=(10, 6))\n",
        "    for num_words, data in num_words_dict.items():\n",
        "        plt.plot(data['num_topics'], data['coherence_scores'], marker='o', label=f'Num words: {num_words}')\n",
        "    \n",
        "    # Add plot labels and title\n",
        "    plt.title('FLSA-W Elbow Plot: Number of Topics vs Coherence Score for Different Number of Words per Topic')\n",
        "    plt.xlabel('Number of Topics')\n",
        "    plt.ylabel('Coherence Score')\n",
        "    plt.legend(title='Words per Topic')\n",
        "    plt.grid(True)\n",
        "    plt.show()"
      ]
    },
    {
      "cell_type": "markdown",
      "metadata": {
        "id": "GdYmOMGOwzj5"
      },
      "source": [
        "### BERTopic"
      ]
    },
    {
      "cell_type": "code",
      "execution_count": 16,
      "metadata": {
        "id": "CTcmazRCKGWh"
      },
      "outputs": [],
      "source": [
        "def print_bertopic_topics(topic_model):\n",
        "    \"\"\"\n",
        "    Print topics generated by BERTopic.\n",
        "\n",
        "    Parameters:\n",
        "    - topic_model: the trained BERTopic model\n",
        "    \"\"\"\n",
        "    topics = topic_model.get_topics()\n",
        "    for topic_num, words in topics.items():\n",
        "        # Ignore the '-1' topic, which is typically noise in BERTopic\n",
        "        if topic_num == -1:\n",
        "            continue\n",
        "        print(f\"Topic {topic_num}: {', '.join([word[0] for word in words])}\")"
      ]
    },
    {
      "cell_type": "markdown",
      "metadata": {},
      "source": [
        "## Elbow Plot"
      ]
    },
    {
      "cell_type": "code",
      "execution_count": 17,
      "metadata": {},
      "outputs": [
        {
          "name": "stdout",
          "output_type": "stream",
          "text": [
            "\n",
            "=== Results for 5 words per topic ===\n",
            "Number of topics: 2, Coherence score: 0.4843\n",
            "Number of topics: 3, Coherence score: 0.4709\n",
            "Number of topics: 4, Coherence score: 0.5673\n",
            "Number of topics: 5, Coherence score: 0.4647\n",
            "Number of topics: 6, Coherence score: 0.5034\n",
            "Number of topics: 7, Coherence score: 0.4796\n",
            "Number of topics: 8, Coherence score: 0.5052\n",
            "Number of topics: 9, Coherence score: 0.3859\n",
            "Number of topics: 10, Coherence score: 0.4017\n",
            "Number of topics: 11, Coherence score: 0.4275\n",
            "Number of topics: 12, Coherence score: 0.3813\n",
            "Number of topics: 13, Coherence score: 0.4322\n",
            "Number of topics: 14, Coherence score: 0.3898\n",
            "Number of topics: 15, Coherence score: 0.4045\n",
            "\n",
            "=== Results for 7 words per topic ===\n",
            "Number of topics: 2, Coherence score: 0.4331\n",
            "Number of topics: 3, Coherence score: 0.3835\n",
            "Number of topics: 4, Coherence score: 0.4559\n",
            "Number of topics: 5, Coherence score: 0.3996\n",
            "Number of topics: 6, Coherence score: 0.4185\n",
            "Number of topics: 7, Coherence score: 0.4136\n",
            "Number of topics: 8, Coherence score: 0.3566\n",
            "Number of topics: 9, Coherence score: 0.3970\n",
            "Number of topics: 10, Coherence score: 0.3906\n",
            "Number of topics: 11, Coherence score: 0.3702\n",
            "Number of topics: 12, Coherence score: 0.3493\n",
            "Number of topics: 13, Coherence score: 0.3408\n",
            "Number of topics: 14, Coherence score: 0.3770\n",
            "Number of topics: 15, Coherence score: 0.4056\n",
            "\n",
            "=== Results for 10 words per topic ===\n",
            "Number of topics: 2, Coherence score: 0.3947\n",
            "Number of topics: 3, Coherence score: 0.3257\n",
            "Number of topics: 4, Coherence score: 0.2786\n",
            "Number of topics: 5, Coherence score: 0.3676\n",
            "Number of topics: 6, Coherence score: 0.3908\n",
            "Number of topics: 7, Coherence score: 0.4263\n",
            "Number of topics: 8, Coherence score: 0.4082\n",
            "Number of topics: 9, Coherence score: 0.3997\n",
            "Number of topics: 10, Coherence score: 0.3928\n",
            "Number of topics: 11, Coherence score: 0.3702\n",
            "Number of topics: 12, Coherence score: 0.3855\n",
            "Number of topics: 13, Coherence score: 0.3473\n",
            "Number of topics: 14, Coherence score: 0.3712\n",
            "Number of topics: 15, Coherence score: 0.3900\n"
          ]
        }
      ],
      "source": [
        "# Set seed for reproducible results\n",
        "np.random.seed(42)\n",
        "\n",
        "# Train the model and compute coherence scores\n",
        "results = compute_coherence_flsa_w(train_data_v3, max_topics=15, num_words_list=[5, 7, 10]) # TODO: FYI only did this for v3"
      ]
    },
    {
      "cell_type": "code",
      "execution_count": 18,
      "metadata": {},
      "outputs": [
        {
          "data": {
            "image/png": "[encoded data removed]",
            "text/plain": [
              "<Figure size 1000x600 with 1 Axes>"
            ]
          },
          "metadata": {},
          "output_type": "display_data"
        }
      ],
      "source": [
        "# Plot the elbow curve\n",
        "plot_elbow_curve(results)"
      ]
    },
    {
      "cell_type": "markdown",
      "metadata": {
        "id": "3GDtC3K6J2-7"
      },
      "source": [
        "## Train Topic Models"
      ]
    },
    {
      "cell_type": "code",
      "execution_count": 35,
      "metadata": {},
      "outputs": [],
      "source": [
        "# the optimal number of topics according to FLSA-W\n",
        "NUMBER_OF_TOPICS = 8"
      ]
    },
    {
      "cell_type": "code",
      "execution_count": 36,
      "metadata": {},
      "outputs": [],
      "source": [
        "def train_topic_model(train_data, model_type='LDA', num_topics=NUMBER_OF_TOPICS, preprocess=False, words_to_exclude=None):\n",
        "    \"\"\"\n",
        "    Train a topic model on the given training data.\n",
        "\n",
        "    Parameters:\n",
        "    - train_data: list of str, the text to train the model on\n",
        "    - model_type: str, the type of model to train ('LDA', 'FLSA-W', 'BERTopic')\n",
        "    - num_topics: int, the number of topics to use for the model\n",
        "    - preprocess: bool, whether to preprocess the data using remove_top_bottom_words\n",
        "    - words_to_exclude: list of str, specific words to exclude from the data\n",
        "\n",
        "    Returns:\n",
        "    - model: the trained model\n",
        "    - topics: the topics generated by the model\n",
        "    \"\"\"\n",
        "\n",
        "    train_data_list_string = [' '.join(tokens) for tokens in train_data['preprocessed_content']]\n",
        "    train_data_list_tokens = train_data['preprocessed_content'].tolist()  \n",
        "\n",
        "    if preprocess and words_to_exclude:\n",
        "        train_data_list_tokens = remove_top_bottom_words(\n",
        "            train_data_list_tokens,\n",
        "            top_percent=0,  # No top words removal\n",
        "            bottom_percent=0,  # No bottom words removal\n",
        "            words_to_exclude=words_to_exclude\n",
        "        )\n",
        "        train_data_list_string = [' '.join(tokens) for tokens in train_data_list_tokens]\n",
        "\n",
        "    if model_type == 'LDA':\n",
        "        # Create Gensim dictionary\n",
        "        dictionary = corpora.Dictionary(train_data_list_tokens)\n",
        "\n",
        "        # Create Document-Term Matrix\n",
        "        doc_term_matrix = [dictionary.doc2bow(doc) for doc in train_data_list_tokens]\n",
        "\n",
        "        lda_model = gensim.models.LdaModel(\n",
        "            doc_term_matrix,\n",
        "            num_topics=num_topics,\n",
        "            id2word=dictionary,\n",
        "            random_state=42,\n",
        "            passes=5,\n",
        "            alpha='auto'\n",
        "        )\n",
        "\n",
        "        # Get topics (top words in each topic)\n",
        "        topics = lda_model.print_topics(num_words=5)\n",
        "\n",
        "        return lda_model, topics\n",
        "\n",
        "    elif model_type == 'FLSA-W':\n",
        "        flsa_w_model = FLSA_W(\n",
        "            input_file=train_data_list_tokens,\n",
        "            num_topics=num_topics,\n",
        "            num_words=5\n",
        "        )\n",
        "        pwgt, ptgd = flsa_w_model.get_matrices()  # This trains the model\n",
        "        topics = flsa_w_model.show_topics(representation='words')\n",
        "\n",
        "        return flsa_w_model, topics\n",
        "    \n",
        "    elif model_type == 'BERTopic':\n",
        "        # Train BERTopic model\n",
        "        topic_model = BERTopic()\n",
        "        topics, _ = topic_model.fit_transform(train_data_list_string)\n",
        "\n",
        "        return topic_model, topics\n",
        "\n",
        "    else:\n",
        "        raise ValueError(\"Invalid model_type. Choose from 'LDA', 'FLSA-W', 'BERTopic'.\")"
      ]
    },
    {
      "cell_type": "markdown",
      "metadata": {
        "id": "iuoBS0hPOgJP"
      },
      "source": [
        "## Evaluation"
      ]
    },
    {
      "cell_type": "markdown",
      "metadata": {
        "id": "E9cBzPruOiXf"
      },
      "source": [
        "### Qualitative"
      ]
    },
    {
      "cell_type": "code",
      "execution_count": 21,
      "metadata": {
        "id": "2wzFdS_K28Sa"
      },
      "outputs": [],
      "source": [
        "def inspect_model(topic_model):\n",
        "    \"\"\"\n",
        "    Inspect the topics generated by a trained topic model.\n",
        "\n",
        "    Parameters:\n",
        "    - topic_model: the trained topic model.\n",
        "    \"\"\"\n",
        "    return topic_model.get_topics(), topic_model.get_info(), topic_model.get_topic_embeddings(), topic_model.get_vocabulary(), topic_model.get_vocabulary_size() # TODO: decide on metrics"
      ]
    },
    {
      "cell_type": "markdown",
      "metadata": {
        "id": "OkdD5fS0OmLW"
      },
      "source": [
        "### Quantitative"
      ]
    },
    {
      "cell_type": "code",
      "execution_count": 22,
      "metadata": {
        "id": "dOonQ2e02mkh"
      },
      "outputs": [],
      "source": [
        "def evaluate_model(topic_model):\n",
        "    \"\"\"\n",
        "    Evaluate the quality of a trained topic model using various metrics.\n",
        "\n",
        "    Parameters:\n",
        "    - topic_model: the trained topic model.\n",
        "    \"\"\"\n",
        "    return topic_model.get_coherence_score(), topic_model.get_diversity_score(), topic_model.get_interpretability_score() # TODO: decide which metric (I think we only need coherence)"
      ]
    },
    {
      "cell_type": "markdown",
      "metadata": {
        "id": "de0Jh4K3J_o2"
      },
      "source": [
        "## Iteration 1"
      ]
    },
    {
      "cell_type": "markdown",
      "metadata": {
        "id": "sTZJ44yQKIYG"
      },
      "source": [
        "### LDA"
      ]
    },
    {
      "cell_type": "code",
      "execution_count": 37,
      "metadata": {
        "id": "810-_HuwNVTw"
      },
      "outputs": [
        {
          "name": "stdout",
          "output_type": "stream",
          "text": [
            "(0, '0.008*\"the\" + 0.007*\"and\" + 0.005*\"to\" + 0.005*\"of\" + 0.005*\"in\"')\n",
            "(1, '0.040*\"the\" + 0.027*\"and\" + 0.023*\"a\" + 0.019*\"of\" + 0.018*\"to\"')\n",
            "(2, '0.006*\"the\" + 0.005*\"to\" + 0.003*\"and\" + 0.003*\"of\" + 0.003*\"in\"')\n",
            "(3, '0.050*\"the\" + 0.022*\"to\" + 0.022*\"of\" + 0.018*\"and\" + 0.016*\"in\"')\n",
            "(4, '0.008*\"the\" + 0.006*\"to\" + 0.004*\"and\" + 0.004*\"of\" + 0.004*\"a\"')\n",
            "(5, '0.013*\"the\" + 0.007*\"to\" + 0.006*\"a\" + 0.006*\"and\" + 0.005*\"of\"')\n",
            "(6, '0.014*\"the\" + 0.006*\"of\" + 0.006*\"and\" + 0.006*\"to\" + 0.005*\"a\"')\n",
            "(7, '0.048*\"the\" + 0.029*\"to\" + 0.022*\"of\" + 0.020*\"and\" + 0.019*\"in\"')\n"
          ]
        }
      ],
      "source": [
        "LDA_model, LDA_topics = train_topic_model(train_data_v1[0:10], model_type='LDA', num_topics=NUMBER_OF_TOPICS, preprocess=False)\n",
        "\n",
        "# Print topics\n",
        "for topic in LDA_topics:\n",
        "    print(topic)"
      ]
    },
    {
      "cell_type": "markdown",
      "metadata": {
        "id": "Nm02RABvNXYu"
      },
      "source": [
        "### FLSA-W"
      ]
    },
    {
      "cell_type": "code",
      "execution_count": null,
      "metadata": {},
      "outputs": [
        {
          "name": "stdout",
          "output_type": "stream",
          "text": [
            "FLSA-W Topics with Word Probabilities:\n",
            "\n",
            "(0, '0.0005*\"rises\" + 0.0004*\"premarket\" + 0.0003*\"178\" + 0.0003*\"nellis\" + 0.0003*\"mcqueeney\"')\n",
            "(1, '0.0005*\"miners\" + 0.0004*\"falls\" + 0.0004*\"towards\" + 0.0004*\"o\" + 0.0004*\"insiders\"')\n",
            "(2, '0.0017*\"broader\" + 0.0017*\"com\" + 0.0016*\"27\" + 0.0015*\"23\" + 0.0015*\"intc\"')\n",
            "(3, '0.001*\"reuters\" + 0.0009*\"traded\" + 0.0008*\"autonomous\" + 0.0008*\"proven\" + 0.0008*\"previously\"')\n",
            "(4, '0.0025*\"episode\" + 0.0023*\"newest\" + 0.0022*\"becoming\" + 0.0021*\"actions\" + 0.0021*\"technological\"')\n",
            "(5, '0.0002*\"8800\" + 0.0002*\"0000\" + 0.0002*\"reiterates\" + 0.0002*\"174\" + 0.0002*\"delisting\"')\n",
            "(6, '0.0115*\"book\" + 0.0115*\"evolution\" + 0.0095*\"books\" + 0.0092*\"certainty\" + 0.0088*\"richard\"')\n",
            "(7, '0.0058*\"nvda\" + 0.0051*\"nasdaq\" + 0.005*\"stock\" + 0.0048*\"technology\" + 0.0045*\"10\"')\n",
            "\n",
            "\n",
            "FLSA-W Topics:\n",
            "\n",
            "Topic 1: rises, premarket, 178, nellis, mcqueeney\n",
            "Topic 2: miners, falls, towards, o, insiders\n",
            "Topic 3: broader, com, 27, 23, intc\n",
            "Topic 4: reuters, traded, autonomous, proven, previously\n",
            "Topic 5: episode, newest, becoming, actions, technological\n",
            "Topic 6: 8800, 0000, reiterates, 174, delisting\n",
            "Topic 7: book, evolution, books, certainty, richard\n",
            "Topic 8: nvda, nasdaq, stock, technology, 10\n",
            "\n",
            "Vocabulary size: 36,322\n",
            "\n",
            "Coherence Score: 0.4228\n",
            "Diversity Score: 1.0\n",
            "Interpretability Score: 0.4228\n"
          ]
        }
      ],
      "source": [
        "# Set seed for reproducible results\n",
        "np.random.seed(42)\n",
        "\n",
        "# Train FLSA-W model on the first version of the preprocessed dataset\n",
        "flsa_w_model, flsa_w_topics = train_topic_model(train_data_v1, model_type='FLSA-W', num_topics=NUMBER_OF_TOPICS, preprocess=False)\n",
        "\n",
        "# Show the topics generated\n",
        "print(\"FLSA-W Topics with Word Probabilities:\\n\")\n",
        "for topic in flsa_w_model.show_topics():\n",
        "    print(topic)\n",
        "\n",
        "# Print topics with improved formatting\n",
        "print(\"\\n\\nFLSA-W Topics:\\n\")\n",
        "for i, topic in enumerate(flsa_w_topics):\n",
        "    print(f\"Topic {i + 1}: {', '.join(topic)}\")\n",
        "\n",
        "print(f\"\\nVocabulary size: {flsa_w_model.get_vocabulary_size():,}\")\n",
        "\n",
        "# Show topic quality scores\n",
        "print(\"\\nCoherence Score:\", round(flsa_w_model.get_coherence_score(), 4))\n",
        "print(\"Diversity Score:\", round(flsa_w_model.get_diversity_score(), 4))\n",
        "print(\"Interpretability Score:\", round(flsa_w_model.get_interpretability_score(), 4))"
      ]
    },
    {
      "cell_type": "markdown",
      "metadata": {
        "id": "j8JwRdpeONqM"
      },
      "source": [
        "### BERTopic"
      ]
    },
    {
      "cell_type": "code",
      "execution_count": null,
      "metadata": {
        "id": "KDhIsPONOXdS"
      },
      "outputs": [],
      "source": [
        "# Train BERTopic model on the first version of the preprocessed dataset\n",
        "bertopic_model, bertopic_topics = train_topic_model(train_data_v1, model_type='BERTopic')\n",
        "\n",
        "# Print the generated BERTopic topics\n",
        "print(\"BERTopic Topics:\")\n",
        "print_bertopic_topics(bertopic_model)"
      ]
    },
    {
      "cell_type": "markdown",
      "metadata": {
        "id": "bYY_NWeBOam7"
      },
      "source": [
        "## Iteration 2"
      ]
    },
    {
      "cell_type": "markdown",
      "metadata": {},
      "source": [
        "### LDA"
      ]
    },
    {
      "cell_type": "code",
      "execution_count": 39,
      "metadata": {},
      "outputs": [
        {
          "name": "stdout",
          "output_type": "stream",
          "text": [
            "(0, '0.006*\"like\" + 0.006*\"next\" + 0.006*\"also\" + 0.005*\"nyse\" + 0.005*\"technology\"')\n",
            "(1, '0.001*\"full\" + 0.001*\"also\" + 0.001*\"next\" + 0.001*\"fleet\" + 0.001*\"nyse\"')\n",
            "(2, '0.004*\"down\" + 0.004*\"strong\" + 0.004*\"p\" + 0.004*\"best\" + 0.004*\"investors\"')\n",
            "(3, '0.001*\"software\" + 0.001*\"better\" + 0.001*\"design\" + 0.001*\"lens\" + 0.001*\"based\"')\n",
            "(4, '0.001*\"water\" + 0.001*\"see\" + 0.001*\"lens\" + 0.001*\"based\" + 0.001*\"group\"')\n",
            "(5, '0.004*\"group\" + 0.004*\"based\" + 0.004*\"software\" + 0.004*\"option\" + 0.004*\"better\"')\n",
            "(6, '0.004*\"see\" + 0.004*\"line\" + 0.004*\"regulatory\" + 0.004*\"decline\" + 0.004*\"business\"')\n",
            "(7, '0.007*\"company\" + 0.005*\"day\" + 0.005*\"today\" + 0.005*\"worth\" + 0.005*\"tesla\"')\n"
          ]
        }
      ],
      "source": [
        "LDA_model_v2, LDA_topics_v2 = train_topic_model(train_data_v2[0:10], model_type='LDA', num_topics=NUMBER_OF_TOPICS, preprocess=False)\n",
        "\n",
        "# Print topics\n",
        "for topic in LDA_topics_v2:\n",
        "    print(topic)"
      ]
    },
    {
      "cell_type": "code",
      "execution_count": 40,
      "metadata": {},
      "outputs": [
        {
          "name": "stdout",
          "output_type": "stream",
          "text": [
            "FLSA-W Topics with Word Probabilities:\n",
            "\n",
            "(0, '0.0032*\"nasdaq\" + 0.0031*\"year\" + 0.0031*\"company\" + 0.003*\"stocks\" + 0.0028*\"stock\"')\n",
            "(1, '0.0006*\"rises\" + 0.0005*\"premarket\" + 0.0004*\"troy\" + 0.0004*\"\" + 0.0003*\"smh\"')\n",
            "(2, '0.0009*\"traded\" + 0.0008*\"cryptocurrency\" + 0.0008*\"revolutions\" + 0.0008*\"commodities\" + 0.0007*\"blast\"')\n",
            "(3, '0.0096*\"beliefs\" + 0.0087*\"synthesis\" + 0.0082*\"creativity\" + 0.0077*\"destiny\" + 0.0074*\"motorcycle\"')\n",
            "(4, '0.0083*\"theory\" + 0.0078*\"century\" + 0.0068*\"art\" + 0.0062*\"channels\" + 0.006*\"written\"')\n",
            "(5, '0.0005*\"outnumbered\" + 0.0005*\"slumped\" + 0.0005*\"implied\" + 0.0004*\"performers\" + 0.0004*\"strategiesit\"')\n",
            "(6, '0.0013*\"mu\" + 0.0013*\"chipmaker\" + 0.0013*\"rose\" + 0.0013*\"points\" + 0.0013*\"corp\"')\n",
            "(7, '0.0002*\"delisting\" + 0.0002*\"supervisory\" + 0.0002*\"reiterates\" + 0.0002*\"whileolympusshares\" + 0.0002*\"upnoteus\"')\n",
            "\n",
            "\n",
            "FLSA-W Topics:\n",
            "\n",
            "Topic 1: nasdaq, year, company, stocks, stock\n",
            "Topic 2: rises, premarket, troy, , smh\n",
            "Topic 3: traded, cryptocurrency, revolutions, commodities, blast\n",
            "Topic 4: beliefs, synthesis, creativity, destiny, motorcycle\n",
            "Topic 5: theory, century, art, channels, written\n",
            "Topic 6: outnumbered, slumped, implied, performers, strategiesit\n",
            "Topic 7: mu, chipmaker, rose, points, corp\n",
            "Topic 8: delisting, supervisory, reiterates, whileolympusshares, upnoteus\n",
            "\n",
            "Vocabulary size: 31,465\n",
            "\n",
            "Coherence Score: 0.4316\n",
            "Diversity Score: 1.0\n",
            "Interpretability Score: 0.4316\n"
          ]
        }
      ],
      "source": [
        "# Set seed for reproducible results\n",
        "np.random.seed(42)\n",
        "\n",
        "# Train FLSA-W model on the first version of the preprocessed dataset\n",
        "flsa_w_model, flsa_w_topics = train_topic_model(train_data_v2, model_type='FLSA-W', num_topics=NUMBER_OF_TOPICS, preprocess=True, words_to_exclude={'gmt', 'inc', 'com'})\n",
        "\n",
        "# Show the topics generated\n",
        "print(\"FLSA-W Topics with Word Probabilities:\\n\")\n",
        "for topic in flsa_w_model.show_topics():\n",
        "    print(topic)\n",
        "\n",
        "# Print topics with improved formatting\n",
        "print(\"\\n\\nFLSA-W Topics:\\n\")\n",
        "for i, topic in enumerate(flsa_w_topics):\n",
        "    print(f\"Topic {i + 1}: {', '.join(topic)}\")\n",
        "\n",
        "print(f\"\\nVocabulary size: {flsa_w_model.get_vocabulary_size():,}\")\n",
        "\n",
        "# Show topic quality scores\n",
        "print(\"\\nCoherence Score:\", round(flsa_w_model.get_coherence_score(), 4))\n",
        "print(\"Diversity Score:\", round(flsa_w_model.get_diversity_score(), 4))\n",
        "print(\"Interpretability Score:\", round(flsa_w_model.get_interpretability_score(), 4))"
      ]
    },
    {
      "cell_type": "markdown",
      "metadata": {
        "id": "NuFOEwWUz1yn"
      },
      "source": [
        "### BERTopic"
      ]
    },
    {
      "cell_type": "code",
      "execution_count": null,
      "metadata": {
        "id": "3rk6CVxSz1yo"
      },
      "outputs": [],
      "source": [
        "# Train BERTopic model on the first version of the preprocessed dataset\n",
        "bertopic_model, bertopic_topics = train_topic_model(train_data_v2, model_type='BERTopic')\n",
        "\n",
        "# Print the generated BERTopic topics\n",
        "print(\"BERTopic Topics:\")\n",
        "print_bertopic_topics(bertopic_model)"
      ]
    },
    {
      "cell_type": "markdown",
      "metadata": {
        "id": "sCrN0l0oOcXW"
      },
      "source": [
        "## Iteration 3"
      ]
    },
    {
      "cell_type": "markdown",
      "metadata": {},
      "source": [
        "### LDA"
      ]
    },
    {
      "cell_type": "code",
      "execution_count": 41,
      "metadata": {},
      "outputs": [
        {
          "name": "stdout",
          "output_type": "stream",
          "text": [
            "(0, '0.001*\"level\" + 0.001*\"up\" + 0.001*\"day\" + 0.001*\"get\" + 0.001*\"like\"')\n",
            "(1, '0.006*\"rise\" + 0.006*\"today\" + 0.006*\"tesla\" + 0.006*\"think\" + 0.006*\"right\"')\n",
            "(2, '0.001*\"also\" + 0.001*\"like\" + 0.001*\"research\" + 0.001*\"giant\" + 0.001*\"report\"')\n",
            "(3, '0.005*\"down\" + 0.005*\"investor\" + 0.004*\"low\" + 0.004*\"end\" + 0.004*\"time\"')\n",
            "(4, '0.006*\"china\" + 0.006*\"company\" + 0.006*\"share\" + 0.005*\"president\" + 0.005*\"dow\"')\n",
            "(5, '0.001*\"service\" + 0.001*\"price\" + 0.001*\"down\" + 0.001*\"time\" + 0.001*\"drive\"')\n",
            "(6, '0.004*\"make\" + 0.004*\"based\" + 0.004*\"inch\" + 0.004*\"group\" + 0.004*\"phone\"')\n",
            "(7, '0.006*\"next\" + 0.006*\"like\" + 0.006*\"also\" + 0.006*\"fleet\" + 0.006*\"automated\"')\n"
          ]
        }
      ],
      "source": [
        "LDA_model_v3, LDA_topics_v3 = train_topic_model(train_data_v3[0:10], model_type='LDA', num_topics=NUMBER_OF_TOPICS, preprocess=False)\n",
        "\n",
        "# Print topics\n",
        "for topic in LDA_topics_v3:\n",
        "    print(topic)"
      ]
    },
    {
      "cell_type": "markdown",
      "metadata": {},
      "source": [
        "### FLSA-W"
      ]
    },
    {
      "cell_type": "code",
      "execution_count": 42,
      "metadata": {},
      "outputs": [
        {
          "name": "stdout",
          "output_type": "stream",
          "text": [
            "FLSA-W Topics with Word Probabilities:\n",
            "\n",
            "(0, '0.0002*\"reiterates\" + 0.0002*\"delisting\" + 0.0002*\"supervisory\" + 0.0002*\"upnoteus\" + 0.0002*\"whileolympusshares\"')\n",
            "(1, '0.0005*\"premarket\" + 0.0005*\"troy\" + 0.0004*\"smh\" + 0.0003*\"nellis\" + 0.0003*\"mcqueeney\"')\n",
            "(2, '0.0035*\"market\" + 0.0035*\"nasdaq\" + 0.0033*\"share\" + 0.0032*\"stock\" + 0.0031*\"technology\"')\n",
            "(3, '0.0017*\"corp\" + 0.0016*\"session\" + 0.0015*\"rose\" + 0.0015*\"zacks\" + 0.0015*\"fell\"')\n",
            "(4, '0.0011*\"traded\" + 0.0009*\"blast\" + 0.0009*\"cryptocurrency\" + 0.0009*\"mining\" + 0.0008*\"elsewhere\"')\n",
            "(5, '0.0006*\"performer\" + 0.0005*\"settle\" + 0.0005*\"slumped\" + 0.0005*\"implied\" + 0.0005*\"remarkably\"')\n",
            "(6, '0.0088*\"theory\" + 0.0085*\"century\" + 0.0069*\"scientist\" + 0.0067*\"education\" + 0.0065*\"author\"')\n",
            "(7, '0.0096*\"synthesis\" + 0.0089*\"creativity\" + 0.0086*\"crispr\" + 0.0083*\"destiny\" + 0.008*\"professor\"')\n",
            "\n",
            "\n",
            "FLSA-W Topics:\n",
            "\n",
            "Topic 1: reiterates, delisting, supervisory, upnoteus, whileolympusshares\n",
            "Topic 2: premarket, troy, smh, nellis, mcqueeney\n",
            "Topic 3: market, nasdaq, share, stock, technology\n",
            "Topic 4: corp, session, rose, zacks, fell\n",
            "Topic 5: traded, blast, cryptocurrency, mining, elsewhere\n",
            "Topic 6: performer, settle, slumped, implied, remarkably\n",
            "Topic 7: theory, century, scientist, education, author\n",
            "Topic 8: synthesis, creativity, crispr, destiny, professor\n",
            "\n",
            "Vocabulary size: 28,453\n",
            "\n",
            "Coherence Score: 0.515\n",
            "Diversity Score: 1.0\n",
            "Interpretability Score: 0.515\n"
          ]
        }
      ],
      "source": [
        "# Set seed for reproducible results\n",
        "np.random.seed(42)\n",
        "\n",
        "# Train FLSA-W model on the first version of the preprocessed dataset\n",
        "flsa_w_model, flsa_w_topics = train_topic_model(train_data_v3, model_type='FLSA-W', num_topics=NUMBER_OF_TOPICS, preprocess=True, words_to_exclude={'gmt', 'inc', 'com', 'googl', 'amat', 'et'})\n",
        "\n",
        "# Show the topics generated\n",
        "print(\"FLSA-W Topics with Word Probabilities:\\n\")\n",
        "for topic in flsa_w_model.show_topics():\n",
        "    print(topic)\n",
        "\n",
        "# Print topics with improved formatting\n",
        "print(\"\\n\\nFLSA-W Topics:\\n\")\n",
        "for i, topic in enumerate(flsa_w_topics):\n",
        "    print(f\"Topic {i + 1}: {', '.join(topic)}\")\n",
        "\n",
        "print(f\"\\nVocabulary size: {flsa_w_model.get_vocabulary_size():,}\")\n",
        "\n",
        "# Show topic quality scores\n",
        "print(\"\\nCoherence Score:\", round(flsa_w_model.get_coherence_score(), 4))\n",
        "print(\"Diversity Score:\", round(flsa_w_model.get_diversity_score(), 4))\n",
        "print(\"Interpretability Score:\", round(flsa_w_model.get_interpretability_score(), 4))"
      ]
    },
    {
      "cell_type": "markdown",
      "metadata": {
        "id": "0Hxrgkgcz5QB"
      },
      "source": [
        "### BERTopic"
      ]
    },
    {
      "cell_type": "code",
      "execution_count": null,
      "metadata": {
        "id": "FL6HDDnMz5QC"
      },
      "outputs": [],
      "source": [
        "# Train BERTopic model on the first version of the preprocessed dataset\n",
        "bertopic_model, bertopic_topics = train_topic_model(train_data_v3, model_type='BERTopic')\n",
        "\n",
        "# Print the generated BERTopic topics\n",
        "print(\"BERTopic Topics:\")\n",
        "print_bertopic_topics(bertopic_model)"
      ]
    },
    {
      "cell_type": "markdown",
      "metadata": {
        "id": "4fArTnJ50J7O"
      },
      "source": [
        "Topic Similarity Matrix"
      ]
    },
    {
      "cell_type": "code",
      "execution_count": null,
      "metadata": {
        "id": "SmkYFtmt0GXP"
      },
      "outputs": [],
      "source": [
        "bertopic_model.visualize_heatmap()"
      ]
    },
    {
      "cell_type": "markdown",
      "metadata": {
        "id": "nxD_9xRpOn4c"
      },
      "source": [
        "## Output of Final Topic Model"
      ]
    }
  ],
  "metadata": {
    "colab": {
      "provenance": []
    },
    "kernelspec": {
      "display_name": "nlp-project",
      "language": "python",
      "name": "python3"
    },
    "language_info": {
      "codemirror_mode": {
        "name": "ipython",
        "version": 3
      },
      "file_extension": ".py",
      "mimetype": "text/x-python",
      "name": "python",
      "nbconvert_exporter": "python",
      "pygments_lexer": "ipython3",
      "version": "3.12.4"
    }
  },
  "nbformat": 4,
  "nbformat_minor": 0
}

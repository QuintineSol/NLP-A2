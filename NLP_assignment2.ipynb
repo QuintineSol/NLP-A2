{
  "cells": [
    {
      "cell_type": "markdown",
      "metadata": {
        "id": "9rYAx4e2IoF2"
      },
      "source": [
        "# NLP - Assignment 2"
      ]
    },
    {
      "cell_type": "markdown",
      "metadata": {
        "id": "h6Me-aAIIucC"
      },
      "source": [
        "## Imports"
      ]
    },
    {
      "cell_type": "code",
      "execution_count": 10,
      "metadata": {
        "id": "eJpG9EHvI1ni"
      },
      "outputs": [],
      "source": [
        "import pandas as pd\n",
        "from collections import Counter\n",
        "from sklearn.feature_extraction.text import CountVectorizer\n",
        "from sklearn.decomposition import LatentDirichletAllocation\n",
        "from bertopic import BERTopic\n",
        "import numpy as np\n",
        "import re\n",
        "import nltk\n",
        "from nltk.corpus import stopwords\n",
        "from nltk.tokenize import word_tokenize\n",
        "from nltk.stem import WordNetLemmatizer, PorterStemmer\n",
        "from FuzzyTM import FLSA_W\n",
        "from gensim.models import CoherenceModel\n",
        "import matplotlib.pyplot as plt\n",
        "import gensim\n",
        "from gensim import corpora"
      ]
    },
    {
      "cell_type": "markdown",
      "metadata": {
        "id": "KJrknAepI-ey"
      },
      "source": [
        "## Preprocess Data"
      ]
    },
    {
      "cell_type": "code",
      "execution_count": 11,
      "metadata": {
        "id": "NLJ5KEEQJB1d"
      },
      "outputs": [
        {
          "data": {
            "text/html": [
              "<div>\n",
              "<style scoped>\n",
              "    .dataframe tbody tr th:only-of-type {\n",
              "        vertical-align: middle;\n",
              "    }\n",
              "\n",
              "    .dataframe tbody tr th {\n",
              "        vertical-align: top;\n",
              "    }\n",
              "\n",
              "    .dataframe thead th {\n",
              "        text-align: right;\n",
              "    }\n",
              "</style>\n",
              "<table border=\"1\" class=\"dataframe\">\n",
              "  <thead>\n",
              "    <tr style=\"text-align: right;\">\n",
              "      <th></th>\n",
              "      <th>id</th>\n",
              "      <th>ticker</th>\n",
              "      <th>title</th>\n",
              "      <th>category</th>\n",
              "      <th>content</th>\n",
              "      <th>release_date</th>\n",
              "      <th>provider</th>\n",
              "      <th>url</th>\n",
              "      <th>article_id</th>\n",
              "    </tr>\n",
              "  </thead>\n",
              "  <tbody>\n",
              "    <tr>\n",
              "      <th>0</th>\n",
              "      <td>221515</td>\n",
              "      <td>NIO</td>\n",
              "      <td>Why Shares of Chinese Electric Car Maker NIO A...</td>\n",
              "      <td>news</td>\n",
              "      <td>What s happening\\nShares of Chinese electric c...</td>\n",
              "      <td>2020-01-15</td>\n",
              "      <td>The Motley Fool</td>\n",
              "      <td>https://invst.ly/pigqi</td>\n",
              "      <td>2060327</td>\n",
              "    </tr>\n",
              "    <tr>\n",
              "      <th>1</th>\n",
              "      <td>221516</td>\n",
              "      <td>NIO</td>\n",
              "      <td>NIO only consumer gainer  Workhorse Group amon...</td>\n",
              "      <td>news</td>\n",
              "      <td>Gainers  NIO  NYSE NIO   7  \\nLosers  MGP Ingr...</td>\n",
              "      <td>2020-01-18</td>\n",
              "      <td>Seeking Alpha</td>\n",
              "      <td>https://invst.ly/pje9c</td>\n",
              "      <td>2062196</td>\n",
              "    </tr>\n",
              "    <tr>\n",
              "      <th>2</th>\n",
              "      <td>221517</td>\n",
              "      <td>NIO</td>\n",
              "      <td>NIO leads consumer gainers  Beyond Meat and Ma...</td>\n",
              "      <td>news</td>\n",
              "      <td>Gainers  NIO  NYSE NIO   14   Village Farms In...</td>\n",
              "      <td>2020-01-15</td>\n",
              "      <td>Seeking Alpha</td>\n",
              "      <td>https://invst.ly/pifmv</td>\n",
              "      <td>2060249</td>\n",
              "    </tr>\n",
              "    <tr>\n",
              "      <th>3</th>\n",
              "      <td>221518</td>\n",
              "      <td>NIO</td>\n",
              "      <td>NIO  NVAX among premarket gainers</td>\n",
              "      <td>news</td>\n",
              "      <td>Cemtrex  NASDAQ CETX   85  after FY results \\n...</td>\n",
              "      <td>2020-01-15</td>\n",
              "      <td>Seeking Alpha</td>\n",
              "      <td>https://invst.ly/picu8</td>\n",
              "      <td>2060039</td>\n",
              "    </tr>\n",
              "    <tr>\n",
              "      <th>4</th>\n",
              "      <td>221519</td>\n",
              "      <td>NIO</td>\n",
              "      <td>PLUG  NIO among premarket gainers</td>\n",
              "      <td>news</td>\n",
              "      <td>aTyr Pharma  NASDAQ LIFE   63  on Kyorin Pharm...</td>\n",
              "      <td>2020-01-06</td>\n",
              "      <td>Seeking Alpha</td>\n",
              "      <td>https://seekingalpha.com/news/3529772-plug-nio...</td>\n",
              "      <td>2053096</td>\n",
              "    </tr>\n",
              "  </tbody>\n",
              "</table>\n",
              "</div>"
            ],
            "text/plain": [
              "       id ticker                                              title category  \\\n",
              "0  221515    NIO  Why Shares of Chinese Electric Car Maker NIO A...     news   \n",
              "1  221516    NIO  NIO only consumer gainer  Workhorse Group amon...     news   \n",
              "2  221517    NIO  NIO leads consumer gainers  Beyond Meat and Ma...     news   \n",
              "3  221518    NIO                  NIO  NVAX among premarket gainers     news   \n",
              "4  221519    NIO                  PLUG  NIO among premarket gainers     news   \n",
              "\n",
              "                                             content release_date  \\\n",
              "0  What s happening\\nShares of Chinese electric c...   2020-01-15   \n",
              "1  Gainers  NIO  NYSE NIO   7  \\nLosers  MGP Ingr...   2020-01-18   \n",
              "2  Gainers  NIO  NYSE NIO   14   Village Farms In...   2020-01-15   \n",
              "3  Cemtrex  NASDAQ CETX   85  after FY results \\n...   2020-01-15   \n",
              "4  aTyr Pharma  NASDAQ LIFE   63  on Kyorin Pharm...   2020-01-06   \n",
              "\n",
              "          provider                                                url  \\\n",
              "0  The Motley Fool                             https://invst.ly/pigqi   \n",
              "1    Seeking Alpha                             https://invst.ly/pje9c   \n",
              "2    Seeking Alpha                             https://invst.ly/pifmv   \n",
              "3    Seeking Alpha                             https://invst.ly/picu8   \n",
              "4    Seeking Alpha  https://seekingalpha.com/news/3529772-plug-nio...   \n",
              "\n",
              "   article_id  \n",
              "0     2060327  \n",
              "1     2062196  \n",
              "2     2060249  \n",
              "3     2060039  \n",
              "4     2053096  "
            ]
          },
          "execution_count": 11,
          "metadata": {},
          "output_type": "execute_result"
        }
      ],
      "source": [
        "path = \"./us_equities_news_dataset.csv\"\n",
        "\n",
        "# Load the news dataset\n",
        "news_dataset = pd.read_csv(\"./us_equities_news_dataset.csv\")\n",
        "news_dataset.head()"
      ]
    },
    {
      "cell_type": "code",
      "execution_count": 12,
      "metadata": {
        "id": "hlbTI6GjJE-m"
      },
      "outputs": [],
      "source": [
        "# Filter dataset to only include articles with 'Nvidia' in the content\n",
        "nvidia_dataset = news_dataset[news_dataset['content'].str.contains('Nvidia', case=False, na=False)]"
      ]
    },
    {
      "cell_type": "code",
      "execution_count": 13,
      "metadata": {
        "id": "WpjzmJNYJXXB"
      },
      "outputs": [],
      "source": [
        "# Concatenate title and content columns\n",
        "nvidia_dataset['content'] = nvidia_dataset['title'] + ' ' + nvidia_dataset['content']"
      ]
    },
    {
      "cell_type": "code",
      "execution_count": 14,
      "metadata": {
        "id": "Rj42yjhDJNeq"
      },
      "outputs": [],
      "source": [
        "# Initialize the lemmatizer\n",
        "lemmatizer = WordNetLemmatizer()\n",
        "\n",
        "# Define the default stop words\n",
        "default_stop_words = set(stopwords.words('english'))\n",
        "\n",
        "def preprocess_text(text,\n",
        "                    remove_punctuation=True,\n",
        "                    remove_stopwords=True,\n",
        "                    lemmatize=False,\n",
        "                    remove_short_words=False,\n",
        "                    remove_numbers=True,\n",
        "                    min_word_length=2,\n",
        "                    top_n_percent=0,\n",
        "                    bottom_n_percent=0,\n",
        "                    remove_words=None,  # specific words to remove\n",
        "                    meaningful_words=None  # meaningful words to keep\n",
        "                   ):\n",
        "    \"\"\"\n",
        "    Advanced preprocessing function that applies different levels of text processing.\n",
        "\n",
        "    Parameters:\n",
        "    - text: The text to preprocess.\n",
        "    - remove_punctuation: Whether to remove punctuation from the text.\n",
        "    - remove_stopwords: Whether to remove common stopwords.\n",
        "    - lemmatize: Whether to apply lemmatization to reduce words to their root form.\n",
        "    - remove_short_words: Whether to remove short words from the text.\n",
        "    - remove_numbers: Whether to remove numbers from the text.\n",
        "    - min_word_length: The minimum length of words to keep in the text.\n",
        "    - top_n_percent: Percentage of the most frequent words to remove.\n",
        "    - bottom_n_percent: Percentage of the least frequent words to remove.\n",
        "    - remove_words: A list of specific words to remove.\n",
        "    - meaningful_words: A list of meaningful words to exclude from stop words.\n",
        "\n",
        "    Returns:\n",
        "    - Preprocessed text as tokens.\n",
        "    \"\"\"\n",
        "\n",
        "    # Tokenization\n",
        "    tokens = word_tokenize(text)\n",
        "\n",
        "    # Convert to lowercase\n",
        "    tokens = [token.lower() for token in tokens]\n",
        "\n",
        "    # Calculate global word frequencies\n",
        "    global_word_frequencies = Counter(tokens)\n",
        "\n",
        "    # Remove numbers if specified\n",
        "    if remove_numbers:\n",
        "        tokens = [re.sub(r'\\d+', '', token) for token in tokens]\n",
        "\n",
        "    # Remove non-alphabetic characters (punctuation)\n",
        "    if remove_punctuation:\n",
        "        tokens = [re.sub(r'[^a-zA-Z]', '', token) for token in tokens]\n",
        "\n",
        "    # Remove stopwords, excluding meaningful words\n",
        "    if remove_stopwords:\n",
        "        stop_words = default_stop_words\n",
        "        if meaningful_words:\n",
        "            stop_words = stop_words - set(meaningful_words)  # Exclude meaningful words from stop words\n",
        "        tokens = [token for token in tokens if token not in stop_words]\n",
        "\n",
        "    # Lemmatization\n",
        "    if lemmatize:\n",
        "        tokens = [lemmatizer.lemmatize(token) for token in tokens]\n",
        "\n",
        "    # Remove short words\n",
        "    if remove_short_words:\n",
        "        tokens = [token for token in tokens if len(token) >= min_word_length]\n",
        "\n",
        "    # Remove top n% most frequent words\n",
        "    if top_n_percent > 0:\n",
        "        top_n_cutoff = int(len(global_word_frequencies) * (top_n_percent / 100))\n",
        "        top_n_words = {word for word, count in global_word_frequencies.most_common(top_n_cutoff)}\n",
        "        tokens = [token for token in tokens if token not in top_n_words]\n",
        "\n",
        "    # Remove bottom n% least frequent words\n",
        "    if bottom_n_percent > 0:\n",
        "        bottom_n_cutoff = int(len(global_word_frequencies) * (bottom_n_percent / 100))\n",
        "        bottom_n_words = {word for word, count in global_word_frequencies.most_common()[:-bottom_n_cutoff-1:-1]}\n",
        "        tokens = [token for token in tokens if token not in bottom_n_words]\n",
        "\n",
        "    # Remove specific words\n",
        "    if remove_words:\n",
        "        tokens = [token for token in tokens if token not in remove_words]\n",
        "\n",
        "    return tokens"
      ]
    },
    {
      "cell_type": "code",
      "execution_count": 15,
      "metadata": {
        "id": "kwM0BdG7JbVQ"
      },
      "outputs": [],
      "source": [
        "def apply_preprocessing(nvidia_dataset, version='v1'):\n",
        "    \"\"\"\n",
        "    Apply different levels of preprocessing to the dataset.\n",
        "\n",
        "    Parameters:\n",
        "    - nvidia_dataset: The Nvidia articles with a 'content' column.\n",
        "    - version: The version of preprocessing to apply ('v1', 'v2', 'v3', or 'v4').\n",
        "\n",
        "    Returns:\n",
        "    - DataFrame with the original content and the preprocessed content in 'preprocessed_content' column.\n",
        "    \"\"\"\n",
        "\n",
        "    if version == 'v1':\n",
        "        # Basic tokenization and lowercasing\n",
        "        nvidia_dataset['preprocessed_content'] = nvidia_dataset['content'].apply(lambda x: preprocess_text(\n",
        "            x, \n",
        "            remove_punctuation=False, \n",
        "            remove_stopwords=False,\n",
        "            lemmatize=False, \n",
        "            remove_numbers=False,\n",
        "            remove_short_words=False,\n",
        "            top_n_percent=0,\n",
        "            bottom_n_percent=0,\n",
        "        ))\n",
        "\n",
        "    elif version == 'v2':\n",
        "        # Remove punctuation, stopwords, and numbers, but no lemmatization/stemming\n",
        "        nvidia_dataset['preprocessed_content'] = nvidia_dataset['content'].apply(lambda x: preprocess_text(\n",
        "            x, \n",
        "            remove_punctuation=True, \n",
        "            remove_stopwords=True,\n",
        "            lemmatize=False, \n",
        "            remove_numbers=True,\n",
        "            remove_short_words=False,\n",
        "            top_n_percent=5,\n",
        "            bottom_n_percent=5,\n",
        "            remove_words=['nvidia'],\n",
        "            meaningful_words=['up', 'down']\n",
        "        ))\n",
        "\n",
        "    elif version == 'v3':\n",
        "        # Full preprocessing with lemmatization instead of stemming, number removal, and short words removal\n",
        "        nvidia_dataset['preprocessed_content'] = nvidia_dataset['content'].apply(lambda x: preprocess_text(\n",
        "            x, \n",
        "            remove_punctuation=True, \n",
        "            remove_stopwords=True,\n",
        "            lemmatize=True, \n",
        "            remove_numbers=True,\n",
        "            remove_short_words=True, \n",
        "            min_word_length=2,\n",
        "            top_n_percent=10,\n",
        "            bottom_n_percent=10,\n",
        "            remove_words=['nvidia'],\n",
        "            meaningful_words=['up', 'down', 'through', 'during', 'before', 'after', 'above', 'below']\n",
        "        ))\n",
        "\n",
        "    else:\n",
        "        raise ValueError(\"Invalid preprocessing version. Choose from 'v1', 'v2', 'v3'\")\n",
        "\n",
        "    # Return the DataFrame with original and preprocessed content\n",
        "    return nvidia_dataset"
      ]
    },
    {
      "cell_type": "code",
      "execution_count": 16,
      "metadata": {
        "id": "MbJ5SDCFJfX3"
      },
      "outputs": [
        {
          "data": {
            "text/html": [
              "<div>\n",
              "<style scoped>\n",
              "    .dataframe tbody tr th:only-of-type {\n",
              "        vertical-align: middle;\n",
              "    }\n",
              "\n",
              "    .dataframe tbody tr th {\n",
              "        vertical-align: top;\n",
              "    }\n",
              "\n",
              "    .dataframe thead th {\n",
              "        text-align: right;\n",
              "    }\n",
              "</style>\n",
              "<table border=\"1\" class=\"dataframe\">\n",
              "  <thead>\n",
              "    <tr style=\"text-align: right;\">\n",
              "      <th></th>\n",
              "      <th>id</th>\n",
              "      <th>ticker</th>\n",
              "      <th>title</th>\n",
              "      <th>category</th>\n",
              "      <th>content</th>\n",
              "      <th>release_date</th>\n",
              "      <th>provider</th>\n",
              "      <th>url</th>\n",
              "      <th>article_id</th>\n",
              "      <th>preprocessed_content</th>\n",
              "    </tr>\n",
              "  </thead>\n",
              "  <tbody>\n",
              "    <tr>\n",
              "      <th>24</th>\n",
              "      <td>221539</td>\n",
              "      <td>NIO</td>\n",
              "      <td>A Central Bank War Just Started And Its Good F...</td>\n",
              "      <td>opinion</td>\n",
              "      <td>A Central Bank War Just Started And Its Good F...</td>\n",
              "      <td>2019-03-07</td>\n",
              "      <td>Michael Kramer</td>\n",
              "      <td>https://www.investing.com/analysis/a-central-b...</td>\n",
              "      <td>200395687</td>\n",
              "      <td>[central, bank, war, started, good, stock, ecb...</td>\n",
              "    </tr>\n",
              "    <tr>\n",
              "      <th>32</th>\n",
              "      <td>221547</td>\n",
              "      <td>NIO</td>\n",
              "      <td>6 Stocks To Watch  Nivida Could Be Falling</td>\n",
              "      <td>opinion</td>\n",
              "      <td>6 Stocks To Watch  Nivida Could Be Falling 6 S...</td>\n",
              "      <td>2019-03-06</td>\n",
              "      <td>Michael Kramer</td>\n",
              "      <td>https://www.investing.com/analysis/6-stocks-to...</td>\n",
              "      <td>200394931</td>\n",
              "      <td>[watch, nivida, could, falling, watch, march, ...</td>\n",
              "    </tr>\n",
              "    <tr>\n",
              "      <th>57</th>\n",
              "      <td>221572</td>\n",
              "      <td>NIO</td>\n",
              "      <td>Stocks   Dow Drops Nearly 400 Points as Apple ...</td>\n",
              "      <td>news</td>\n",
              "      <td>Stocks   Dow Drops Nearly 400 Points as Apple ...</td>\n",
              "      <td>2018-11-19</td>\n",
              "      <td>Investing.com</td>\n",
              "      <td>https://www.investing.com/news/stock-market-ne...</td>\n",
              "      <td>1694042</td>\n",
              "      <td>[stock, dow, drop, nearly, point, lead, rout, ...</td>\n",
              "    </tr>\n",
              "    <tr>\n",
              "      <th>78</th>\n",
              "      <td>221593</td>\n",
              "      <td>UBER</td>\n",
              "      <td>The Zacks Analyst Blog Highlights  Advanced Mi...</td>\n",
              "      <td>opinion</td>\n",
              "      <td>The Zacks Analyst Blog Highlights  Advanced Mi...</td>\n",
              "      <td>2020-01-12</td>\n",
              "      <td>Zacks Investment Research</td>\n",
              "      <td>https://www.investing.com/analysis/the-zacks-a...</td>\n",
              "      <td>200498277</td>\n",
              "      <td>[highlight, device, immediate, releasechicago,...</td>\n",
              "    </tr>\n",
              "    <tr>\n",
              "      <th>82</th>\n",
              "      <td>221597</td>\n",
              "      <td>UBER</td>\n",
              "      <td>The Best Of CES 2020  Revised</td>\n",
              "      <td>opinion</td>\n",
              "      <td>The Best Of CES 2020  Revised  With 4 500 comp...</td>\n",
              "      <td>2020-01-16</td>\n",
              "      <td>Zacks Investment Research</td>\n",
              "      <td>https://www.investing.com/analysis/the-best-of...</td>\n",
              "      <td>200499164</td>\n",
              "      <td>[best, ce, revised, company, bringing, innovat...</td>\n",
              "    </tr>\n",
              "  </tbody>\n",
              "</table>\n",
              "</div>"
            ],
            "text/plain": [
              "        id ticker                                              title category  \\\n",
              "24  221539    NIO  A Central Bank War Just Started And Its Good F...  opinion   \n",
              "32  221547    NIO         6 Stocks To Watch  Nivida Could Be Falling  opinion   \n",
              "57  221572    NIO  Stocks   Dow Drops Nearly 400 Points as Apple ...     news   \n",
              "78  221593   UBER  The Zacks Analyst Blog Highlights  Advanced Mi...  opinion   \n",
              "82  221597   UBER                     The Best Of CES 2020  Revised   opinion   \n",
              "\n",
              "                                              content release_date  \\\n",
              "24  A Central Bank War Just Started And Its Good F...   2019-03-07   \n",
              "32  6 Stocks To Watch  Nivida Could Be Falling 6 S...   2019-03-06   \n",
              "57  Stocks   Dow Drops Nearly 400 Points as Apple ...   2018-11-19   \n",
              "78  The Zacks Analyst Blog Highlights  Advanced Mi...   2020-01-12   \n",
              "82  The Best Of CES 2020  Revised  With 4 500 comp...   2020-01-16   \n",
              "\n",
              "                     provider  \\\n",
              "24             Michael Kramer   \n",
              "32             Michael Kramer   \n",
              "57              Investing.com   \n",
              "78  Zacks Investment Research   \n",
              "82  Zacks Investment Research   \n",
              "\n",
              "                                                  url  article_id  \\\n",
              "24  https://www.investing.com/analysis/a-central-b...   200395687   \n",
              "32  https://www.investing.com/analysis/6-stocks-to...   200394931   \n",
              "57  https://www.investing.com/news/stock-market-ne...     1694042   \n",
              "78  https://www.investing.com/analysis/the-zacks-a...   200498277   \n",
              "82  https://www.investing.com/analysis/the-best-of...   200499164   \n",
              "\n",
              "                                 preprocessed_content  \n",
              "24  [central, bank, war, started, good, stock, ecb...  \n",
              "32  [watch, nivida, could, falling, watch, march, ...  \n",
              "57  [stock, dow, drop, nearly, point, lead, rout, ...  \n",
              "78  [highlight, device, immediate, releasechicago,...  \n",
              "82  [best, ce, revised, company, bringing, innovat...  "
            ]
          },
          "execution_count": 16,
          "metadata": {},
          "output_type": "execute_result"
        }
      ],
      "source": [
        "train_data_v1 = apply_preprocessing(nvidia_dataset, version='v1')  # Basic preprocessing\n",
        "train_data_v2 = apply_preprocessing(nvidia_dataset, version='v2')  # Intermediate preprocessing\n",
        "train_data_v3 = apply_preprocessing(nvidia_dataset, version='v3')  # Full preprocessing with lemmatizer\n",
        "\n",
        "train_data_v1.head()"
      ]
    },
    {
      "cell_type": "code",
      "execution_count": 36,
      "metadata": {},
      "outputs": [
        {
          "name": "stdout",
          "output_type": "stream",
          "text": [
            "Most common 50 words and respective frequencies:\n",
            "\n",
            "1 - stock           8447\n",
            "2 - share           6110\n",
            "3 - revenue         5178\n",
            "4 - company         4824\n",
            "5 - market          4352\n",
            "6 - investor        4033\n",
            "7 - estimate        3451\n",
            "8 - also            3424\n",
            "9 - year            3421\n",
            "10- up              3327\n",
            "11- nvda            3186\n",
            "12- nasdaq          3114\n",
            "13- high            3052\n",
            "14- price           3011\n",
            "15- technology      2980\n",
            "16- sale            2967\n",
            "17- report          2909\n",
            "18- result          2895\n",
            "19- buy             2886\n",
            "20- product         2854\n",
            "21- time            2830\n",
            "22- day             2793\n",
            "23- last            2679\n",
            "24- strong          2671\n",
            "25- expected        2669\n",
            "26- nyse            2657\n",
            "27- new             2634\n",
            "28- one             2602\n",
            "29- see             2581\n",
            "30- top             2552\n",
            "31- growth          2548\n",
            "32- billion         2505\n",
            "33- rank            2367\n",
            "34- like            2343\n",
            "35- month           2343\n",
            "36- chip            2320\n",
            "37- quarter         2274\n",
            "38- sector          2241\n",
            "39- analyst         2237\n",
            "40- after           2222\n",
            "41- well            2195\n",
            "42- point           2180\n",
            "43- inc             2144\n",
            "44- per             2142\n",
            "45- business        2116\n",
            "46- gain            2110\n",
            "47- term            2097\n",
            "48- service         2031\n",
            "49- higher          2023\n",
            "50- week            1998\n"
          ]
        }
      ],
      "source": [
        "# Flatten the list of lists to get a single list of words\n",
        "all_tokens_v3 = [word for sublist in train_data_v3['preprocessed_content'] for word in sublist]\n",
        "\n",
        "# Get the 50 most common words\n",
        "common_words_v3 = Counter(all_tokens_v3).most_common(50)\n",
        "\n",
        "# Print the most common 50 words and their respective frequencies\n",
        "print('Most common 50 words and respective frequencies:\\n')\n",
        "for i, (word, freq) in enumerate(common_words_v3, 1):\n",
        "    print(f'{i:<2}- {word:<15} {freq}')"
      ]
    },
    {
      "cell_type": "code",
      "execution_count": 18,
      "metadata": {},
      "outputs": [
        {
          "name": "stdout",
          "output_type": "stream",
          "text": [
            "Number of unique words: 27,735\n",
            "Lexical richness: 0.0273\n"
          ]
        }
      ],
      "source": [
        "print(f\"Number of unique words: {len(set(all_tokens_v3)):,}\")\n",
        "print(f\"Lexical richness: {len(set(all_tokens_v3))/len(all_tokens_v3):.4f}\")"
      ]
    },
    {
      "cell_type": "markdown",
      "metadata": {
        "id": "IzHaJpSUJno8"
      },
      "source": [
        "## Helper functions"
      ]
    },
    {
      "cell_type": "code",
      "execution_count": 19,
      "metadata": {},
      "outputs": [],
      "source": [
        "def remove_top_bottom_words(preprocessed_content, top_percent=10, bottom_percent=10, words_to_exclude=None):\n",
        "    \"\"\"\n",
        "    Remove top-n% and bottom-n% words based on frequency and exclude specified words.\n",
        "\n",
        "    Parameters:\n",
        "    - preprocessed_content: list of lists, the preprocessed content\n",
        "    - top_percent: int, the top n% of words to remove\n",
        "    - bottom_percent: int, the bottom n% of words to remove\n",
        "    - words_to_exclude: set, the words to exclude\n",
        "\n",
        "    Returns:\n",
        "    - list of lists, the content with specified words removed\n",
        "    \"\"\"\n",
        "    # Flatten the list of lists to get a single list of words\n",
        "    all_words = [word for sublist in preprocessed_content for word in sublist]\n",
        "    \n",
        "    # Get the word frequencies\n",
        "    word_freq = Counter(all_words)\n",
        "    \n",
        "    # Calculate the number of words to remove\n",
        "    total_words = len(word_freq)\n",
        "    top_n = int(total_words * top_percent / 100)\n",
        "    bottom_n = int(total_words * bottom_percent / 100)\n",
        "    \n",
        "    # Get the top-n% and bottom-n% words\n",
        "    top_words = set([word for word, freq in word_freq.most_common(top_n)])\n",
        "    bottom_words = set([word for word, freq in word_freq.most_common()[:-bottom_n-1:-1]])\n",
        "    \n",
        "    # Combine the words to exclude\n",
        "    words_to_remove = top_words | bottom_words\n",
        "    if words_to_exclude:\n",
        "        words_to_remove |= words_to_exclude\n",
        "    \n",
        "    # Remove the specified words from the content\n",
        "    filtered_content = [[word for word in sublist if word not in words_to_remove] for sublist in preprocessed_content]\n",
        "    \n",
        "    return filtered_content"
      ]
    },
    {
      "cell_type": "markdown",
      "metadata": {
        "id": "3fqtU4TAwSlt"
      },
      "source": [
        "### LDA"
      ]
    },
    {
      "cell_type": "markdown",
      "metadata": {},
      "source": [
        "### FLSA-W"
      ]
    },
    {
      "cell_type": "code",
      "execution_count": 18,
      "metadata": {},
      "outputs": [],
      "source": [
        "def plot_elbow_curve(topic_nums, coherence_scores):\n",
        "    \"\"\"\n",
        "    Create an elbow plot for the coherence scores vs. number of topics.\n",
        "\n",
        "    Parameters:\n",
        "    - topic_nums: list of number of topics tested.\n",
        "    - coherence_scores: list of coherence scores for each number of topics.\n",
        "    \"\"\"\n",
        "    plt.figure(figsize=(8, 5))\n",
        "    plt.plot(topic_nums, coherence_scores, marker='o')\n",
        "    plt.title('FLSA-W Elbow Plot: Number of Topics vs Coherence Score')\n",
        "    plt.xlabel('Number of Topics')\n",
        "    plt.ylabel('Coherence Score')\n",
        "    plt.grid(True)\n",
        "    plt.show()"
      ]
    },
    {
      "cell_type": "markdown",
      "metadata": {
        "id": "GdYmOMGOwzj5"
      },
      "source": [
        "### BERTopic"
      ]
    },
    {
      "cell_type": "code",
      "execution_count": 19,
      "metadata": {
        "id": "CTcmazRCKGWh"
      },
      "outputs": [],
      "source": [
        "def print_bertopic_topics(topic_model):\n",
        "    \"\"\"\n",
        "    Print topics generated by BERTopic.\n",
        "\n",
        "    Parameters:\n",
        "    - topic_model: the trained BERTopic model\n",
        "    \"\"\"\n",
        "    topics = topic_model.get_topics()\n",
        "    for topic_num, words in topics.items():\n",
        "        # Ignore the '-1' topic, which is typically noise in BERTopic\n",
        "        if topic_num == -1:\n",
        "            continue\n",
        "        print(f\"Topic {topic_num}: {', '.join([word[0] for word in words])}\")"
      ]
    },
    {
      "cell_type": "markdown",
      "metadata": {
        "id": "3GDtC3K6J2-7"
      },
      "source": [
        "## Train Topic Models"
      ]
    },
    {
      "cell_type": "code",
      "execution_count": 25,
      "metadata": {},
      "outputs": [],
      "source": [
        "# the optimal number of topics according to FLSA-W\n",
        "NUMBER_OF_TOPICS = 5"
      ]
    },
    {
      "cell_type": "code",
      "execution_count": 31,
      "metadata": {
        "id": "-Lk7x-51J8wR"
      },
      "outputs": [],
      "source": [
        "def train_topic_model(train_data, model_type='LDA', num_topics=NUMBER_OF_TOPICS): # TODO: set number of words per topic, set number of topics (maybe experiment)\n",
        "    \"\"\"\n",
        "    Train a topic model on the given training data.\n",
        "\n",
        "    Parameters:\n",
        "    - train_data: list of str, the text to train the model on\n",
        "    - model_type: str, the type of model to train ('LDA', 'FLSA-W', 'BERTopic')\n",
        "    - max_topics: int, the maximum number of topics to test\n",
        "\n",
        "    Returns:\n",
        "    - model: the trained model\n",
        "    - topics: the topics generated by the model\n",
        "    \"\"\"\n",
        "\n",
        "    train_data_list_string = [' '.join(tokens) for tokens in train_data['preprocessed_content']]\n",
        "    train_data_list_tokens = train_data['preprocessed_content'].tolist()  \n",
        "\n",
        "\n",
        "    if model_type == 'LDA':\n",
        "        # Create Gensim dictionary\n",
        "        dictionary = corpora.Dictionary(train_data_list_tokens)\n",
        "\n",
        "        # Create Document-Term Matrix\n",
        "        doc_term_matrix = [dictionary.doc2bow(doc) for doc in train_data_list_tokens]\n",
        "\n",
        "        lda_model = gensim.models.LdaModel(\n",
        "            doc_term_matrix,\n",
        "            num_topics=num_topics,\n",
        "            id2word=dictionary,\n",
        "            random_state=42,\n",
        "            passes=5,\n",
        "            alpha='auto'\n",
        "        )\n",
        "\n",
        "        # Get topics (top words in each topic)\n",
        "        topics = lda_model.print_topics(num_words=5)\n",
        "\n",
        "        return lda_model, topics\n",
        "\n",
        "    elif model_type == 'FLSA-W':\n",
        "        best_flsa_w_coherence = -1\n",
        "        best_flsa_w_model = None\n",
        "        best_flsa_w_topics = None\n",
        "        flsa_w_coherence_scores = []\n",
        "        flsa_w_topic_nums = []\n",
        "\n",
        "        for num_topics in range(2, max_topics + 1):\n",
        "            flsa_w_model = FLSA_W(\n",
        "                input_file=train_data_list_tokens,\n",
        "                num_topics=num_topics,\n",
        "                num_words=10\n",
        "            )\n",
        "            pwgt, ptgd = flsa_w_model.get_matrices()  # This trains the model\n",
        "            coherence_score = flsa_w_model.get_coherence_score()\n",
        "            flsa_w_coherence_scores.append(coherence_score)\n",
        "            flsa_w_topic_nums.append(num_topics)\n",
        "\n",
        "            if coherence_score > best_flsa_w_coherence:\n",
        "                best_flsa_w_coherence = coherence_score\n",
        "                best_flsa_w_model = flsa_w_model\n",
        "                best_flsa_w_topics = flsa_w_model.show_topics(representation='words')\n",
        "\n",
        "        return best_flsa_w_model, best_flsa_w_topics, (flsa_w_topic_nums, flsa_w_coherence_scores)\n",
        "    \n",
        "    elif model_type == 'BERTopic':\n",
        "        # Train BERTopic model\n",
        "        topic_model = BERTopic()\n",
        "        topics, _ = topic_model.fit_transform(train_data_list_string)\n",
        "\n",
        "        return topic_model, topics\n",
        "\n",
        "    else:\n",
        "        raise ValueError(\"Invalid model_type. Choose from 'LDA', 'FLSA-W', 'BERTopic'.\")"
      ]
    },
    {
      "cell_type": "code",
      "execution_count": 23,
      "metadata": {
        "id": "7b-vEbOayGaR"
      },
      "outputs": [],
      "source": [
        "def train_on_versions(data_versions, model_type, max_topics=20):\n",
        "    \"\"\"\n",
        "    Train a topic model on different versions of the data.\n",
        "\n",
        "    Parameters:\n",
        "    - data_versions: list of DataFrames, each containing a separate version of preprocessed data.\n",
        "    - model_type: str, the type of model to train ('LDA', 'FLSA-W', 'BERTopic')\n",
        "    - max_topics: int, the maximum number of topics to generate\n",
        "\n",
        "    Returns:\n",
        "    - models: list of trained models\n",
        "    - topics: list of topics generated by the models\n",
        "    \"\"\"\n",
        "\n",
        "    models = []\n",
        "    topics = []\n",
        "\n",
        "    # Train model on different versions\n",
        "    for i, data_v in enumerate(data_versions):\n",
        "        print(f\"Training model on version {i + 1}\")\n",
        "        model, topic = train_topic_model(data_v, model_type=model_type, max_topics=max_topics)\n",
        "        print(f\"Finished training model on version {i + 1}\")\n",
        "        models.append(model)\n",
        "        topics.append(topic)\n",
        "\n",
        "    return models, topics"
      ]
    },
    {
      "cell_type": "markdown",
      "metadata": {
        "id": "iuoBS0hPOgJP"
      },
      "source": [
        "## Evaluation"
      ]
    },
    {
      "cell_type": "markdown",
      "metadata": {
        "id": "E9cBzPruOiXf"
      },
      "source": [
        "### Qualitative"
      ]
    },
    {
      "cell_type": "code",
      "execution_count": 22,
      "metadata": {
        "id": "2wzFdS_K28Sa"
      },
      "outputs": [],
      "source": [
        "def inspect_model(topic_model):\n",
        "    \"\"\"\n",
        "    Inspect the topics generated by a trained topic model.\n",
        "\n",
        "    Parameters:\n",
        "    - topic_model: the trained topic model.\n",
        "    \"\"\"\n",
        "    return topic_model.get_topics(), topic_model.get_info(), topic_model.get_topic_embeddings(), topic_model.get_vocabulary(), topic_model.get_vocabulary_size() # TODO: decide on metrics"
      ]
    },
    {
      "cell_type": "markdown",
      "metadata": {
        "id": "OkdD5fS0OmLW"
      },
      "source": [
        "### Quantitative"
      ]
    },
    {
      "cell_type": "code",
      "execution_count": 23,
      "metadata": {
        "id": "dOonQ2e02mkh"
      },
      "outputs": [],
      "source": [
        "def evaluate_model(topic_model):\n",
        "    \"\"\"\n",
        "    Evaluate the quality of a trained topic model using various metrics.\n",
        "\n",
        "    Parameters:\n",
        "    - topic_model: the trained topic model.\n",
        "    \"\"\"\n",
        "    return topic_model.get_coherence_score(), topic_model.get_diversity_score(), topic_model.get_interpretability_score() # TODO: decide which metric (I think we only need coherence)"
      ]
    },
    {
      "cell_type": "markdown",
      "metadata": {
        "id": "de0Jh4K3J_o2"
      },
      "source": [
        "## Iteration 1"
      ]
    },
    {
      "cell_type": "markdown",
      "metadata": {
        "id": "sTZJ44yQKIYG"
      },
      "source": [
        "### LDA"
      ]
    },
    {
      "cell_type": "code",
      "execution_count": 32,
      "metadata": {
        "id": "810-_HuwNVTw"
      },
      "outputs": [
        {
          "name": "stdout",
          "output_type": "stream",
          "text": [
            "(0, '0.006*\"ce\" + 0.006*\"device\" + 0.005*\"announcement\" + 0.005*\"graphic\" + 0.005*\"version\"')\n",
            "(1, '0.008*\"share\" + 0.007*\"revenue\" + 0.005*\"day\" + 0.005*\"stock\" + 0.004*\"see\"')\n",
            "(2, '0.005*\"ipo\" + 0.005*\"laggard\" + 0.004*\"technology\" + 0.004*\"leader\" + 0.004*\"economy\"')\n",
            "(3, '0.002*\"stock\" + 0.001*\"company\" + 0.001*\"share\" + 0.001*\"research\" + 0.001*\"device\"')\n",
            "(4, '0.012*\"car\" + 0.008*\"stock\" + 0.007*\"company\" + 0.007*\"motor\" + 0.006*\"next\"')\n"
          ]
        }
      ],
      "source": [
        "LDA_model, LDA_topics = train_topic_model(train_data_v1[0:10], model_type='LDA', num_topics=NUMBER_OF_TOPICS)\n",
        "\n",
        "# Print topics\n",
        "for topic in LDA_topics:\n",
        "    print(topic)"
      ]
    },
    {
      "cell_type": "markdown",
      "metadata": {
        "id": "Nm02RABvNXYu"
      },
      "source": [
        "### FLSA-W"
      ]
    },
    {
      "cell_type": "code",
      "execution_count": 58,
      "metadata": {},
      "outputs": [
        {
          "name": "stdout",
          "output_type": "stream",
          "text": [
            "FLSA-W Topics with Word Probabilities:\n",
            "\n",
            "(0, '0.0005*\"gmt\" + 0.0004*\"uncover\" + 0.0004*\"performer\" + 0.0004*\"ounce\" + 0.0004*\"esp\" + 0.0004*\"unchanged\" + 0.0004*\"traded\" + 0.0004*\"nasdaq\" + 0.0004*\"company\" + 0.0004*\"towards\"')\n",
            "(1, '0.0003*\"premarket\" + 0.0002*\"company\" + 0.0002*\"nasdaq\" + 0.0002*\"market\" + 0.0002*\"stock\" + 0.0002*\"also\" + 0.0002*\"troy\" + 0.0002*\"new\" + 0.0002*\"share\" + 0.0002*\"year\"')\n",
            "(2, '0.0013*\"nvda\" + 0.0013*\"nvidia\" + 0.0013*\"corporation\" + 0.0012*\"nasdaq\" + 0.0012*\"inc\" + 0.0012*\"com\" + 0.0012*\"investing\" + 0.0011*\"rank\" + 0.0011*\"stock\" + 0.0011*\"broader\"')\n",
            "(3, '0.0101*\"book\" + 0.0081*\"evolution\" + 0.0077*\"mind\" + 0.0074*\"richard\" + 0.0069*\"science\" + 0.0064*\"certainty\" + 0.0062*\"modern\" + 0.006*\"professor\" + 0.0058*\"knowledge\" + 0.0043*\"unstoppable\"')\n",
            "\n",
            "\n",
            "FLSA-W Topics:\n",
            "\n",
            "Topic 1: gmt, uncover, performer, ounce, esp, unchanged, traded, nasdaq, company, towards\n",
            "Topic 2: premarket, company, nasdaq, market, stock, also, troy, new, share, year\n",
            "Topic 3: nvda, nvidia, corporation, nasdaq, inc, com, investing, rank, stock, broader\n",
            "Topic 4: book, evolution, mind, richard, science, certainty, modern, professor, knowledge, unstoppable\n",
            "\n",
            "Vocabulary size: 29,071\n"
          ]
        },
        {
          "data": {
            "image/png": "[encoded data removed]",
            "text/plain": [
              "<Figure size 800x500 with 1 Axes>"
            ]
          },
          "metadata": {},
          "output_type": "display_data"
        }
      ],
      "source": [
        "# Train FLSA-W model on the first version of the preprocessed dataset\n",
        "flsa_w_model, flsa_w_topics, (flsa_w_topic_nums, flsa_w_coherence_scores) = train_topic_model(train_data_v3, model_type='FLSA-W', max_topics=10)\n",
        "\n",
        "# Show the topics generated\n",
        "print(\"FLSA-W Topics with Word Probabilities:\\n\")\n",
        "for topic in flsa_w_model.show_topics():\n",
        "    print(topic)\n",
        "\n",
        "# Print topics with improved formatting\n",
        "print(\"\\n\\nFLSA-W Topics:\\n\")\n",
        "for i, topic in enumerate(flsa_w_topics):\n",
        "    print(f\"Topic {i + 1}: {', '.join(topic)}\")\n",
        "\n",
        "print(f\"\\nVocabulary size: {flsa_w_model.get_vocabulary_size():,}\")\n",
        "\n",
        "# Plot the elbow curve\n",
        "plot_elbow_curve(flsa_w_topic_nums, flsa_w_coherence_scores)"
      ]
    },
    {
      "cell_type": "code",
      "execution_count": 59,
      "metadata": {},
      "outputs": [
        {
          "name": "stdout",
          "output_type": "stream",
          "text": [
            "FLSA-W Topics with Word Probabilities:\n",
            "\n",
            "(0, '0.0003*\"premarket\" + 0.0002*\"company\" + 0.0002*\"nasdaq\" + 0.0002*\"market\" + 0.0002*\"stock\" + 0.0002*\"also\" + 0.0002*\"troy\" + 0.0002*\"new\" + 0.0002*\"share\" + 0.0002*\"year\"')\n",
            "(1, '0.0005*\"gmt\" + 0.0004*\"uncover\" + 0.0004*\"performer\" + 0.0004*\"ounce\" + 0.0004*\"esp\" + 0.0004*\"unchanged\" + 0.0004*\"traded\" + 0.0004*\"nasdaq\" + 0.0004*\"company\" + 0.0004*\"towards\"')\n",
            "(2, '0.0101*\"book\" + 0.0081*\"evolution\" + 0.0077*\"mind\" + 0.0074*\"richard\" + 0.0069*\"science\" + 0.0064*\"certainty\" + 0.0062*\"modern\" + 0.006*\"professor\" + 0.0058*\"knowledge\" + 0.0043*\"unstoppable\"')\n",
            "(3, '0.0013*\"nvda\" + 0.0013*\"nvidia\" + 0.0013*\"corporation\" + 0.0012*\"nasdaq\" + 0.0012*\"inc\" + 0.0012*\"com\" + 0.0012*\"investing\" + 0.0011*\"rank\" + 0.0011*\"stock\" + 0.0011*\"broader\"')\n",
            "\n",
            "\n",
            "FLSA-W Topics:\n",
            "\n",
            "Topic 1: premarket, company, nasdaq, market, stock, also, troy, new, share, year\n",
            "Topic 2: gmt, uncover, performer, ounce, esp, unchanged, traded, nasdaq, company, towards\n",
            "Topic 3: book, evolution, mind, richard, science, certainty, modern, professor, knowledge, unstoppable\n",
            "Topic 4: nvda, nvidia, corporation, nasdaq, inc, com, investing, rank, stock, broader\n",
            "\n",
            "Vocabulary size: 29,071\n"
          ]
        },
        {
          "data": {
            "image/png": "[encoded data removed]",
            "text/plain": [
              "<Figure size 800x500 with 1 Axes>"
            ]
          },
          "metadata": {},
          "output_type": "display_data"
        }
      ],
      "source": [
        "# Train FLSA-W model on the first version of the preprocessed dataset\n",
        "flsa_w_model, flsa_w_topics, (flsa_w_topic_nums, flsa_w_coherence_scores) = train_topic_model(train_data_v4, model_type='FLSA-W', max_topics=10)\n",
        "\n",
        "# Show the topics generated\n",
        "print(\"FLSA-W Topics with Word Probabilities:\\n\")\n",
        "for topic in flsa_w_model.show_topics():\n",
        "    print(topic)\n",
        "\n",
        "# Print topics with improved formatting\n",
        "print(\"\\n\\nFLSA-W Topics:\\n\")\n",
        "for i, topic in enumerate(flsa_w_topics):\n",
        "    print(f\"Topic {i + 1}: {', '.join(topic)}\")\n",
        "\n",
        "print(f\"\\nVocabulary size: {flsa_w_model.get_vocabulary_size():,}\")\n",
        "\n",
        "# Plot the elbow curve\n",
        "plot_elbow_curve(flsa_w_topic_nums, flsa_w_coherence_scores)"
      ]
    },
    {
      "cell_type": "markdown",
      "metadata": {
        "id": "j8JwRdpeONqM"
      },
      "source": [
        "### BERTopic"
      ]
    },
    {
      "cell_type": "code",
      "execution_count": null,
      "metadata": {
        "id": "KDhIsPONOXdS"
      },
      "outputs": [],
      "source": [
        "# Train BERTopic model on the first version of the preprocessed dataset\n",
        "bertopic_model, bertopic_topics = train_topic_model(train_data_v1, model_type='BERTopic')\n",
        "\n",
        "# Print the generated BERTopic topics\n",
        "print(\"BERTopic Topics:\")\n",
        "print_bertopic_topics(bertopic_model)"
      ]
    },
    {
      "cell_type": "markdown",
      "metadata": {
        "id": "bYY_NWeBOam7"
      },
      "source": [
        "## Iteration 2"
      ]
    },
    {
      "cell_type": "markdown",
      "metadata": {},
      "source": [
        "### LDA"
      ]
    },
    {
      "cell_type": "code",
      "execution_count": 33,
      "metadata": {},
      "outputs": [
        {
          "name": "stdout",
          "output_type": "stream",
          "text": [
            "(0, '0.006*\"ce\" + 0.006*\"device\" + 0.005*\"announcement\" + 0.005*\"graphic\" + 0.005*\"version\"')\n",
            "(1, '0.008*\"share\" + 0.007*\"revenue\" + 0.005*\"day\" + 0.005*\"stock\" + 0.004*\"see\"')\n",
            "(2, '0.005*\"ipo\" + 0.005*\"laggard\" + 0.004*\"technology\" + 0.004*\"leader\" + 0.004*\"economy\"')\n",
            "(3, '0.002*\"stock\" + 0.001*\"company\" + 0.001*\"share\" + 0.001*\"research\" + 0.001*\"device\"')\n",
            "(4, '0.012*\"car\" + 0.008*\"stock\" + 0.007*\"company\" + 0.007*\"motor\" + 0.006*\"next\"')\n"
          ]
        }
      ],
      "source": [
        "LDA_model_v2, LDA_topics_v2 = train_topic_model(train_data_v2[0:10], model_type='LDA', num_topics=NUMBER_OF_TOPICS)\n",
        "\n",
        "# Print topics\n",
        "for topic in LDA_topics_v2:\n",
        "    print(topic)"
      ]
    },
    {
      "cell_type": "markdown",
      "metadata": {
        "id": "NuFOEwWUz1yn"
      },
      "source": [
        "### BERTopic"
      ]
    },
    {
      "cell_type": "code",
      "execution_count": null,
      "metadata": {
        "id": "3rk6CVxSz1yo"
      },
      "outputs": [],
      "source": [
        "# Train BERTopic model on the first version of the preprocessed dataset\n",
        "bertopic_model, bertopic_topics = train_topic_model(train_data_v2, model_type='BERTopic')\n",
        "\n",
        "# Print the generated BERTopic topics\n",
        "print(\"BERTopic Topics:\")\n",
        "print_bertopic_topics(bertopic_model)"
      ]
    },
    {
      "cell_type": "markdown",
      "metadata": {
        "id": "sCrN0l0oOcXW"
      },
      "source": [
        "## Iteration 3"
      ]
    },
    {
      "cell_type": "markdown",
      "metadata": {},
      "source": [
        "### LDA"
      ]
    },
    {
      "cell_type": "code",
      "execution_count": 34,
      "metadata": {},
      "outputs": [
        {
          "name": "stdout",
          "output_type": "stream",
          "text": [
            "(0, '0.006*\"ce\" + 0.006*\"device\" + 0.005*\"announcement\" + 0.005*\"graphic\" + 0.005*\"version\"')\n",
            "(1, '0.008*\"share\" + 0.007*\"revenue\" + 0.005*\"day\" + 0.005*\"stock\" + 0.004*\"see\"')\n",
            "(2, '0.005*\"ipo\" + 0.005*\"laggard\" + 0.004*\"technology\" + 0.004*\"leader\" + 0.004*\"economy\"')\n",
            "(3, '0.002*\"stock\" + 0.001*\"company\" + 0.001*\"share\" + 0.001*\"research\" + 0.001*\"device\"')\n",
            "(4, '0.012*\"car\" + 0.008*\"stock\" + 0.007*\"company\" + 0.007*\"motor\" + 0.006*\"next\"')\n"
          ]
        }
      ],
      "source": [
        "LDA_model_v3, LDA_topics_v3 = train_topic_model(train_data_v3[0:10], model_type='LDA', num_topics=NUMBER_OF_TOPICS)\n",
        "\n",
        "# Print topics\n",
        "for topic in LDA_topics_v3:\n",
        "    print(topic)"
      ]
    },
    {
      "cell_type": "markdown",
      "metadata": {
        "id": "0Hxrgkgcz5QB"
      },
      "source": [
        "### BERTopic"
      ]
    },
    {
      "cell_type": "code",
      "execution_count": null,
      "metadata": {
        "id": "FL6HDDnMz5QC"
      },
      "outputs": [],
      "source": [
        "# Train BERTopic model on the first version of the preprocessed dataset\n",
        "bertopic_model, bertopic_topics = train_topic_model(train_data_v3, model_type='BERTopic')\n",
        "\n",
        "# Print the generated BERTopic topics\n",
        "print(\"BERTopic Topics:\")\n",
        "print_bertopic_topics(bertopic_model)"
      ]
    },
    {
      "cell_type": "markdown",
      "metadata": {
        "id": "4fArTnJ50J7O"
      },
      "source": [
        "Topic Similarity Matrix"
      ]
    },
    {
      "cell_type": "code",
      "execution_count": null,
      "metadata": {
        "id": "SmkYFtmt0GXP"
      },
      "outputs": [],
      "source": [
        "bertopic_model.visualize_heatmap()"
      ]
    },
    {
      "cell_type": "markdown",
      "metadata": {
        "id": "nxD_9xRpOn4c"
      },
      "source": [
        "## Output of Final Topic Model"
      ]
    }
  ],
  "metadata": {
    "colab": {
      "provenance": []
    },
    "kernelspec": {
      "display_name": "nlp-project",
      "language": "python",
      "name": "python3"
    },
    "language_info": {
      "codemirror_mode": {
        "name": "ipython",
        "version": 3
      },
      "file_extension": ".py",
      "mimetype": "text/x-python",
      "name": "python",
      "nbconvert_exporter": "python",
      "pygments_lexer": "ipython3",
      "version": "3.12.4"
    }
  },
  "nbformat": 4,
  "nbformat_minor": 0
}

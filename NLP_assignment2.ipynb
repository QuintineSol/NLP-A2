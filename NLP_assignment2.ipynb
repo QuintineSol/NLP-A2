{
 "cells": [
  {
   "cell_type": "markdown",
   "metadata": {
    "id": "9rYAx4e2IoF2"
   },
   "source": [
    "# NLP - Assignment 2"
   ]
  },
  {
   "cell_type": "markdown",
   "metadata": {
    "id": "h6Me-aAIIucC"
   },
   "source": [
    "## Imports"
   ]
  },
  {
   "cell_type": "code",
   "execution_count": 1,
   "metadata": {
    "id": "eJpG9EHvI1ni"
   },
   "outputs": [
    {
     "name": "stderr",
     "output_type": "stream",
     "text": [
      "c:\\Users\\charl\\anaconda3\\envs\\nlp-project\\Lib\\site-packages\\tqdm\\auto.py:21: TqdmWarning: IProgress not found. Please update jupyter and ipywidgets. See https://ipywidgets.readthedocs.io/en/stable/user_install.html\n",
      "  from .autonotebook import tqdm as notebook_tqdm\n",
      "[nltk_data] Downloading package punkt to\n",
      "[nltk_data]     C:\\Users\\charl\\AppData\\Roaming\\nltk_data...\n",
      "[nltk_data]   Package punkt is already up-to-date!\n",
      "[nltk_data] Downloading package stopwords to\n",
      "[nltk_data]     C:\\Users\\charl\\AppData\\Roaming\\nltk_data...\n",
      "[nltk_data]   Package stopwords is already up-to-date!\n",
      "[nltk_data] Downloading package wordnet to\n",
      "[nltk_data]     C:\\Users\\charl\\AppData\\Roaming\\nltk_data...\n",
      "[nltk_data]   Package wordnet is already up-to-date!\n"
     ]
    },
    {
     "data": {
      "text/plain": [
       "True"
      ]
     },
     "execution_count": 1,
     "metadata": {},
     "output_type": "execute_result"
    }
   ],
   "source": [
    "import pandas as pd\n",
    "from collections import Counter\n",
    "from bertopic import BERTopic\n",
    "import numpy as np\n",
    "import re\n",
    "import nltk\n",
    "from nltk.corpus import stopwords\n",
    "from nltk.tokenize import word_tokenize\n",
    "from nltk.stem import WordNetLemmatizer, PorterStemmer\n",
    "from FuzzyTM import FLSA_W\n",
    "from gensim.models import CoherenceModel, Phrases\n",
    "import matplotlib.pyplot as plt\n",
    "import gensim\n",
    "from gensim import corpora\n",
    "\n",
    "nltk.download('punkt')\n",
    "nltk.download('stopwords')\n",
    "nltk.download('wordnet')"
   ]
  },
  {
   "cell_type": "markdown",
   "metadata": {
    "id": "KJrknAepI-ey"
   },
   "source": [
    "## Preprocess Data"
   ]
  },
  {
   "cell_type": "code",
   "execution_count": 2,
   "metadata": {
    "id": "NLJ5KEEQJB1d"
   },
   "outputs": [
    {
     "data": {
      "text/html": [
       "<div>\n",
       "<style scoped>\n",
       "    .dataframe tbody tr th:only-of-type {\n",
       "        vertical-align: middle;\n",
       "    }\n",
       "\n",
       "    .dataframe tbody tr th {\n",
       "        vertical-align: top;\n",
       "    }\n",
       "\n",
       "    .dataframe thead th {\n",
       "        text-align: right;\n",
       "    }\n",
       "</style>\n",
       "<table border=\"1\" class=\"dataframe\">\n",
       "  <thead>\n",
       "    <tr style=\"text-align: right;\">\n",
       "      <th></th>\n",
       "      <th>id</th>\n",
       "      <th>ticker</th>\n",
       "      <th>title</th>\n",
       "      <th>category</th>\n",
       "      <th>content</th>\n",
       "      <th>release_date</th>\n",
       "      <th>provider</th>\n",
       "      <th>url</th>\n",
       "      <th>article_id</th>\n",
       "    </tr>\n",
       "  </thead>\n",
       "  <tbody>\n",
       "    <tr>\n",
       "      <th>0</th>\n",
       "      <td>221515</td>\n",
       "      <td>NIO</td>\n",
       "      <td>Why Shares of Chinese Electric Car Maker NIO A...</td>\n",
       "      <td>news</td>\n",
       "      <td>What s happening\\nShares of Chinese electric c...</td>\n",
       "      <td>2020-01-15</td>\n",
       "      <td>The Motley Fool</td>\n",
       "      <td>https://invst.ly/pigqi</td>\n",
       "      <td>2060327</td>\n",
       "    </tr>\n",
       "    <tr>\n",
       "      <th>1</th>\n",
       "      <td>221516</td>\n",
       "      <td>NIO</td>\n",
       "      <td>NIO only consumer gainer  Workhorse Group amon...</td>\n",
       "      <td>news</td>\n",
       "      <td>Gainers  NIO  NYSE NIO   7  \\nLosers  MGP Ingr...</td>\n",
       "      <td>2020-01-18</td>\n",
       "      <td>Seeking Alpha</td>\n",
       "      <td>https://invst.ly/pje9c</td>\n",
       "      <td>2062196</td>\n",
       "    </tr>\n",
       "    <tr>\n",
       "      <th>2</th>\n",
       "      <td>221517</td>\n",
       "      <td>NIO</td>\n",
       "      <td>NIO leads consumer gainers  Beyond Meat and Ma...</td>\n",
       "      <td>news</td>\n",
       "      <td>Gainers  NIO  NYSE NIO   14   Village Farms In...</td>\n",
       "      <td>2020-01-15</td>\n",
       "      <td>Seeking Alpha</td>\n",
       "      <td>https://invst.ly/pifmv</td>\n",
       "      <td>2060249</td>\n",
       "    </tr>\n",
       "    <tr>\n",
       "      <th>3</th>\n",
       "      <td>221518</td>\n",
       "      <td>NIO</td>\n",
       "      <td>NIO  NVAX among premarket gainers</td>\n",
       "      <td>news</td>\n",
       "      <td>Cemtrex  NASDAQ CETX   85  after FY results \\n...</td>\n",
       "      <td>2020-01-15</td>\n",
       "      <td>Seeking Alpha</td>\n",
       "      <td>https://invst.ly/picu8</td>\n",
       "      <td>2060039</td>\n",
       "    </tr>\n",
       "    <tr>\n",
       "      <th>4</th>\n",
       "      <td>221519</td>\n",
       "      <td>NIO</td>\n",
       "      <td>PLUG  NIO among premarket gainers</td>\n",
       "      <td>news</td>\n",
       "      <td>aTyr Pharma  NASDAQ LIFE   63  on Kyorin Pharm...</td>\n",
       "      <td>2020-01-06</td>\n",
       "      <td>Seeking Alpha</td>\n",
       "      <td>https://seekingalpha.com/news/3529772-plug-nio...</td>\n",
       "      <td>2053096</td>\n",
       "    </tr>\n",
       "  </tbody>\n",
       "</table>\n",
       "</div>"
      ],
      "text/plain": [
       "       id ticker                                              title category  \\\n",
       "0  221515    NIO  Why Shares of Chinese Electric Car Maker NIO A...     news   \n",
       "1  221516    NIO  NIO only consumer gainer  Workhorse Group amon...     news   \n",
       "2  221517    NIO  NIO leads consumer gainers  Beyond Meat and Ma...     news   \n",
       "3  221518    NIO                  NIO  NVAX among premarket gainers     news   \n",
       "4  221519    NIO                  PLUG  NIO among premarket gainers     news   \n",
       "\n",
       "                                             content release_date  \\\n",
       "0  What s happening\\nShares of Chinese electric c...   2020-01-15   \n",
       "1  Gainers  NIO  NYSE NIO   7  \\nLosers  MGP Ingr...   2020-01-18   \n",
       "2  Gainers  NIO  NYSE NIO   14   Village Farms In...   2020-01-15   \n",
       "3  Cemtrex  NASDAQ CETX   85  after FY results \\n...   2020-01-15   \n",
       "4  aTyr Pharma  NASDAQ LIFE   63  on Kyorin Pharm...   2020-01-06   \n",
       "\n",
       "          provider                                                url  \\\n",
       "0  The Motley Fool                             https://invst.ly/pigqi   \n",
       "1    Seeking Alpha                             https://invst.ly/pje9c   \n",
       "2    Seeking Alpha                             https://invst.ly/pifmv   \n",
       "3    Seeking Alpha                             https://invst.ly/picu8   \n",
       "4    Seeking Alpha  https://seekingalpha.com/news/3529772-plug-nio...   \n",
       "\n",
       "   article_id  \n",
       "0     2060327  \n",
       "1     2062196  \n",
       "2     2060249  \n",
       "3     2060039  \n",
       "4     2053096  "
      ]
     },
     "execution_count": 2,
     "metadata": {},
     "output_type": "execute_result"
    }
   ],
   "source": [
    "path = \"./us_equities_news_dataset.csv\"\n",
    "\n",
    "# Load the news dataset\n",
    "news_dataset = pd.read_csv(path)\n",
    "news_dataset.head()"
   ]
  },
  {
   "cell_type": "code",
   "execution_count": 3,
   "metadata": {
    "id": "hlbTI6GjJE-m"
   },
   "outputs": [],
   "source": [
    "# Filter dataset to only include articles with 'Nvidia' in the content\n",
    "nvidia_dataset = news_dataset[news_dataset['content'].str.contains('Nvidia', case=False, na=False)]"
   ]
  },
  {
   "cell_type": "code",
   "execution_count": 4,
   "metadata": {
    "id": "WpjzmJNYJXXB"
   },
   "outputs": [],
   "source": [
    "# Concatenate title and content columns\n",
    "nvidia_dataset['content'] = nvidia_dataset['title'] + ' ' + nvidia_dataset['content']"
   ]
  },
  {
   "cell_type": "code",
   "execution_count": 5,
   "metadata": {
    "id": "Rj42yjhDJNeq"
   },
   "outputs": [],
   "source": [
    "# Initialize the lemmatizer\n",
    "lemmatizer = WordNetLemmatizer()\n",
    "\n",
    "# Define the default stop words\n",
    "default_stop_words = set(stopwords.words('english'))\n",
    "\n",
    "def preprocess_text(text,\n",
    "                    remove_punctuation=True,\n",
    "                    remove_stopwords=True,\n",
    "                    lemmatize=False,\n",
    "                    remove_short_words=False,\n",
    "                    remove_numbers=True,\n",
    "                    min_word_length=2,\n",
    "                    remove_words=None,  # specific words to remove\n",
    "                    meaningful_words=None  # meaningful words to keep\n",
    "                   ):\n",
    "    \"\"\"\n",
    "    Advanced preprocessing function that applies different levels of text processing.\n",
    "\n",
    "    Parameters:\n",
    "    - text: The text to preprocess.\n",
    "    - remove_punctuation: Whether to remove punctuation from the text.\n",
    "    - remove_stopwords: Whether to remove common stopwords.\n",
    "    - lemmatize: Whether to apply lemmatization to reduce words to their root form.\n",
    "    - remove_short_words: Whether to remove short words from the text.\n",
    "    - remove_numbers: Whether to remove numbers from the text.\n",
    "    - min_word_length: The minimum length of words to keep in the text.\n",
    "    - remove_words: A list of specific words to remove.\n",
    "    - meaningful_words: A list of meaningful words to exclude from stop words.\n",
    "\n",
    "    Returns:\n",
    "    - Preprocessed text as tokens.\n",
    "    \"\"\"\n",
    "\n",
    "    # Tokenization\n",
    "    tokens = word_tokenize(text)\n",
    "\n",
    "    # Convert to lowercase\n",
    "    tokens = [token.lower() for token in tokens]\n",
    "\n",
    "    # Remove numbers if specified\n",
    "    if remove_numbers:\n",
    "        tokens = [re.sub(r'\\d+', '', token) for token in tokens]\n",
    "\n",
    "    # Remove non-alphabetic characters (punctuation)\n",
    "    if remove_punctuation:\n",
    "        tokens = [re.sub(r'[^a-zA-Z]', '', token) for token in tokens]\n",
    "\n",
    "    # Remove stopwords, excluding meaningful words\n",
    "    if remove_stopwords:\n",
    "        stop_words = default_stop_words\n",
    "        if meaningful_words:\n",
    "            stop_words = stop_words - set(meaningful_words)  # Exclude meaningful words from stop words\n",
    "        tokens = [token for token in tokens if token not in stop_words]\n",
    "\n",
    "    # Lemmatization\n",
    "    if lemmatize:\n",
    "        tokens = [lemmatizer.lemmatize(token) for token in tokens]\n",
    "\n",
    "    # Remove short words\n",
    "    if remove_short_words:\n",
    "        tokens = [token for token in tokens if len(token) >= min_word_length]\n",
    "\n",
    "    # Calculate global word frequencies\n",
    "    global_word_frequencies = Counter(tokens)\n",
    "\n",
    "    # Remove specific words\n",
    "    if remove_words:\n",
    "        tokens = [token for token in tokens if token not in remove_words]\n",
    "\n",
    "    return tokens"
   ]
  },
  {
   "cell_type": "code",
   "execution_count": 6,
   "metadata": {},
   "outputs": [],
   "source": [
    "def apply_preprocessing(nvidia_dataset, version='v1'):\n",
    "    \"\"\"\n",
    "    Apply different levels of preprocessing to the dataset.\n",
    "\n",
    "    Parameters:\n",
    "    - nvidia_dataset: The Nvidia articles with a 'content' column.\n",
    "    - version: The version of preprocessing to apply ('v1', 'v2', 'v3', or 'v4').\n",
    "\n",
    "    Returns:\n",
    "    - DataFrame with the original content and the preprocessed content in 'preprocessed_content' column.\n",
    "    \"\"\"\n",
    "    \n",
    "    # Make a copy of the dataset for each version to avoid overwriting the original content\n",
    "    dataset_copy = nvidia_dataset.copy()\n",
    "\n",
    "    if version == 'v1':\n",
    "        # Basic tokenization and lowercasing\n",
    "        dataset_copy['preprocessed_content'] = dataset_copy['content'].apply(lambda x: preprocess_text(\n",
    "            x, \n",
    "            remove_punctuation=False, \n",
    "            remove_stopwords=False,\n",
    "            lemmatize=False, \n",
    "            remove_numbers=False,\n",
    "            remove_short_words=False\n",
    "        ))\n",
    "\n",
    "    elif version == 'v2':\n",
    "        # Remove punctuation, stopwords, and numbers, but no lemmatization/stemming\n",
    "        dataset_copy['preprocessed_content'] = dataset_copy['content'].apply(lambda x: preprocess_text(\n",
    "            x, \n",
    "            remove_punctuation=True, \n",
    "            remove_stopwords=True,\n",
    "            lemmatize=False, \n",
    "            remove_numbers=True,\n",
    "            remove_short_words=False,\n",
    "            remove_words=['nvidia', 'nvda'],\n",
    "            meaningful_words=['up', 'down']\n",
    "        ))\n",
    "\n",
    "    elif version == 'v3':\n",
    "        # Full preprocessing with lemmatization, number removal, and short words removal\n",
    "        dataset_copy['preprocessed_content'] = dataset_copy['content'].apply(lambda x: preprocess_text(\n",
    "            x, \n",
    "            remove_punctuation=True, \n",
    "            remove_stopwords=True,\n",
    "            lemmatize=True, \n",
    "            remove_numbers=True,\n",
    "            remove_short_words=True, \n",
    "            min_word_length=2,\n",
    "            remove_words=['nvidia', 'nvda'],\n",
    "            meaningful_words=['up', 'down', 'through', 'during', 'before', 'after', 'above', 'below']\n",
    "        ))\n",
    "\n",
    "    else:\n",
    "        raise ValueError(\"Invalid preprocessing version. Choose from 'v1', 'v2', 'v3'\")\n",
    "\n",
    "    # Return a separate DataFrame for each version with preprocessed content\n",
    "    return dataset_copy\n"
   ]
  },
  {
   "cell_type": "code",
   "execution_count": 7,
   "metadata": {
    "id": "MbJ5SDCFJfX3"
   },
   "outputs": [
    {
     "data": {
      "text/html": [
       "<div>\n",
       "<style scoped>\n",
       "    .dataframe tbody tr th:only-of-type {\n",
       "        vertical-align: middle;\n",
       "    }\n",
       "\n",
       "    .dataframe tbody tr th {\n",
       "        vertical-align: top;\n",
       "    }\n",
       "\n",
       "    .dataframe thead th {\n",
       "        text-align: right;\n",
       "    }\n",
       "</style>\n",
       "<table border=\"1\" class=\"dataframe\">\n",
       "  <thead>\n",
       "    <tr style=\"text-align: right;\">\n",
       "      <th></th>\n",
       "      <th>id</th>\n",
       "      <th>ticker</th>\n",
       "      <th>title</th>\n",
       "      <th>category</th>\n",
       "      <th>content</th>\n",
       "      <th>release_date</th>\n",
       "      <th>provider</th>\n",
       "      <th>url</th>\n",
       "      <th>article_id</th>\n",
       "      <th>preprocessed_content</th>\n",
       "    </tr>\n",
       "  </thead>\n",
       "  <tbody>\n",
       "    <tr>\n",
       "      <th>24</th>\n",
       "      <td>221539</td>\n",
       "      <td>NIO</td>\n",
       "      <td>A Central Bank War Just Started And Its Good F...</td>\n",
       "      <td>opinion</td>\n",
       "      <td>A Central Bank War Just Started And Its Good F...</td>\n",
       "      <td>2019-03-07</td>\n",
       "      <td>Michael Kramer</td>\n",
       "      <td>https://www.investing.com/analysis/a-central-b...</td>\n",
       "      <td>200395687</td>\n",
       "      <td>[a, central, bank, war, just, started, and, it...</td>\n",
       "    </tr>\n",
       "    <tr>\n",
       "      <th>32</th>\n",
       "      <td>221547</td>\n",
       "      <td>NIO</td>\n",
       "      <td>6 Stocks To Watch  Nivida Could Be Falling</td>\n",
       "      <td>opinion</td>\n",
       "      <td>6 Stocks To Watch  Nivida Could Be Falling 6 S...</td>\n",
       "      <td>2019-03-06</td>\n",
       "      <td>Michael Kramer</td>\n",
       "      <td>https://www.investing.com/analysis/6-stocks-to...</td>\n",
       "      <td>200394931</td>\n",
       "      <td>[6, stocks, to, watch, nivida, could, be, fall...</td>\n",
       "    </tr>\n",
       "    <tr>\n",
       "      <th>57</th>\n",
       "      <td>221572</td>\n",
       "      <td>NIO</td>\n",
       "      <td>Stocks   Dow Drops Nearly 400 Points as Apple ...</td>\n",
       "      <td>news</td>\n",
       "      <td>Stocks   Dow Drops Nearly 400 Points as Apple ...</td>\n",
       "      <td>2018-11-19</td>\n",
       "      <td>Investing.com</td>\n",
       "      <td>https://www.investing.com/news/stock-market-ne...</td>\n",
       "      <td>1694042</td>\n",
       "      <td>[stocks, dow, drops, nearly, 400, points, as, ...</td>\n",
       "    </tr>\n",
       "    <tr>\n",
       "      <th>78</th>\n",
       "      <td>221593</td>\n",
       "      <td>UBER</td>\n",
       "      <td>The Zacks Analyst Blog Highlights  Advanced Mi...</td>\n",
       "      <td>opinion</td>\n",
       "      <td>The Zacks Analyst Blog Highlights  Advanced Mi...</td>\n",
       "      <td>2020-01-12</td>\n",
       "      <td>Zacks Investment Research</td>\n",
       "      <td>https://www.investing.com/analysis/the-zacks-a...</td>\n",
       "      <td>200498277</td>\n",
       "      <td>[the, zacks, analyst, blog, highlights, advanc...</td>\n",
       "    </tr>\n",
       "    <tr>\n",
       "      <th>82</th>\n",
       "      <td>221597</td>\n",
       "      <td>UBER</td>\n",
       "      <td>The Best Of CES 2020  Revised</td>\n",
       "      <td>opinion</td>\n",
       "      <td>The Best Of CES 2020  Revised  With 4 500 comp...</td>\n",
       "      <td>2020-01-16</td>\n",
       "      <td>Zacks Investment Research</td>\n",
       "      <td>https://www.investing.com/analysis/the-best-of...</td>\n",
       "      <td>200499164</td>\n",
       "      <td>[the, best, of, ces, 2020, revised, with, 4, 5...</td>\n",
       "    </tr>\n",
       "  </tbody>\n",
       "</table>\n",
       "</div>"
      ],
      "text/plain": [
       "        id ticker                                              title category  \\\n",
       "24  221539    NIO  A Central Bank War Just Started And Its Good F...  opinion   \n",
       "32  221547    NIO         6 Stocks To Watch  Nivida Could Be Falling  opinion   \n",
       "57  221572    NIO  Stocks   Dow Drops Nearly 400 Points as Apple ...     news   \n",
       "78  221593   UBER  The Zacks Analyst Blog Highlights  Advanced Mi...  opinion   \n",
       "82  221597   UBER                     The Best Of CES 2020  Revised   opinion   \n",
       "\n",
       "                                              content release_date  \\\n",
       "24  A Central Bank War Just Started And Its Good F...   2019-03-07   \n",
       "32  6 Stocks To Watch  Nivida Could Be Falling 6 S...   2019-03-06   \n",
       "57  Stocks   Dow Drops Nearly 400 Points as Apple ...   2018-11-19   \n",
       "78  The Zacks Analyst Blog Highlights  Advanced Mi...   2020-01-12   \n",
       "82  The Best Of CES 2020  Revised  With 4 500 comp...   2020-01-16   \n",
       "\n",
       "                     provider  \\\n",
       "24             Michael Kramer   \n",
       "32             Michael Kramer   \n",
       "57              Investing.com   \n",
       "78  Zacks Investment Research   \n",
       "82  Zacks Investment Research   \n",
       "\n",
       "                                                  url  article_id  \\\n",
       "24  https://www.investing.com/analysis/a-central-b...   200395687   \n",
       "32  https://www.investing.com/analysis/6-stocks-to...   200394931   \n",
       "57  https://www.investing.com/news/stock-market-ne...     1694042   \n",
       "78  https://www.investing.com/analysis/the-zacks-a...   200498277   \n",
       "82  https://www.investing.com/analysis/the-best-of...   200499164   \n",
       "\n",
       "                                 preprocessed_content  \n",
       "24  [a, central, bank, war, just, started, and, it...  \n",
       "32  [6, stocks, to, watch, nivida, could, be, fall...  \n",
       "57  [stocks, dow, drops, nearly, 400, points, as, ...  \n",
       "78  [the, zacks, analyst, blog, highlights, advanc...  \n",
       "82  [the, best, of, ces, 2020, revised, with, 4, 5...  "
      ]
     },
     "execution_count": 7,
     "metadata": {},
     "output_type": "execute_result"
    }
   ],
   "source": [
    "train_data_v1 = apply_preprocessing(nvidia_dataset, version='v1')  # Basic preprocessing\n",
    "train_data_v2 = apply_preprocessing(nvidia_dataset, version='v2')  # Intermediate preprocessing\n",
    "train_data_v3 = apply_preprocessing(nvidia_dataset, version='v3')  # Full preprocessing with lemmatizer\n",
    "\n",
    "train_data_v1.head()"
   ]
  },
  {
   "cell_type": "code",
   "execution_count": 8,
   "metadata": {},
   "outputs": [
    {
     "name": "stdout",
     "output_type": "stream",
     "text": [
      "Unique words in v1: 36322\n",
      "Unique words in v2: 32137\n",
      "Unique words in v3: 29076\n"
     ]
    }
   ],
   "source": [
    "unique_words_v1 = set([word for sublist in train_data_v1['preprocessed_content'] for word in sublist])\n",
    "unique_words_v2 = set([word for sublist in train_data_v2['preprocessed_content'] for word in sublist])\n",
    "unique_words_v3 = set([word for sublist in train_data_v3['preprocessed_content'] for word in sublist])\n",
    "\n",
    "print(\"Unique words in v1:\", len(unique_words_v1))\n",
    "print(\"Unique words in v2:\", len(unique_words_v2))\n",
    "print(\"Unique words in v3:\", len(unique_words_v3))"
   ]
  },
  {
   "cell_type": "code",
   "execution_count": 9,
   "metadata": {},
   "outputs": [
    {
     "name": "stdout",
     "output_type": "stream",
     "text": [
      "Rank  v1                   Count      v2                   Count      v3                   Count     \n",
      "====================================================================================================\n",
      "1     the                  126904                          144555     stock                16293     \n",
      "2     to                   61701      nasdaq               14831      year                 16074     \n",
      "3     and                  55488      year                 13876      company              15430     \n",
      "4     of                   54474      zacks                11672      nasdaq               14831     \n",
      "5     in                   46306      company              11343      zacks                11672     \n",
      "6     a                    44793      earnings             10457      market               10684     \n",
      "7     s                    32960      stocks               8935       earnings             10457     \n",
      "8     is                   26139      market               8385       quarter              8718      \n",
      "9     for                  24701      quarter              7809       share                8282      \n",
      "10    on                   23128      growth               7406       growth               7409      \n"
     ]
    }
   ],
   "source": [
    "# Flatten lists and count word frequencies\n",
    "freq_v1 = Counter([word for sublist in train_data_v1['preprocessed_content'] for word in sublist])\n",
    "freq_v2 = Counter([word for sublist in train_data_v2['preprocessed_content'] for word in sublist])\n",
    "freq_v3 = Counter([word for sublist in train_data_v3['preprocessed_content'] for word in sublist])\n",
    "\n",
    "# Print the most common words side by side for easier comparison\n",
    "def print_side_by_side(freq_v1, freq_v2, freq_v3, top_n=10):\n",
    "    print(f\"{'Rank':<5} {'v1':<20} {'Count':<10} {'v2':<20} {'Count':<10} {'v3':<20} {'Count':<10}\")\n",
    "    print(\"=\"*100)\n",
    "    for i, ((word1, count1), (word2, count2), (word3, count3)) in enumerate(zip(freq_v1.most_common(top_n), freq_v2.most_common(top_n), freq_v3.most_common(top_n)), 1):\n",
    "        print(f\"{i:<5} {word1:<20} {count1:<10} {word2:<20} {count2:<10} {word3:<20} {count3:<10}\")\n",
    "\n",
    "print_side_by_side(freq_v1, freq_v2, freq_v3)"
   ]
  },
  {
   "cell_type": "code",
   "execution_count": 10,
   "metadata": {},
   "outputs": [
    {
     "name": "stdout",
     "output_type": "stream",
     "text": [
      "Most common 50 words and respective frequencies:\n",
      "\n",
      "1 - stock           16293\n",
      "2 - year            16074\n",
      "3 - company         15430\n",
      "4 - nasdaq          14831\n",
      "5 - zacks           11672\n",
      "6 - market          10684\n",
      "7 - earnings        10457\n",
      "8 - quarter         8718\n",
      "9 - share           8282\n",
      "10- growth          7409\n",
      "11- revenue         7334\n",
      "12- up              6939\n",
      "13- billion         6322\n",
      "14- also            6220\n",
      "15- nyse            6159\n",
      "16- technology      5586\n",
      "17- estimate        5547\n",
      "18- new             5150\n",
      "19- investor        5036\n",
      "20- million         4806\n",
      "21- rank            4789\n",
      "22- last            4759\n",
      "23- week            4594\n",
      "24- inc             4564\n",
      "25- expected        4280\n",
      "26- after           4269\n",
      "27- day             4199\n",
      "28- report          4161\n",
      "29- price           4134\n",
      "30- buy             4067\n",
      "31- trade           4037\n",
      "32- investment      3904\n",
      "33- one             3874\n",
      "34- time            3862\n",
      "35- data            3856\n",
      "36- high            3855\n",
      "37- strong          3688\n",
      "38- per             3638\n",
      "39- industry        3629\n",
      "40- like            3536\n",
      "41- top             3503\n",
      "42- chip            3501\n",
      "43- index           3459\n",
      "44- intel           3389\n",
      "45- analyst         3352\n",
      "46- consensus       3246\n",
      "47- see             3233\n",
      "48- semiconductor   3229\n",
      "49- down            3211\n",
      "50- product         3207\n"
     ]
    }
   ],
   "source": [
    "# Flatten the list of lists to get a single list of words\n",
    "all_tokens_v3 = [word for sublist in train_data_v3['preprocessed_content'] for word in sublist]\n",
    "\n",
    "# Get the 50 most common words\n",
    "common_words_v3 = Counter(all_tokens_v3).most_common(50)\n",
    "\n",
    "# Print the most common 50 words and their respective frequencies\n",
    "print('Most common 50 words and respective frequencies:\\n')\n",
    "for i, (word, freq) in enumerate(common_words_v3, 1):\n",
    "    print(f'{i:<2}- {word:<15} {freq}')"
   ]
  },
  {
   "cell_type": "code",
   "execution_count": 11,
   "metadata": {},
   "outputs": [
    {
     "name": "stdout",
     "output_type": "stream",
     "text": [
      "Number of unique words: 29,076\n",
      "Lexical richness: 0.0210\n"
     ]
    }
   ],
   "source": [
    "print(f\"Number of unique words: {len(set(all_tokens_v3)):,}\")\n",
    "print(f\"Lexical richness: {len(set(all_tokens_v3))/len(all_tokens_v3):.4f}\")"
   ]
  },
  {
   "cell_type": "markdown",
   "metadata": {
    "id": "IzHaJpSUJno8"
   },
   "source": [
    "## Helper functions"
   ]
  },
  {
   "cell_type": "code",
   "execution_count": 12,
   "metadata": {},
   "outputs": [],
   "source": [
    "def remove_top_bottom_words(preprocessed_content, top_percent=10, bottom_percent=10, words_to_exclude=None):\n",
    "    \"\"\"\n",
    "    Remove top-n% and bottom-n% words based on frequency and exclude specified words.\n",
    "\n",
    "    Parameters:\n",
    "    - preprocessed_content: list of lists, the preprocessed content\n",
    "    - top_percent: int, the top n% of words to remove\n",
    "    - bottom_percent: int, the bottom n% of words to remove\n",
    "    - words_to_exclude: set, the words to exclude\n",
    "\n",
    "    Returns:\n",
    "    - list of lists, the content with specified words removed\n",
    "    \"\"\"\n",
    "    # Flatten the list of lists to get a single list of words\n",
    "    all_words = [word for sublist in preprocessed_content for word in sublist]\n",
    "    \n",
    "    # Get the word frequencies\n",
    "    word_freq = Counter(all_words)\n",
    "    \n",
    "    # Calculate the number of words to remove\n",
    "    total_words = len(word_freq)\n",
    "    top_n = int(total_words * top_percent / 100)\n",
    "    bottom_n = int(total_words * bottom_percent / 100)\n",
    "    \n",
    "    # Get the top-n% and bottom-n% words\n",
    "    top_words = set([word for word, freq in word_freq.most_common(top_n)])\n",
    "    bottom_words = set([word for word, freq in word_freq.most_common()[:-bottom_n-1:-1]])\n",
    "    \n",
    "    # Combine the words to exclude\n",
    "    words_to_remove = top_words | bottom_words\n",
    "    if words_to_exclude:\n",
    "        words_to_remove |= words_to_exclude\n",
    "    \n",
    "    # Remove the specified words from the content\n",
    "    filtered_content = [[word for word in sublist if word not in words_to_remove] for sublist in preprocessed_content]\n",
    "    \n",
    "    return filtered_content"
   ]
  },
  {
   "cell_type": "code",
   "execution_count": 13,
   "metadata": {},
   "outputs": [],
   "source": [
    "def print_most_common_bigrams(bigrams, train_data_list_tokens, top_n=20):\n",
    "    \"\"\"\n",
    "    Print the most common bigrams in the tokenized text data.\n",
    "\n",
    "    Parameters:\n",
    "    - bigrams: the bigrams created (if any)\n",
    "    - train_data_list_tokens: list of list of str, the tokenized text data\n",
    "    - top_n: int, the number of most common bigrams to print\n",
    "    \"\"\"\n",
    "    if bigrams is None:\n",
    "        print(\"No bigrams were created.\")\n",
    "        return\n",
    "\n",
    "    # Transform the tokenized text data to include bigrams\n",
    "    bigram_mod = bigrams[train_data_list_tokens]\n",
    "    \n",
    "    # Flatten the list of lists to get a single list of tokens\n",
    "    all_tokens = [token for doc in bigram_mod for token in doc]\n",
    "    \n",
    "    # Count the frequency of each token\n",
    "    token_freq = Counter(all_tokens)\n",
    "    \n",
    "    # Extract and count the bigrams\n",
    "    bigram_freq = Counter({token: freq for token, freq in token_freq.items() if '_' in token})\n",
    "    \n",
    "    # Print the most common bigrams\n",
    "    print(f'Top {top_n} most common bigrams and respective frequencies:\\n')\n",
    "    for i, (bigram, freq) in enumerate(bigram_freq.most_common(top_n), 1):\n",
    "        print(f'{i:<2}- {bigram:<30} {freq}')"
   ]
  },
  {
   "cell_type": "markdown",
   "metadata": {
    "id": "3fqtU4TAwSlt"
   },
   "source": [
    "### LDA"
   ]
  },
  {
   "cell_type": "code",
   "execution_count": 14,
   "metadata": {},
   "outputs": [],
   "source": [
    "def lda_print_evaluation_metrics(lda_model, train_data_list, dictionary):\n",
    "    \"\"\"\n",
    "    Print the evaluation metrics for a trained LDA model, including coherence score.\n",
    "\n",
    "    Parameters:\n",
    "    - lda_model: Trained LDA model.\n",
    "    - train_data_list: List of tokenized documents (for coherence calculation).\n",
    "    - dictionary: Gensim dictionary.\n",
    "    \"\"\"\n",
    "    # Show topics with word probabilities\n",
    "    print(\"\\n\\nLDA Topics with Word Probabilities:\\n\")\n",
    "    for idx, topic in lda_model.print_topics():\n",
    "        print(f\"Topic {idx + 1}: {topic}\")\n",
    "\n",
    "    # Vocabulary size\n",
    "    print(f\"\\nVocabulary size: {len(dictionary):,}\")\n",
    "\n",
    "    # Coherence Score Calculation\n",
    "    coherence_model = CoherenceModel(\n",
    "        model=lda_model,\n",
    "        texts=train_data_list,\n",
    "        dictionary=dictionary,\n",
    "        coherence='c_v'\n",
    "    )\n",
    "    coherence_score = coherence_model.get_coherence()\n",
    "    print(\"\\nCoherence Score:\", round(coherence_score, 4))\n"
   ]
  },
  {
   "cell_type": "markdown",
   "metadata": {},
   "source": [
    "### FLSA-W"
   ]
  },
  {
   "cell_type": "code",
   "execution_count": 15,
   "metadata": {},
   "outputs": [],
   "source": [
    "def compute_coherence_flsa_w(train_data, max_topics=10, num_words_list=[5, 7, 10]):\n",
    "    \"\"\"\n",
    "    Compute coherence scores for FLSA-W model with varying number of topics and words per topic.\n",
    "    \n",
    "    Parameters:\n",
    "        - train_data: list of tokenized documents (preprocessed content).\n",
    "        - max_topics: int, the maximum number of topics to test.\n",
    "        - num_words_list: list of int, different numbers of words per topic to test.\n",
    "        - display: bool, if True, will print the results in a structured format per num_words.\n",
    "    \n",
    "    Returns:\n",
    "        - results: list of tuples, each containing (num_words, num_topics, coherence_score).\n",
    "    \"\"\"\n",
    "    \n",
    "    tokenized_data = [tokens for tokens in train_data['preprocessed_content']]\n",
    "    \n",
    "    results = []\n",
    "    \n",
    "    # Loop through each number of words per topic first\n",
    "    for num_words in num_words_list:\n",
    "        print(f\"\\n=== Results for {num_words} words per topic ===\")\n",
    "        \n",
    "        # Loop through each number of topics for the current number of words\n",
    "        for num_topics in range(2, max_topics + 1):\n",
    "            # Train FLSA-W model with the current num_words and num_topics\n",
    "            flsa_w_model = FLSA_W(\n",
    "                input_file=tokenized_data,  \n",
    "                num_topics=num_topics,      \n",
    "                num_words=num_words               \n",
    "            )\n",
    "            \n",
    "            # Train the FLSA-W model\n",
    "            flsa_w_model.get_matrices()  \n",
    "            \n",
    "            # Get the coherence score for the current model\n",
    "            coherence_score = flsa_w_model.get_coherence_score() \n",
    "            \n",
    "            # Store the results as a tuple (num_words, num_topics, coherence_score)\n",
    "            results.append((num_words, num_topics, coherence_score))\n",
    "\n",
    "            print(f\"Number of topics: {num_topics}, Coherence score: {coherence_score:.4f}\")\n",
    "    \n",
    "    return results\n"
   ]
  },
  {
   "cell_type": "code",
   "execution_count": 16,
   "metadata": {},
   "outputs": [],
   "source": [
    "def plot_elbow_curve(results):\n",
    "    \"\"\"\n",
    "    Create elbow plots for coherence scores vs. number of topics for different num_words.\n",
    "    \n",
    "    Parameters:\n",
    "    - results: list of tuples, each containing (num_words, num_topics, coherence_score).\n",
    "    \"\"\"\n",
    "    # Organize results by num_words\n",
    "    num_words_dict = {}\n",
    "    for num_words, num_topics, coherence_score in results:  # Corrected tuple unpacking order\n",
    "        if num_words not in num_words_dict:\n",
    "            num_words_dict[num_words] = {'num_topics': [], 'coherence_scores': []}\n",
    "        num_words_dict[num_words]['num_topics'].append(num_topics)\n",
    "        num_words_dict[num_words]['coherence_scores'].append(coherence_score)\n",
    "    \n",
    "    # Plot each num_words line\n",
    "    plt.figure(figsize=(10, 6))\n",
    "    for num_words, data in num_words_dict.items():\n",
    "        plt.plot(data['num_topics'], data['coherence_scores'], marker='o', label=f'Num words: {num_words}')\n",
    "    \n",
    "    # Add plot labels and title\n",
    "    plt.title('FLSA-W Elbow Plot: Number of Topics vs Coherence Score for Different Number of Words per Topic')\n",
    "    plt.xlabel('Number of Topics')\n",
    "    plt.ylabel('Coherence Score')\n",
    "    plt.legend(title='Words per Topic')\n",
    "    plt.grid(True)\n",
    "    plt.show()"
   ]
  },
  {
   "cell_type": "code",
   "execution_count": 16,
   "metadata": {},
   "outputs": [],
   "source": [
    "def flsa_w_print_evaluation_metrics(flsa_w_model, flsa_w_topics):\n",
    "    \"\"\"\n",
    "    Print the evaluation metrics for the trained FLSA-W model.\n",
    "\n",
    "    Parameters:\n",
    "    - flsa_w_model: the trained FLSA-W model\n",
    "    - flsa_w_topics: the topics generated by the FLSA-W model\n",
    "    \"\"\"\n",
    "    # Show the topics generated with word probabilities\n",
    "    print(\"\\n\\nFLSA-W Topics with Word Probabilities:\\n\")\n",
    "    for topic in flsa_w_model.show_topics():\n",
    "        print(topic)\n",
    "\n",
    "    # Show the topics generated\n",
    "    print(\"\\n\\nFLSA-W Topics:\\n\")\n",
    "    for i, topic in enumerate(flsa_w_topics):\n",
    "        print(f\"Topic {i + 1}: {', '.join(topic)}\")\n",
    "\n",
    "    print(f\"\\nVocabulary size: {flsa_w_model.get_vocabulary_size():,}\")\n",
    "\n",
    "    # Show topic quality scores\n",
    "    print(\"\\nCoherence Score:\", round(flsa_w_model.get_coherence_score(), 4))\n",
    "    print(\"Diversity Score:\", round(flsa_w_model.get_diversity_score(), 4))\n",
    "    print(\"Interpretability Score:\", round(flsa_w_model.get_interpretability_score(), 4))"
   ]
  },
  {
   "cell_type": "markdown",
   "metadata": {
    "id": "GdYmOMGOwzj5"
   },
   "source": [
    "### BERTopic"
   ]
  },
  {
   "cell_type": "code",
   "execution_count": null,
   "metadata": {
    "id": "CTcmazRCKGWh"
   },
   "outputs": [],
   "source": [
    "def bertopic_print_evaluation_metrics(topic_model, topics, train_data_token_list, dictionary):\n",
    "    \"\"\"\n",
    "    Print evaluation metrics of a trained BERTopic model.\n",
    "\n",
    "    Parameters:\n",
    "    - topic_model: the trained BERTopic model.\n",
    "    - topics: the topics generated by the BERTopic model.\n",
    "    - train_data_token_list: list of tokenized documents (preprocessed content).\n",
    "    - dictionary: Gensim dictionary.\n",
    "    \"\"\"\n",
    "\n",
    "    print(\"BERTopic Topic Info:\\n\")\n",
    "    print(topic_model.get_topic_info())\n",
    "    \n",
    "    # Show the topics generated\n",
    "    print(\"\\nBERTopic Topics with Word Probabilities:\\n\")\n",
    "    for topic_id in topics:  # Iterate through topic IDs\n",
    "        topic_words = topic_model.get_topic(topic_id)  # Get words for the topic\n",
    "        print(f\"Topic {topic_id}: {topic_words}\") # Print words and probabilities\n",
    "\n",
    "\n",
    "    # Extract topics as lists of tokens (words)\n",
    "    topic_tokens = [[word for word, _ in topic_model.get_topic(topic_id)] \n",
    "                        for topic_id in topics.keys() if topic_id != -1]  # Exclude outlier topic -1\n",
    "\n",
    "    # Compute coherence score\n",
    "    coherence_model = CoherenceModel(topics=topic_tokens,  # Pass list of token lists\n",
    "                                     texts=train_data_token_list,\n",
    "                                     dictionary=dictionary,\n",
    "                                     coherence='c_v')  \n",
    "\n",
    "    coherence_score = coherence_model.get_coherence()\n",
    "    \n",
    "    print(f\"\\nCoherence Score: {coherence_score:.4f}\")"
   ]
  },
  {
   "cell_type": "markdown",
   "metadata": {},
   "source": [
    "## Elbow Plot"
   ]
  },
  {
   "cell_type": "code",
   "execution_count": 17,
   "metadata": {},
   "outputs": [
    {
     "name": "stdout",
     "output_type": "stream",
     "text": [
      "\n",
      "=== Results for 5 words per topic ===\n",
      "Number of topics: 2, Coherence score: 0.4826\n",
      "Number of topics: 3, Coherence score: 0.5123\n",
      "Number of topics: 4, Coherence score: 0.4911\n",
      "Number of topics: 5, Coherence score: 0.5679\n",
      "Number of topics: 6, Coherence score: 0.4177\n",
      "Number of topics: 7, Coherence score: 0.5071\n",
      "Number of topics: 8, Coherence score: 0.4448\n",
      "Number of topics: 9, Coherence score: 0.4504\n",
      "Number of topics: 10, Coherence score: 0.4593\n",
      "Number of topics: 11, Coherence score: 0.4478\n",
      "Number of topics: 12, Coherence score: 0.4230\n",
      "Number of topics: 13, Coherence score: 0.4319\n",
      "Number of topics: 14, Coherence score: 0.4404\n",
      "Number of topics: 15, Coherence score: 0.4555\n",
      "\n",
      "=== Results for 7 words per topic ===\n",
      "Number of topics: 2, Coherence score: 0.4288\n",
      "Number of topics: 3, Coherence score: 0.4432\n",
      "Number of topics: 4, Coherence score: 0.5170\n",
      "Number of topics: 5, Coherence score: 0.4970\n",
      "Number of topics: 6, Coherence score: 0.3927\n",
      "Number of topics: 7, Coherence score: 0.4592\n",
      "Number of topics: 8, Coherence score: 0.4076\n",
      "Number of topics: 9, Coherence score: 0.3805\n",
      "Number of topics: 10, Coherence score: 0.3710\n",
      "Number of topics: 11, Coherence score: 0.4118\n",
      "Number of topics: 12, Coherence score: 0.3951\n",
      "Number of topics: 13, Coherence score: 0.4152\n",
      "Number of topics: 14, Coherence score: 0.3752\n",
      "Number of topics: 15, Coherence score: 0.4070\n",
      "\n",
      "=== Results for 10 words per topic ===\n",
      "Number of topics: 2, Coherence score: 0.3829\n",
      "Number of topics: 3, Coherence score: 0.3833\n",
      "Number of topics: 4, Coherence score: 0.3585\n",
      "Number of topics: 5, Coherence score: 0.4370\n",
      "Number of topics: 6, Coherence score: 0.3929\n",
      "Number of topics: 7, Coherence score: 0.4481\n",
      "Number of topics: 8, Coherence score: 0.3660\n",
      "Number of topics: 9, Coherence score: 0.4331\n",
      "Number of topics: 10, Coherence score: 0.3809\n",
      "Number of topics: 11, Coherence score: 0.3515\n",
      "Number of topics: 12, Coherence score: 0.3671\n",
      "Number of topics: 13, Coherence score: 0.4000\n",
      "Number of topics: 14, Coherence score: 0.3760\n",
      "Number of topics: 15, Coherence score: 0.3990\n"
     ]
    }
   ],
   "source": [
    "# Set seed for reproducible results\n",
    "np.random.seed(42)\n",
    "\n",
    "# Train the model and compute coherence scores\n",
    "results = compute_coherence_flsa_w(train_data_v3, max_topics=15, num_words_list=[5, 7, 10]) # TODO: FYI only did this for v3"
   ]
  },
  {
   "cell_type": "code",
   "execution_count": 18,
   "metadata": {},
   "outputs": [
    {
     "data": {
      "image/png": "[encoded data removed]",
      "text/plain": [
       "<Figure size 1000x600 with 1 Axes>"
      ]
     },
     "metadata": {},
     "output_type": "display_data"
    }
   ],
   "source": [
    "# Plot the elbow curve\n",
    "plot_elbow_curve(results)"
   ]
  },
  {
   "cell_type": "markdown",
   "metadata": {
    "id": "3GDtC3K6J2-7"
   },
   "source": [
    "## Train Topic Models"
   ]
  },
  {
   "cell_type": "code",
   "execution_count": 19,
   "metadata": {},
   "outputs": [],
   "source": [
    "# the optimal number of topics according to FLSA-W\n",
    "NUMBER_OF_TOPICS = 5\n",
    "\n",
    "# Dataset has low lexical richness, so we use a smaller number of words per topic\n",
    "NUMBER_OF_WORDS_PER_TOPIC = 5"
   ]
  },
  {
   "cell_type": "code",
   "execution_count": 20,
   "metadata": {},
   "outputs": [],
   "source": [
    "def train_topic_model(train_data, model_type='LDA', num_topics=NUMBER_OF_TOPICS, num_words_per_topic=NUMBER_OF_WORDS_PER_TOPIC, preprocess=False, top_percent=0, bottom_percent=0, words_to_exclude=None, use_bigrams=False):\n",
    "    \"\"\"\n",
    "    Train a topic model on the given training data.\n",
    "\n",
    "    Parameters:\n",
    "    - train_data: dict, the text to train the model on with key 'preprocessed_content'\n",
    "    - model_type: str, the type of model to train ('LDA', 'FLSA-W', 'BERTopic')\n",
    "    - num_topics: int, the number of topics to use for the model\n",
    "    - num_words_per_topic: int, the number of words per topic to use for the model\n",
    "    - preprocess: bool, whether to preprocess the data using remove_top_bottom_words\n",
    "    - top_percent: int, the top n% of words to remove based on frequency\n",
    "    - bottom_percent: int, the bottom n% of words to remove based on frequency    \n",
    "    - words_to_exclude: list of str, specific words to exclude from the data\n",
    "    - use_bigrams: bool, whether to include bigrams in the data\n",
    "\n",
    "    Returns:\n",
    "    - model: the trained model\n",
    "    - topics: the topics generated by the model\n",
    "    - bigrams: the bigrams created (if any)\n",
    "    \"\"\"\n",
    "\n",
    "    train_data_list_tokens = train_data['preprocessed_content']\n",
    "    bigrams = None\n",
    "\n",
    "    if preprocess:\n",
    "        train_data_list_tokens = remove_top_bottom_words(\n",
    "            train_data_list_tokens,\n",
    "            top_percent=top_percent,\n",
    "            bottom_percent=bottom_percent,\n",
    "            words_to_exclude=words_to_exclude\n",
    "        )\n",
    "\n",
    "    if use_bigrams:\n",
    "        # Detect bigrams in the tokenized text data\n",
    "        bigram = Phrases(train_data_list_tokens, \n",
    "                         min_count=5, # min number of times a bigram must appear in the corpus to be considered a phrase\n",
    "                         threshold=90) # scoring threshold for forming phrases based on the likelihood of the words appearing together versus separately.\n",
    "        train_data_list_tokens = [bigram[doc] for doc in train_data_list_tokens]\n",
    "        bigrams = bigram\n",
    "\n",
    "    # Filter out empty lists\n",
    "    train_data_list_tokens = [tokens for tokens in train_data_list_tokens if tokens]\n",
    "\n",
    "    if model_type == 'LDA':\n",
    "        # Create Gensim dictionary\n",
    "        dictionary = corpora.Dictionary(train_data_list_tokens)\n",
    "\n",
    "        # Remove very common and very rare words from dictionary\n",
    "        dictionary.filter_extremes(no_below=0.5, no_above=0.5)    \n",
    "\n",
    "        # Create Document-Term Matrix\n",
    "        doc_term_matrix = [dictionary.doc2bow(doc) for doc in train_data_list_tokens]\n",
    "\n",
    "        lda_model = gensim.models.LdaModel(\n",
    "            doc_term_matrix,\n",
    "            num_topics=num_topics,\n",
    "            id2word=dictionary,\n",
    "            random_state=42,\n",
    "            passes=5,\n",
    "            alpha='auto'\n",
    "        )\n",
    "\n",
    "        # Get topics (top words in each topic)\n",
    "        topics = lda_model.print_topics(num_words=num_words_per_topic)\n",
    "\n",
    "        return lda_model, topics, bigrams, train_data_list_tokens, dictionary\n",
    "\n",
    "    elif model_type == 'FLSA-W':\n",
    "        flsa_w_model = FLSA_W(\n",
    "            input_file=train_data_list_tokens,\n",
    "            num_topics=num_topics,\n",
    "            num_words=num_words_per_topic\n",
    "        )\n",
    "        pwgt, ptgd = flsa_w_model.get_matrices()  # This trains the model\n",
    "        topics = flsa_w_model.show_topics(representation='words')\n",
    "\n",
    "        return flsa_w_model, topics, bigrams\n",
    "    \n",
    "    elif model_type == 'BERTopic':\n",
    "        # Train BERTopic model\n",
    "        topic_model = BERTopic()\n",
    "        topics, _ = topic_model.fit_transform(train_data_list_tokens)\n",
    "\n",
    "        return topic_model, topics, bigrams, train_data_list_tokens, dictionary\n",
    "\n",
    "    else:\n",
    "        raise ValueError(\"Invalid model_type. Choose from 'LDA', 'FLSA-W', 'BERTopic'.\")"
   ]
  },
  {
   "cell_type": "markdown",
   "metadata": {
    "id": "de0Jh4K3J_o2"
   },
   "source": [
    "## Iteration 1"
   ]
  },
  {
   "cell_type": "markdown",
   "metadata": {
    "id": "sTZJ44yQKIYG"
   },
   "source": [
    "### LDA"
   ]
  },
  {
   "cell_type": "code",
   "execution_count": 21,
   "metadata": {
    "id": "810-_HuwNVTw"
   },
   "outputs": [
    {
     "name": "stdout",
     "output_type": "stream",
     "text": [
      "No bigrams were created.\n",
      "\n",
      "\n",
      "LDA Topics with Word Probabilities:\n",
      "\n",
      "Topic 1: 0.009*\"revenues\" + 0.009*\"rank\" + 0.009*\"million\" + 0.007*\"consensus\" + 0.007*\"estimate\" + 0.006*\"share\" + 0.006*\"per\" + 0.005*\"our\" + 0.004*\"fiscal\" + 0.004*\"8\"\n",
      "Topic 2: 0.010*\"u\" + 0.009*\"percent\" + 0.009*\"china\" + 0.007*\"semiconductor\" + 0.006*\"said\" + 0.006*\"trade\" + 0.006*\"etf\" + 0.006*\"fund\" + 0.005*\"index\" + 0.005*\"0\"\n",
      "Topic 3: 0.008*\"intel\" + 0.008*\"amd\" + 0.005*\"driving\" + 0.004*\"data\" + 0.004*\"ai\" + 0.004*\"gaming\" + 0.003*\"said\" + 0.003*\"chips\" + 0.003*\"revenue\" + 0.003*\"self\"\n",
      "Topic 4: 0.010*\"i\" + 0.006*\"week\" + 0.005*\"t\" + 0.005*\"out\" + 0.005*\"some\" + 0.004*\"investors\" + 0.004*\"if\" + 0.004*\"one\" + 0.004*\"there\" + 0.004*\"their\"\n",
      "Topic 5: 0.018*\"0\" + 0.008*\"trade\" + 0.008*\"inc\" + 0.007*\"u\" + 0.007*\"oil\" + 0.006*\"were\" + 0.006*\"traded\" + 0.006*\"rose\" + 0.006*\"fell\" + 0.005*\"down\"\n",
      "\n",
      "Vocabulary size: 36,247\n",
      "\n",
      "Coherence Score: 0.5258\n"
     ]
    }
   ],
   "source": [
    "# Set seed for reproducible results\n",
    "np.random.seed(42)\n",
    "\n",
    "LDA_model, LDA_topics, bigrams, train_data_list_tokens, dictionary = train_topic_model(train_data_v1, model_type='LDA')\n",
    "\n",
    "print_most_common_bigrams(bigrams, train_data_v1['preprocessed_content'], top_n=15)\n",
    "\n",
    "# Set up topics in the correct format for CoherenceModel\n",
    "lda_topics = [[word for word, _ in LDA_model.show_topic(topic_id, topn=10)] for topic_id in range(LDA_model.num_topics)]\n",
    "\n",
    "# Call the modified evaluation function\n",
    "lda_print_evaluation_metrics(LDA_model, train_data_list_tokens, dictionary)"
   ]
  },
  {
   "cell_type": "markdown",
   "metadata": {
    "id": "Nm02RABvNXYu"
   },
   "source": [
    "### FLSA-W"
   ]
  },
  {
   "cell_type": "code",
   "execution_count": 25,
   "metadata": {},
   "outputs": [
    {
     "name": "stdout",
     "output_type": "stream",
     "text": [
      "No bigrams were created.\n",
      "\n",
      "\n",
      "FLSA-W Topics with Word Probabilities:\n",
      "\n",
      "(0, '0.0004*\"gmt\" + 0.0003*\"rises\" + 0.0003*\"the\" + 0.0003*\"to\" + 0.0003*\"in\"')\n",
      "(1, '0.0017*\"nvda\" + 0.0017*\"nvidia\" + 0.0015*\"com\" + 0.0015*\"2017\" + 0.0015*\"nasdaq\"')\n",
      "(2, '0.0002*\"the\" + 0.0002*\"to\" + 0.0002*\"in\" + 0.0002*\"of\" + 0.0002*\"a\"')\n",
      "(3, '0.0083*\"book\" + 0.0073*\"evolution\" + 0.0071*\"books\" + 0.0066*\"richard\" + 0.0063*\"science\"')\n",
      "(4, '0.0007*\"reuters\" + 0.0006*\"traded\" + 0.0006*\"exchange\" + 0.0006*\"chipmaker\" + 0.0005*\"previously\"')\n",
      "\n",
      "\n",
      "FLSA-W Topics:\n",
      "\n",
      "Topic 1: gmt, rises, the, to, in\n",
      "Topic 2: nvda, nvidia, com, 2017, nasdaq\n",
      "Topic 3: the, to, in, of, a\n",
      "Topic 4: book, evolution, books, richard, science\n",
      "Topic 5: reuters, traded, exchange, chipmaker, previously\n",
      "\n",
      "Vocabulary size: 36,322\n",
      "\n",
      "Coherence Score: 0.5883\n",
      "Diversity Score: 0.88\n",
      "Interpretability Score: 0.5177\n"
     ]
    }
   ],
   "source": [
    "# Set seed for reproducible results\n",
    "np.random.seed(42)\n",
    "\n",
    "# Train FLSA-W model on the first version of the preprocessed dataset\n",
    "flsa_w_model, flsa_w_topics, bigrams = train_topic_model(train_data_v1, \n",
    "                                                         model_type='FLSA-W')\n",
    "\n",
    "# Print the most common bigrams\n",
    "print_most_common_bigrams(bigrams, train_data_v1['preprocessed_content'], top_n=15)\n",
    "\n",
    "# Print evaluation metrics for the FLSA-W model\n",
    "flsa_w_print_evaluation_metrics(flsa_w_model, flsa_w_topics)"
   ]
  },
  {
   "cell_type": "markdown",
   "metadata": {
    "id": "j8JwRdpeONqM"
   },
   "source": [
    "### BERTopic"
   ]
  },
  {
   "cell_type": "code",
   "execution_count": null,
   "metadata": {
    "id": "KDhIsPONOXdS"
   },
   "outputs": [],
   "source": [
    "# Train BERTopic model on the first version of the preprocessed dataset\n",
    "bertopic_model, bertopic_topics, bigrams, train_data_tokens_list, dictionary = train_topic_model(train_data_v1, model_type='BERTopic')\n",
    "\n",
    "# Print the most common bigrams\n",
    "print_most_common_bigrams(bigrams, train_data_v1['preprocessed_content'], top_n=15)\n",
    "\n",
    "# Evaluation metrics of the BERTopic model\n",
    "bertopic_print_evaluation_metrics(bertopic_model, bertopic_topics, train_data_tokens_list, dictionary)"
   ]
  },
  {
   "cell_type": "markdown",
   "metadata": {
    "id": "bYY_NWeBOam7"
   },
   "source": [
    "## Iteration 2"
   ]
  },
  {
   "cell_type": "markdown",
   "metadata": {},
   "source": [
    "### LDA"
   ]
  },
  {
   "cell_type": "code",
   "execution_count": 22,
   "metadata": {},
   "outputs": [
    {
     "name": "stdout",
     "output_type": "stream",
     "text": [
      "No bigrams were created.\n",
      "\n",
      "\n",
      "LDA Topics with Word Probabilities:\n",
      "\n",
      "Topic 1: 0.004*\"herein\" + 0.003*\"engage\" + 0.003*\"highlights\" + 0.003*\"material\" + 0.003*\"profitable\" + 0.003*\"whole\" + 0.003*\"subject\" + 0.003*\"actual\" + 0.003*\"zero\" + 0.002*\"podcast\"\n",
      "Topic 2: 0.002*\"uber\" + 0.002*\"dma\" + 0.002*\"vix\" + 0.002*\"baidu\" + 0.002*\"mobileye\" + 0.002*\"n\" + 0.001*\"auto\" + 0.001*\"jobs\" + 0.001*\"say\" + 0.001*\"work\"\n",
      "Topic 3: 0.004*\"cards\" + 0.003*\"sma\" + 0.003*\"radeon\" + 0.003*\"datacenter\" + 0.003*\"processor\" + 0.003*\"geforce\" + 0.002*\"ryzen\" + 0.002*\"gamers\" + 0.002*\"streaming\" + 0.002*\"crypto\"\n",
      "Topic 4: 0.004*\"gmt\" + 0.003*\"lowest\" + 0.003*\"et\" + 0.002*\"seven\" + 0.002*\"usd\" + 0.002*\"traders\" + 0.002*\"yields\" + 0.002*\"talks\" + 0.002*\"central\" + 0.002*\"meeting\"\n",
      "Topic 5: 0.002*\"acquisitions\" + 0.002*\"outperforming\" + 0.002*\"netapp\" + 0.002*\"western\" + 0.002*\"trailing\" + 0.002*\"sporting\" + 0.002*\"prospects\" + 0.002*\"pure\" + 0.002*\"mellanox\" + 0.002*\"robotics\"\n",
      "\n",
      "Vocabulary size: 30,853\n",
      "\n",
      "Coherence Score: 0.5659\n"
     ]
    }
   ],
   "source": [
    "# Set seed for reproducible results\n",
    "np.random.seed(42)\n",
    "\n",
    "LDA_model, LDA_topics, bigrams, train_data_list_tokens, dictionary = train_topic_model(\n",
    "    train_data_v2, \n",
    "    model_type='LDA', \n",
    "    preprocess=True, \n",
    "    top_percent=2,\n",
    "    bottom_percent=2,\n",
    "    words_to_exclude={'u', 'p', 'inc', 'q'} \n",
    "    )\n",
    "\n",
    "print_most_common_bigrams(bigrams, train_data_v1['preprocessed_content'], top_n=15)\n",
    "\n",
    "# Set up topics in the correct format for CoherenceModel\n",
    "lda_topics = [[word for word, _ in LDA_model.show_topic(topic_id, topn=10)] for topic_id in range(LDA_model.num_topics)]\n",
    "\n",
    "# Call the modified evaluation function\n",
    "lda_print_evaluation_metrics(LDA_model, train_data_list_tokens, dictionary)"
   ]
  },
  {
   "cell_type": "markdown",
   "metadata": {},
   "source": [
    "### FLSA-W"
   ]
  },
  {
   "cell_type": "code",
   "execution_count": 27,
   "metadata": {},
   "outputs": [
    {
     "name": "stdout",
     "output_type": "stream",
     "text": [
      "No bigrams were created.\n",
      "\n",
      "\n",
      "FLSA-W Topics with Word Probabilities:\n",
      "\n",
      "(0, '0.0015*\"advanced\" + 0.0015*\"intc\" + 0.0015*\"broader\" + 0.0015*\"nasdaq\" + 0.0015*\"rank\"')\n",
      "(1, '0.0002*\"\" + 0.0002*\"premarket\" + 0.0002*\"nasdaq\" + 0.0002*\"also\" + 0.0002*\"market\"')\n",
      "(2, '0.0008*\"traded\" + 0.0007*\"reuters\" + 0.0007*\"worst\" + 0.0006*\"previously\" + 0.0006*\"composite\"')\n",
      "(3, '0.0102*\"book\" + 0.0092*\"evolution\" + 0.0087*\"books\" + 0.0083*\"richard\" + 0.0079*\"science\"')\n",
      "(4, '0.0004*\"outnumbered\" + 0.0004*\"performers\" + 0.0003*\"settle\" + 0.0003*\"slumped\" + 0.0003*\"rises\"')\n",
      "\n",
      "\n",
      "FLSA-W Topics:\n",
      "\n",
      "Topic 1: advanced, intc, broader, nasdaq, rank\n",
      "Topic 2: , premarket, nasdaq, also, market\n",
      "Topic 3: traded, reuters, worst, previously, composite\n",
      "Topic 4: book, evolution, books, richard, science\n",
      "Topic 5: outnumbered, performers, settle, slumped, rises\n",
      "\n",
      "Vocabulary size: 32,132\n",
      "\n",
      "Coherence Score: 0.5326\n",
      "Diversity Score: 0.96\n",
      "Interpretability Score: 0.5113\n"
     ]
    }
   ],
   "source": [
    "# Set seed for reproducible results\n",
    "np.random.seed(42)\n",
    "\n",
    "# Train FLSA-W model on the first version of the preprocessed dataset\n",
    "flsa_w_model, flsa_w_topics, bigrams = train_topic_model(train_data_v2, \n",
    "                                                model_type='FLSA-W', \n",
    "                                                preprocess=True, \n",
    "                                                words_to_exclude={'gmt', 'inc', 'com', 'whileolympusshares', 'upnoteus'})\n",
    "\n",
    "# Print the most common bigrams\n",
    "print_most_common_bigrams(bigrams, train_data_v2['preprocessed_content'], top_n=15)\n",
    "\n",
    "# Print evaluation metrics for the FLSA-W model\n",
    "flsa_w_print_evaluation_metrics(flsa_w_model, flsa_w_topics)"
   ]
  },
  {
   "cell_type": "markdown",
   "metadata": {
    "id": "NuFOEwWUz1yn"
   },
   "source": [
    "### BERTopic"
   ]
  },
  {
   "cell_type": "code",
   "execution_count": null,
   "metadata": {
    "id": "3rk6CVxSz1yo"
   },
   "outputs": [],
   "source": [
    "# Train BERTopic model on the second version of the preprocessed dataset\n",
    "bertopic_model, bertopic_topics, bigrams, train_data_tokens_list, dictionary = train_topic_model(train_data_v2, model_type='BERTopic')\n",
    "\n",
    "# Print the most common bigrams\n",
    "print_most_common_bigrams(bigrams, train_data_v2['preprocessed_content'], top_n=15)\n",
    "\n",
    "# Evaluation metrics of the BERTopic model\n",
    "bertopic_print_evaluation_metrics(bertopic_model, bertopic_topics, train_data_tokens_list, dictionary)"
   ]
  },
  {
   "cell_type": "markdown",
   "metadata": {
    "id": "sCrN0l0oOcXW"
   },
   "source": [
    "## Iteration 3"
   ]
  },
  {
   "cell_type": "markdown",
   "metadata": {},
   "source": [
    "### LDA"
   ]
  },
  {
   "cell_type": "code",
   "execution_count": null,
   "metadata": {},
   "outputs": [
    {
     "name": "stdout",
     "output_type": "stream",
     "text": [
      "No bigrams were created.\n",
      "\n",
      "\n",
      "LDA Topics with Word Probabilities:\n",
      "\n",
      "Topic 1: 0.004*\"lowest\" + 0.004*\"seven\" + 0.004*\"gmt\" + 0.003*\"member\" + 0.002*\"settle\" + 0.002*\"advice\" + 0.002*\"worst\" + 0.002*\"usd\" + 0.002*\"podcast\" + 0.002*\"th\"\n",
      "Topic 2: 0.003*\"mining\" + 0.003*\"blockchain\" + 0.002*\"radeon\" + 0.002*\"instrument\" + 0.002*\"robotics\" + 0.002*\"charge\" + 0.002*\"delivered\" + 0.002*\"executive\" + 0.002*\"samsung\" + 0.002*\"texas\"\n",
      "Topic 3: 0.003*\"advice\" + 0.003*\"herein\" + 0.002*\"dma\" + 0.002*\"style\" + 0.002*\"sport\" + 0.002*\"profitable\" + 0.002*\"engage\" + 0.002*\"zero\" + 0.002*\"subject\" + 0.002*\"resource\"\n",
      "Topic 4: 0.003*\"approximately\" + 0.003*\"outperforming\" + 0.003*\"netapp\" + 0.003*\"broadcom\" + 0.003*\"mellanox\" + 0.002*\"primarily\" + 0.002*\"kevin\" + 0.002*\"infrastructure\" + 0.002*\"baidu\" + 0.002*\"sporting\"\n",
      "Topic 5: 0.002*\"treasury\" + 0.002*\"meeting\" + 0.002*\"july\" + 0.002*\"amid\" + 0.002*\"policy\" + 0.002*\"falling\" + 0.002*\"federal\" + 0.002*\"jumped\" + 0.002*\"dropped\" + 0.002*\"retailer\"\n",
      "\n",
      "Vocabulary size: 27,912\n",
      "\n",
      "Coherence Score: 0.4769\n"
     ]
    }
   ],
   "source": [
    "# Set seed for reproducible results\n",
    "np.random.seed(42)\n",
    "\n",
    "LDA_model, LDA_topics, bigrams, train_data_list_tokens, dictionary = train_topic_model(\n",
    "    train_data_v3, \n",
    "    model_type='LDA', \n",
    "    preprocess=True,\n",
    "    words_to_exclude={'inc', 'sma', 'et'},\n",
    "    top_percent=2,\n",
    "    bottom_percent=2\n",
    "    )\n",
    "\n",
    "print_most_common_bigrams(bigrams, train_data_v1['preprocessed_content'], top_n=15)\n",
    "\n",
    "# Call the modified evaluation function\n",
    "lda_print_evaluation_metrics(LDA_model, train_data_list_tokens, dictionary)"
   ]
  },
  {
   "cell_type": "markdown",
   "metadata": {},
   "source": [
    "### FLSA-W"
   ]
  },
  {
   "cell_type": "code",
   "execution_count": 29,
   "metadata": {},
   "outputs": [
    {
     "name": "stdout",
     "output_type": "stream",
     "text": [
      "No bigrams were created.\n",
      "\n",
      "\n",
      "FLSA-W Topics with Word Probabilities:\n",
      "\n",
      "(0, '0.0002*\"premarket\" + 0.0002*\"company\" + 0.0002*\"market\" + 0.0002*\"also\" + 0.0002*\"nasdaq\"')\n",
      "(1, '0.001*\"traded\" + 0.0008*\"reuters\" + 0.0008*\"composite\" + 0.0008*\"worst\" + 0.0007*\"lowest\"')\n",
      "(2, '0.0004*\"outnumbered\" + 0.0004*\"settle\" + 0.0004*\"performer\" + 0.0004*\"slumped\" + 0.0003*\"dax\"')\n",
      "(3, '0.0018*\"nasdaq\" + 0.0018*\"rank\" + 0.0018*\"advanced\" + 0.0017*\"intc\" + 0.0017*\"during\"')\n",
      "(4, '0.0127*\"book\" + 0.0105*\"evolution\" + 0.0091*\"richard\" + 0.0081*\"certainty\" + 0.008*\"mind\"')\n",
      "\n",
      "\n",
      "FLSA-W Topics:\n",
      "\n",
      "Topic 1: premarket, company, market, also, nasdaq\n",
      "Topic 2: traded, reuters, composite, worst, lowest\n",
      "Topic 3: outnumbered, settle, performer, slumped, dax\n",
      "Topic 4: nasdaq, rank, advanced, intc, during\n",
      "Topic 5: book, evolution, richard, certainty, mind\n",
      "\n",
      "Vocabulary size: 29,068\n",
      "\n",
      "Coherence Score: 0.5549\n",
      "Diversity Score: 0.96\n",
      "Interpretability Score: 0.5327\n"
     ]
    }
   ],
   "source": [
    "# Set seed for reproducible results\n",
    "np.random.seed(42)\n",
    "\n",
    "# Train FLSA-W model on the first version of the preprocessed dataset\n",
    "flsa_w_model, flsa_w_topics, bigrams = train_topic_model(train_data_v3, \n",
    "                                                model_type='FLSA-W', \n",
    "                                                preprocess=True, \n",
    "                                                words_to_exclude={'gmt', 'inc', 'com', 'whileolympusshares', 'upnoteus', 'googl', 'amat', 'et'})\n",
    "\n",
    "# Print the most common bigrams\n",
    "print_most_common_bigrams(bigrams, train_data_v2['preprocessed_content'], top_n=15)\n",
    "\n",
    "# Print evaluation metrics for the FLSA-W model\n",
    "flsa_w_print_evaluation_metrics(flsa_w_model, flsa_w_topics)"
   ]
  },
  {
   "cell_type": "markdown",
   "metadata": {
    "id": "0Hxrgkgcz5QB"
   },
   "source": [
    "### BERTopic"
   ]
  },
  {
   "cell_type": "code",
   "execution_count": null,
   "metadata": {
    "id": "FL6HDDnMz5QC"
   },
   "outputs": [],
   "source": [
    "# Train BERTopic model on the third version of the preprocessed dataset\n",
    "bertopic_model, bertopic_topics, bigrams, train_data_tokens_list, dictionary = train_topic_model(train_data_v3, model_type='BERTopic')\n",
    "\n",
    "# Print the most common bigrams\n",
    "print_most_common_bigrams(bigrams, train_data_v3['preprocessed_content'], top_n=15)\n",
    "\n",
    "# Evaluation metrics of the BERTopic model\n",
    "bertopic_print_evaluation_metrics(bertopic_model, bertopic_topics, train_data_tokens_list, dictionary)"
   ]
  },
  {
   "cell_type": "markdown",
   "metadata": {},
   "source": [
    "## Iteration 4"
   ]
  },
  {
   "cell_type": "markdown",
   "metadata": {},
   "source": [
    "### LDA"
   ]
  },
  {
   "cell_type": "markdown",
   "metadata": {},
   "source": [
    "Since version 2 is best out of the 3 versions, a fourth iteration is done to see if including bigrams into this model with the second version, would yield better results."
   ]
  },
  {
   "cell_type": "code",
   "execution_count": 25,
   "metadata": {},
   "outputs": [
    {
     "name": "stdout",
     "output_type": "stream",
     "text": [
      "Top 15 most common bigrams and respective frequencies:\n",
      "\n",
      "1 - balance_sheet                  236\n",
      "2 - federal_reserve                222\n",
      "3 - goldman_sachs                  218\n",
      "4 - informational_purposes         203\n",
      "5 - opinions_expressed             202\n",
      "6 - nothing_herein                 200\n",
      "7 - rebalanced_monthly             200\n",
      "8 - zero_transaction               200\n",
      "9 - morgan_stanley                 184\n",
      "10- hong_kong                      163\n",
      "11- virtual_reality                155\n",
      "12- immediate_releasechicago       147\n",
      "13- pure_genius                    147\n",
      "14- technological_revolutions      141\n",
      "15- ray_tracing                    138\n",
      "\n",
      "\n",
      "LDA Topics with Word Probabilities:\n",
      "\n",
      "Topic 1: 0.002*\"blockchain\" + 0.002*\"mellanox\" + 0.002*\"softbank\" + 0.002*\"work\" + 0.002*\"develop\" + 0.002*\"working\" + 0.002*\"uber\" + 0.002*\"app\" + 0.001*\"auto\" + 0.001*\"user\"\n",
      "Topic 2: 0.002*\"margins\" + 0.002*\"seven\" + 0.002*\"sporting\" + 0.002*\"acquisitions\" + 0.002*\"prospects\" + 0.002*\"factors\" + 0.002*\"trends\" + 0.002*\"expand\" + 0.002*\"highlights\" + 0.002*\"sports\"\n",
      "Topic 3: 0.003*\"crypto\" + 0.003*\"cards\" + 0.003*\"processor\" + 0.003*\"card\" + 0.003*\"datacenter\" + 0.002*\"ryzen\" + 0.002*\"deep\" + 0.002*\"gamers\" + 0.002*\"server\" + 0.002*\"miners\"\n",
      "Topic 4: 0.002*\"climbed\" + 0.002*\"talks\" + 0.002*\"equities\" + 0.002*\"dropped\" + 0.002*\"april\" + 0.002*\"mixed\" + 0.002*\"chipmakers\" + 0.002*\"amat\" + 0.002*\"slowdown\" + 0.002*\"weekly\"\n",
      "Topic 5: 0.002*\"really\" + 0.002*\"got\" + 0.002*\"bit\" + 0.002*\"getting\" + 0.001*\"traders\" + 0.001*\"trader\" + 0.001*\"nflx\" + 0.001*\"say\" + 0.001*\"pretty\" + 0.001*\"n\"\n",
      "\n",
      "Vocabulary size: 33,682\n",
      "\n",
      "Coherence Score: 0.4931\n"
     ]
    }
   ],
   "source": [
    "# Set seed for reproducible results\n",
    "np.random.seed(42)\n",
    "\n",
    "LDA_model, LDA_topics, bigrams, train_data_list_tokens, dictionary = train_topic_model(\n",
    "    train_data_v2, \n",
    "    model_type='LDA', \n",
    "    preprocess=True,\n",
    "    words_to_exclude={'amd', 'inc', 'etf', 'sma', 'et', 'gmt', 'dma', 'baidu', 'radeon', 'vix'},\n",
    "    top_percent=2,\n",
    "    bottom_percent=2,\n",
    "    use_bigrams=True\n",
    "    )\n",
    "\n",
    "print_most_common_bigrams(bigrams, train_data_v1['preprocessed_content'], top_n=15)\n",
    "\n",
    "# Call the modified evaluation function\n",
    "lda_print_evaluation_metrics(LDA_model, train_data_list_tokens, dictionary)"
   ]
  },
  {
   "cell_type": "markdown",
   "metadata": {},
   "source": [
    "### FLSA-W"
   ]
  },
  {
   "cell_type": "code",
   "execution_count": 30,
   "metadata": {},
   "outputs": [
    {
     "name": "stdout",
     "output_type": "stream",
     "text": [
      "Top 15 most common bigrams and respective frequencies:\n",
      "\n",
      "1 - long_term                      1262\n",
      "2 - wall_street                    1128\n",
      "3 - data_center                    1128\n",
      "4 - self_driving                   1084\n",
      "5 - non_gaap                       858\n",
      "6 - artificial_intelligence        804\n",
      "7 - advanced_micro                 689\n",
      "8 - bottom_line                    620\n",
      "9 - trade_war                      569\n",
      "10- united_state                   567\n",
      "11- dow_jones                      551\n",
      "12- applied_material               475\n",
      "13- interest_rate                  427\n",
      "14- gross_margin                   420\n",
      "15- industrial_average             414\n",
      "\n",
      "\n",
      "FLSA-W Topics with Word Probabilities:\n",
      "\n",
      "(0, '0.0004*\"past_seven\" + 0.0004*\"traded_highest\" + 0.0004*\"start_session\" + 0.0004*\"lowest_during\" + 0.0004*\"exchange_volume\"')\n",
      "(1, '0.011*\"book\" + 0.009*\"science\" + 0.0088*\"evolution\" + 0.007*\"certainty\" + 0.0069*\"modern\"')\n",
      "(2, '0.0008*\"traded\" + 0.0008*\"composite\" + 0.0007*\"reuters\" + 0.0007*\"previously\" + 0.0007*\"president_donald\"')\n",
      "(3, '0.0003*\"worst_performer\" + 0.0003*\"original_post\" + 0.0003*\"slumped\" + 0.0003*\"philadelphia_semiconductor\" + 0.0003*\"sell_rated\"')\n",
      "(4, '0.0018*\"corporation\" + 0.0017*\"rank\" + 0.0017*\"intc\" + 0.0017*\"broader\" + 0.0016*\"nasdaq\"')\n",
      "\n",
      "\n",
      "FLSA-W Topics:\n",
      "\n",
      "Topic 1: past_seven, traded_highest, start_session, lowest_during, exchange_volume\n",
      "Topic 2: book, science, evolution, certainty, modern\n",
      "Topic 3: traded, composite, reuters, previously, president_donald\n",
      "Topic 4: worst_performer, original_post, slumped, philadelphia_semiconductor, sell_rated\n",
      "Topic 5: corporation, rank, intc, broader, nasdaq\n",
      "\n",
      "Vocabulary size: 31,596\n",
      "\n",
      "Coherence Score: 0.666\n",
      "Diversity Score: 1.0\n",
      "Interpretability Score: 0.666\n"
     ]
    }
   ],
   "source": [
    "# Set seed for reproducible results\n",
    "np.random.seed(42)\n",
    "\n",
    "# Train FLSA-W model on the first version of the preprocessed dataset\n",
    "flsa_w_model, flsa_w_topics, bigrams = train_topic_model(train_data_v3, \n",
    "                                                model_type='FLSA-W', \n",
    "                                                preprocess=True,\n",
    "                                                words_to_exclude={'gmt', 'inc', 'com', 'whileolympusshares', 'upnoteus', 'googl', 'amat', 'et'},\n",
    "                                                use_bigrams=True)\n",
    "\n",
    "# Print the most common bigrams\n",
    "print_most_common_bigrams(bigrams, train_data_v3['preprocessed_content'], top_n=15)\n",
    "\n",
    "# Print evaluation metrics for the FLSA-W model\n",
    "flsa_w_print_evaluation_metrics(flsa_w_model, flsa_w_topics)"
   ]
  },
  {
   "cell_type": "markdown",
   "metadata": {
    "id": "nxD_9xRpOn4c"
   },
   "source": [
    "## Output of Final Topic Model"
   ]
  },
  {
   "cell_type": "markdown",
   "metadata": {},
   "source": [
    "### LDA"
   ]
  },
  {
   "cell_type": "code",
   "execution_count": null,
   "metadata": {},
   "outputs": [
    {
     "name": "stdout",
     "output_type": "stream",
     "text": [
      "No bigrams were created.\n",
      "\n",
      "\n",
      "LDA Topics with Word Probabilities:\n",
      "\n",
      "Topic 1: 0.004*\"herein\" + 0.003*\"engage\" + 0.003*\"highlights\" + 0.003*\"material\" + 0.003*\"profitable\" + 0.003*\"whole\" + 0.003*\"subject\" + 0.003*\"actual\" + 0.003*\"zero\" + 0.002*\"podcast\"\n",
      "Topic 2: 0.002*\"uber\" + 0.002*\"dma\" + 0.002*\"vix\" + 0.002*\"baidu\" + 0.002*\"mobileye\" + 0.002*\"n\" + 0.001*\"auto\" + 0.001*\"jobs\" + 0.001*\"say\" + 0.001*\"work\"\n",
      "Topic 3: 0.004*\"cards\" + 0.003*\"sma\" + 0.003*\"radeon\" + 0.003*\"datacenter\" + 0.003*\"processor\" + 0.003*\"geforce\" + 0.002*\"ryzen\" + 0.002*\"gamers\" + 0.002*\"streaming\" + 0.002*\"crypto\"\n",
      "Topic 4: 0.004*\"gmt\" + 0.003*\"lowest\" + 0.003*\"et\" + 0.002*\"seven\" + 0.002*\"usd\" + 0.002*\"traders\" + 0.002*\"yields\" + 0.002*\"talks\" + 0.002*\"central\" + 0.002*\"meeting\"\n",
      "Topic 5: 0.002*\"acquisitions\" + 0.002*\"outperforming\" + 0.002*\"netapp\" + 0.002*\"western\" + 0.002*\"trailing\" + 0.002*\"sporting\" + 0.002*\"prospects\" + 0.002*\"pure\" + 0.002*\"mellanox\" + 0.002*\"robotics\"\n",
      "\n",
      "Vocabulary size: 30,853\n",
      "\n",
      "Coherence Score: 0.5659\n"
     ]
    }
   ],
   "source": [
    "# Iteration 2 was the best model observed:\n",
    "\n",
    "# Set seed for reproducible results\n",
    "np.random.seed(42)\n",
    "\n",
    "\n",
    "LDA_model, LDA_topics, bigrams, train_data_list_tokens, dictionary = train_topic_model(\n",
    "    train_data_v2, \n",
    "    model_type='LDA', \n",
    "    preprocess=True, \n",
    "    top_percent=2,\n",
    "    bottom_percent=2,\n",
    "    words_to_exclude={'u', 'p', 'inc', 'q'} \n",
    "    )\n",
    "\n",
    "print_most_common_bigrams(bigrams, train_data_v1['preprocessed_content'], top_n=15)\n",
    "\n",
    "# Set up topics in the correct format for CoherenceModel\n",
    "lda_topics = [[word for word, _ in LDA_model.show_topic(topic_id, topn=10)] for topic_id in range(LDA_model.num_topics)]\n",
    "\n",
    "# Call the modified evaluation function\n",
    "lda_print_evaluation_metrics(LDA_model, train_data_list_tokens, dictionary)"
   ]
  },
  {
   "cell_type": "markdown",
   "metadata": {},
   "source": [
    "### FLSA-W"
   ]
  },
  {
   "cell_type": "code",
   "execution_count": 32,
   "metadata": {},
   "outputs": [
    {
     "name": "stdout",
     "output_type": "stream",
     "text": [
      "\n",
      "\n",
      "FLSA-W Topics with Word Probabilities:\n",
      "\n",
      "(0, '0.0004*\"past_seven\" + 0.0004*\"traded_highest\" + 0.0004*\"start_session\" + 0.0004*\"lowest_during\" + 0.0004*\"exchange_volume\"')\n",
      "(1, '0.011*\"book\" + 0.009*\"science\" + 0.0088*\"evolution\" + 0.007*\"certainty\" + 0.0069*\"modern\"')\n",
      "(2, '0.0008*\"traded\" + 0.0008*\"composite\" + 0.0007*\"reuters\" + 0.0007*\"previously\" + 0.0007*\"president_donald\"')\n",
      "(3, '0.0003*\"worst_performer\" + 0.0003*\"original_post\" + 0.0003*\"slumped\" + 0.0003*\"philadelphia_semiconductor\" + 0.0003*\"sell_rated\"')\n",
      "(4, '0.0018*\"corporation\" + 0.0017*\"rank\" + 0.0017*\"intc\" + 0.0017*\"broader\" + 0.0016*\"nasdaq\"')\n",
      "\n",
      "\n",
      "FLSA-W Topics:\n",
      "\n",
      "Topic 1: past_seven, traded_highest, start_session, lowest_during, exchange_volume\n",
      "Topic 2: book, science, evolution, certainty, modern\n",
      "Topic 3: traded, composite, reuters, previously, president_donald\n",
      "Topic 4: worst_performer, original_post, slumped, philadelphia_semiconductor, sell_rated\n",
      "Topic 5: corporation, rank, intc, broader, nasdaq\n",
      "\n",
      "Vocabulary size: 31,596\n",
      "\n",
      "Coherence Score: 0.666\n",
      "Diversity Score: 1.0\n",
      "Interpretability Score: 0.666\n"
     ]
    }
   ],
   "source": [
    "# Print evaluation metrics for the FLSA-W model\n",
    "flsa_w_print_evaluation_metrics(flsa_w_model, flsa_w_topics)"
   ]
  },
  {
   "cell_type": "markdown",
   "metadata": {},
   "source": [
    "### BERTopic"
   ]
  },
  {
   "cell_type": "code",
   "execution_count": null,
   "metadata": {},
   "outputs": [],
   "source": [
    "# Evaluation metrics of the final BERTopic model\n",
    "bertopic_print_evaluation_metrics(bertopic_model, bertopic_topics, train_data_tokens_list, dictionary)"
   ]
  },
  {
   "cell_type": "markdown",
   "metadata": {
    "id": "4fArTnJ50J7O"
   },
   "source": [
    "Topic Similarity Matrix"
   ]
  },
  {
   "cell_type": "code",
   "execution_count": null,
   "metadata": {
    "id": "SmkYFtmt0GXP"
   },
   "outputs": [],
   "source": [
    "bertopic_model.visualize_heatmap()"
   ]
  }
 ],
 "metadata": {
  "colab": {
   "provenance": []
  },
  "kernelspec": {
   "display_name": "nlp-project",
   "language": "python",
   "name": "python3"
  },
  "language_info": {
   "codemirror_mode": {
    "name": "ipython",
    "version": 3
   },
   "file_extension": ".py",
   "mimetype": "text/x-python",
   "name": "python",
   "nbconvert_exporter": "python",
   "pygments_lexer": "ipython3",
   "version": "3.12.4"
  }
 },
 "nbformat": 4,
 "nbformat_minor": 0
}

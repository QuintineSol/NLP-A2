{
 "cells": [
  {
   "cell_type": "markdown",
   "metadata": {},
   "source": [
    "# NLP - Assignment 2"
   ]
  },
  {
   "cell_type": "markdown",
   "metadata": {},
   "source": [
    "## Imports"
   ]
  },
  {
   "cell_type": "code",
<<<<<<< HEAD
   "execution_count": 2,
=======
   "execution_count": 28,
>>>>>>> e9a7b6b3f9533c77d19a1d027c4aafa664483ca7
   "metadata": {},
   "outputs": [],
   "source": [
    "import pandas as pd\n",
    "from sklearn.feature_extraction.text import CountVectorizer\n",
    "from sklearn.decomposition import LatentDirichletAllocation\n",
    "from bertopic import BERTopic\n",
    "import numpy as np\n",
    "import re\n",
    "import nltk\n",
    "from nltk.corpus import stopwords\n",
    "from nltk.tokenize import word_tokenize\n",
    "from nltk.stem import WordNetLemmatizer, PorterStemmer\n",
<<<<<<< HEAD
    "from FuzzyTM import FLSA_W"
=======
    "from gensim.models import CoherenceModel\n",
    "import matplotlib.pyplot as plt\n",
    "import gensim\n",
    "from gensim import corpora\n",
    "\n"
>>>>>>> e9a7b6b3f9533c77d19a1d027c4aafa664483ca7
   ]
  },
  {
   "cell_type": "markdown",
   "metadata": {},
   "source": [
    "## Preprocess Data"
   ]
  },
  {
   "cell_type": "code",
<<<<<<< HEAD
   "execution_count": 3,
=======
   "execution_count": 4,
>>>>>>> e9a7b6b3f9533c77d19a1d027c4aafa664483ca7
   "metadata": {},
   "outputs": [
    {
     "data": {
      "text/html": [
       "<div>\n",
       "<style scoped>\n",
       "    .dataframe tbody tr th:only-of-type {\n",
       "        vertical-align: middle;\n",
       "    }\n",
       "\n",
       "    .dataframe tbody tr th {\n",
       "        vertical-align: top;\n",
       "    }\n",
       "\n",
       "    .dataframe thead th {\n",
       "        text-align: right;\n",
       "    }\n",
       "</style>\n",
       "<table border=\"1\" class=\"dataframe\">\n",
       "  <thead>\n",
       "    <tr style=\"text-align: right;\">\n",
       "      <th></th>\n",
       "      <th>id</th>\n",
       "      <th>ticker</th>\n",
       "      <th>title</th>\n",
       "      <th>category</th>\n",
       "      <th>content</th>\n",
       "      <th>release_date</th>\n",
       "      <th>provider</th>\n",
       "      <th>url</th>\n",
       "      <th>article_id</th>\n",
       "    </tr>\n",
       "  </thead>\n",
       "  <tbody>\n",
       "    <tr>\n",
       "      <th>0</th>\n",
       "      <td>221515</td>\n",
       "      <td>NIO</td>\n",
       "      <td>Why Shares of Chinese Electric Car Maker NIO A...</td>\n",
       "      <td>news</td>\n",
       "      <td>What s happening\\nShares of Chinese electric c...</td>\n",
       "      <td>2020-01-15</td>\n",
       "      <td>The Motley Fool</td>\n",
       "      <td>https://invst.ly/pigqi</td>\n",
       "      <td>2060327</td>\n",
       "    </tr>\n",
       "    <tr>\n",
       "      <th>1</th>\n",
       "      <td>221516</td>\n",
       "      <td>NIO</td>\n",
       "      <td>NIO only consumer gainer  Workhorse Group amon...</td>\n",
       "      <td>news</td>\n",
       "      <td>Gainers  NIO  NYSE NIO   7  \\nLosers  MGP Ingr...</td>\n",
       "      <td>2020-01-18</td>\n",
       "      <td>Seeking Alpha</td>\n",
       "      <td>https://invst.ly/pje9c</td>\n",
       "      <td>2062196</td>\n",
       "    </tr>\n",
       "    <tr>\n",
       "      <th>2</th>\n",
       "      <td>221517</td>\n",
       "      <td>NIO</td>\n",
       "      <td>NIO leads consumer gainers  Beyond Meat and Ma...</td>\n",
       "      <td>news</td>\n",
       "      <td>Gainers  NIO  NYSE NIO   14   Village Farms In...</td>\n",
       "      <td>2020-01-15</td>\n",
       "      <td>Seeking Alpha</td>\n",
       "      <td>https://invst.ly/pifmv</td>\n",
       "      <td>2060249</td>\n",
       "    </tr>\n",
       "    <tr>\n",
       "      <th>3</th>\n",
       "      <td>221518</td>\n",
       "      <td>NIO</td>\n",
       "      <td>NIO  NVAX among premarket gainers</td>\n",
       "      <td>news</td>\n",
       "      <td>Cemtrex  NASDAQ CETX   85  after FY results \\n...</td>\n",
       "      <td>2020-01-15</td>\n",
       "      <td>Seeking Alpha</td>\n",
       "      <td>https://invst.ly/picu8</td>\n",
       "      <td>2060039</td>\n",
       "    </tr>\n",
       "    <tr>\n",
       "      <th>4</th>\n",
       "      <td>221519</td>\n",
       "      <td>NIO</td>\n",
       "      <td>PLUG  NIO among premarket gainers</td>\n",
       "      <td>news</td>\n",
       "      <td>aTyr Pharma  NASDAQ LIFE   63  on Kyorin Pharm...</td>\n",
       "      <td>2020-01-06</td>\n",
       "      <td>Seeking Alpha</td>\n",
       "      <td>https://seekingalpha.com/news/3529772-plug-nio...</td>\n",
       "      <td>2053096</td>\n",
       "    </tr>\n",
       "  </tbody>\n",
       "</table>\n",
       "</div>"
      ],
      "text/plain": [
       "       id ticker                                              title category  \\\n",
       "0  221515    NIO  Why Shares of Chinese Electric Car Maker NIO A...     news   \n",
       "1  221516    NIO  NIO only consumer gainer  Workhorse Group amon...     news   \n",
       "2  221517    NIO  NIO leads consumer gainers  Beyond Meat and Ma...     news   \n",
       "3  221518    NIO                  NIO  NVAX among premarket gainers     news   \n",
       "4  221519    NIO                  PLUG  NIO among premarket gainers     news   \n",
       "\n",
       "                                             content release_date  \\\n",
       "0  What s happening\\nShares of Chinese electric c...   2020-01-15   \n",
       "1  Gainers  NIO  NYSE NIO   7  \\nLosers  MGP Ingr...   2020-01-18   \n",
       "2  Gainers  NIO  NYSE NIO   14   Village Farms In...   2020-01-15   \n",
       "3  Cemtrex  NASDAQ CETX   85  after FY results \\n...   2020-01-15   \n",
       "4  aTyr Pharma  NASDAQ LIFE   63  on Kyorin Pharm...   2020-01-06   \n",
       "\n",
       "          provider                                                url  \\\n",
       "0  The Motley Fool                             https://invst.ly/pigqi   \n",
       "1    Seeking Alpha                             https://invst.ly/pje9c   \n",
       "2    Seeking Alpha                             https://invst.ly/pifmv   \n",
       "3    Seeking Alpha                             https://invst.ly/picu8   \n",
       "4    Seeking Alpha  https://seekingalpha.com/news/3529772-plug-nio...   \n",
       "\n",
       "   article_id  \n",
       "0     2060327  \n",
       "1     2062196  \n",
       "2     2060249  \n",
       "3     2060039  \n",
       "4     2053096  "
      ]
     },
<<<<<<< HEAD
     "execution_count": 3,
=======
     "execution_count": 4,
>>>>>>> e9a7b6b3f9533c77d19a1d027c4aafa664483ca7
     "metadata": {},
     "output_type": "execute_result"
    }
   ],
   "source": [
    "path = \"./us_equities_news_dataset.csv\"\n",
    "\n",
    "# Load the news dataset\n",
    "news_dataset = pd.read_csv(\"./us_equities_news_dataset.csv\")\n",
    "news_dataset.head()"
   ]
  },
  {
   "cell_type": "code",
<<<<<<< HEAD
   "execution_count": 4,
=======
   "execution_count": 5,
>>>>>>> e9a7b6b3f9533c77d19a1d027c4aafa664483ca7
   "metadata": {},
   "outputs": [],
   "source": [
    "# Filter dataset to only include articles with 'Nvidia' in the content\n",
    "nvidia_dataset = news_dataset[news_dataset['content'].str.contains('Nvidia', case=False, na=False)]\n"
   ]
  },
  {
   "cell_type": "code",
<<<<<<< HEAD
   "execution_count": 5,
=======
   "execution_count": 6,
>>>>>>> e9a7b6b3f9533c77d19a1d027c4aafa664483ca7
   "metadata": {},
   "outputs": [],
   "source": [
    "lemmatizer = WordNetLemmatizer()\n",
    "stemmer = PorterStemmer()\n",
    "stop_words = set(stopwords.words('english'))\n",
    "\n",
    "def preprocess_text(text, \n",
    "                    remove_punctuation=True, \n",
    "                    remove_stopwords=True, \n",
    "                    lemmatize=False, \n",
    "                    stem=False, \n",
    "                    remove_short_words=False, \n",
    "                    remove_rare_words=False, \n",
    "                    remove_numbers=True, \n",
    "                    min_word_length=2):\n",
    "    \"\"\"\n",
    "    Advanced preprocessing function that applies different levels of text processing.\n",
    "    \n",
    "    Parameters:\n",
    "    - text: The text to preprocess.\n",
    "    - remove_punctuation: Whether to remove punctuation from the text.\n",
    "    - remove_stopwords: Whether to remove common stopwords.\n",
    "    - lemmatize: Whether to apply lemmatization to reduce words to their root form.\n",
    "    - stem: Whether to apply stemming to reduce words to their base form.\n",
    "    - remove_short_words: Whether to remove short words from the text.\n",
    "    - remove_rare_words: Whether to remove rare words based on the dataset distribution.\n",
    "    - remove_numbers: Whether to remove numbers from the text.\n",
    "    - min_word_length: The minimum length of words to keep in the text.\n",
    "    \n",
    "    Returns:\n",
    "    - Preprocessed text as tokens.\n",
    "    \"\"\"\n",
    "    \n",
    "    # Tokenization\n",
    "    tokens = word_tokenize(text)\n",
    "    \n",
    "    # Convert to lowercase\n",
    "    tokens = [token.lower() for token in tokens]\n",
    "    \n",
    "    # Remove numbers if specified\n",
    "    if remove_numbers:\n",
    "        tokens = [re.sub(r'\\d+', '', token) for token in tokens]\n",
    "    \n",
    "    # Remove non-alphabetic characters (punctuation)\n",
    "    if remove_punctuation:\n",
    "        tokens = [re.sub(r'[^a-zA-Z]', '', token) for token in tokens]\n",
    "    \n",
    "    # Remove stopwords\n",
    "    if remove_stopwords:\n",
    "        tokens = [token for token in tokens if token not in stop_words]\n",
    "    \n",
    "    # Lemmatization\n",
    "    if lemmatize:\n",
    "        tokens = [lemmatizer.lemmatize(token) for token in tokens]\n",
    "    \n",
    "    # Stemming (alternative to lemmatization)\n",
    "    if stem:\n",
    "        tokens = [stemmer.stem(token) for token in tokens]\n",
    "    \n",
    "    # Remove short words\n",
    "    if remove_short_words:\n",
    "        tokens = [token for token in tokens if len(token) >= min_word_length]\n",
    "    \n",
    "    return tokens"
   ]
  },
  {
   "cell_type": "code",
<<<<<<< HEAD
   "execution_count": 6,
=======
   "execution_count": 7,
>>>>>>> e9a7b6b3f9533c77d19a1d027c4aafa664483ca7
   "metadata": {},
   "outputs": [],
   "source": [
    "def apply_preprocessing(nvidia_dataset, version='v1'):\n",
    "    \"\"\"\n",
    "    Apply different levels of preprocessing to the dataset.\n",
    "    \n",
    "    Parameters:\n",
    "    - nvidia_dataset: The Nvidia articles with a 'content' column.\n",
    "    - version: The version of preprocessing to apply ('v1', 'v2', 'v3', or 'v4').\n",
    "    \n",
    "    Returns:\n",
    "    - DataFrame with the original content and the preprocessed content in 'preprocessed_content' column.\n",
    "    \"\"\"\n",
    "    \n",
    "    if version == 'v1':\n",
    "        # Basic tokenization and lowercasing\n",
    "        nvidia_dataset['preprocessed_content'] = nvidia_dataset['content'].apply(lambda x: preprocess_text(\n",
    "            x, remove_punctuation=False, remove_stopwords=False, \n",
    "            lemmatize=False, remove_numbers=False, stem=False, \n",
    "            remove_short_words=False\n",
    "        ))\n",
    "    \n",
    "    elif version == 'v2':\n",
    "        # Remove punctuation, stopwords, and numbers, but no lemmatization/stemming\n",
    "        nvidia_dataset['preprocessed_content'] = nvidia_dataset['content'].apply(lambda x: preprocess_text(\n",
    "            x, remove_punctuation=True, remove_stopwords=True, \n",
    "            lemmatize=False, remove_numbers=False, stem=False, \n",
    "            remove_short_words=False\n",
    "        ))\n",
    "    \n",
    "    elif version == 'v3':\n",
    "        # Advanced preprocessing with stemming, number removal, short words removal\n",
    "        nvidia_dataset['preprocessed_content'] = nvidia_dataset['content'].apply(lambda x: preprocess_text(\n",
    "            x, remove_punctuation=True, remove_stopwords=True, \n",
    "            lemmatize=False, stem=True, remove_numbers=True, \n",
    "            remove_short_words=True, min_word_length=2\n",
    "        ))\n",
    "    \n",
    "    elif version == 'v4':\n",
    "        # Full preprocessing with lemmatization instead of stemming, number removal, and short words removal\n",
    "        nvidia_dataset['preprocessed_content'] = nvidia_dataset['content'].apply(lambda x: preprocess_text(\n",
    "            x, remove_punctuation=True, remove_stopwords=True, \n",
    "            lemmatize=True, remove_numbers=True, stem=False, \n",
    "            remove_short_words=True, min_word_length=2\n",
    "        ))\n",
    "    \n",
    "    else:\n",
    "        raise ValueError(\"Invalid preprocessing version. Choose from 'v1', 'v2', 'v3', or 'v4'.\")\n",
    "    \n",
    "    # Return the DataFrame with original and preprocessed content\n",
    "    return nvidia_dataset\n"
   ]
  },
  {
   "cell_type": "code",
<<<<<<< HEAD
   "execution_count": 7,
=======
   "execution_count": 8,
>>>>>>> e9a7b6b3f9533c77d19a1d027c4aafa664483ca7
   "metadata": {},
   "outputs": [],
   "source": [
    "train_data_v1 = apply_preprocessing(nvidia_dataset, version='v1')  # Basic preprocessing\n",
    "train_data_v2 = apply_preprocessing(nvidia_dataset, version='v2')  # Intermediate preprocessing\n",
    "train_data_v3 = apply_preprocessing(nvidia_dataset, version='v3')  # Full preprocessing with stemming\n",
    "train_data_v4 = apply_preprocessing(nvidia_dataset, version='v4')  # Full preprocessing with lemmatizer"
   ]
  },
  {
   "cell_type": "code",
<<<<<<< HEAD
   "execution_count": 8,
=======
   "execution_count": 9,
>>>>>>> e9a7b6b3f9533c77d19a1d027c4aafa664483ca7
   "metadata": {},
   "outputs": [
    {
     "data": {
      "text/html": [
       "<div>\n",
       "<style scoped>\n",
       "    .dataframe tbody tr th:only-of-type {\n",
       "        vertical-align: middle;\n",
       "    }\n",
       "\n",
       "    .dataframe tbody tr th {\n",
       "        vertical-align: top;\n",
       "    }\n",
       "\n",
       "    .dataframe thead th {\n",
       "        text-align: right;\n",
       "    }\n",
       "</style>\n",
       "<table border=\"1\" class=\"dataframe\">\n",
       "  <thead>\n",
       "    <tr style=\"text-align: right;\">\n",
       "      <th></th>\n",
       "      <th>id</th>\n",
       "      <th>ticker</th>\n",
       "      <th>title</th>\n",
       "      <th>category</th>\n",
       "      <th>content</th>\n",
       "      <th>release_date</th>\n",
       "      <th>provider</th>\n",
       "      <th>url</th>\n",
       "      <th>article_id</th>\n",
       "      <th>preprocessed_content</th>\n",
       "    </tr>\n",
       "  </thead>\n",
       "  <tbody>\n",
       "    <tr>\n",
       "      <th>24</th>\n",
       "      <td>221539</td>\n",
       "      <td>NIO</td>\n",
       "      <td>A Central Bank War Just Started And Its Good F...</td>\n",
       "      <td>opinion</td>\n",
       "      <td>ECB Effects\\nThe move in the euro was huge  fa...</td>\n",
       "      <td>2019-03-07</td>\n",
       "      <td>Michael Kramer</td>\n",
       "      <td>https://www.investing.com/analysis/a-central-b...</td>\n",
       "      <td>200395687</td>\n",
       "      <td>[ecb, effect, move, euro, huge, falling, pip, ...</td>\n",
       "    </tr>\n",
       "    <tr>\n",
       "      <th>32</th>\n",
       "      <td>221547</td>\n",
       "      <td>NIO</td>\n",
       "      <td>6 Stocks To Watch  Nivida Could Be Falling</td>\n",
       "      <td>opinion</td>\n",
       "      <td>6 Stocks To Watch  March 6 Trading Session\\nSt...</td>\n",
       "      <td>2019-03-06</td>\n",
       "      <td>Michael Kramer</td>\n",
       "      <td>https://www.investing.com/analysis/6-stocks-to...</td>\n",
       "      <td>200394931</td>\n",
       "      <td>[stock, watch, march, trading, session, stock,...</td>\n",
       "    </tr>\n",
       "    <tr>\n",
       "      <th>57</th>\n",
       "      <td>221572</td>\n",
       "      <td>NIO</td>\n",
       "      <td>Stocks   Dow Drops Nearly 400 Points as Apple ...</td>\n",
       "      <td>news</td>\n",
       "      <td>Investing com   A rout in Apple and Facebook  ...</td>\n",
       "      <td>2018-11-19</td>\n",
       "      <td>Investing.com</td>\n",
       "      <td>https://www.investing.com/news/stock-market-ne...</td>\n",
       "      <td>1694042</td>\n",
       "      <td>[investing, com, rout, apple, facebook, nasdaq...</td>\n",
       "    </tr>\n",
       "    <tr>\n",
       "      <th>78</th>\n",
       "      <td>221593</td>\n",
       "      <td>UBER</td>\n",
       "      <td>The Zacks Analyst Blog Highlights  Advanced Mi...</td>\n",
       "      <td>opinion</td>\n",
       "      <td>For Immediate ReleaseChicago  IL   January 13 ...</td>\n",
       "      <td>2020-01-12</td>\n",
       "      <td>Zacks Investment Research</td>\n",
       "      <td>https://www.investing.com/analysis/the-zacks-a...</td>\n",
       "      <td>200498277</td>\n",
       "      <td>[immediate, releasechicago, il, january, zacks...</td>\n",
       "    </tr>\n",
       "    <tr>\n",
       "      <th>82</th>\n",
       "      <td>221597</td>\n",
       "      <td>UBER</td>\n",
       "      <td>The Best Of CES 2020  Revised</td>\n",
       "      <td>opinion</td>\n",
       "      <td>With 4 500 companies bringing their innovation...</td>\n",
       "      <td>2020-01-16</td>\n",
       "      <td>Zacks Investment Research</td>\n",
       "      <td>https://www.investing.com/analysis/the-best-of...</td>\n",
       "      <td>200499164</td>\n",
       "      <td>[company, bringing, innovation, ce, jan, get, ...</td>\n",
       "    </tr>\n",
       "  </tbody>\n",
       "</table>\n",
       "</div>"
      ],
      "text/plain": [
       "        id ticker                                              title category  \\\n",
       "24  221539    NIO  A Central Bank War Just Started And Its Good F...  opinion   \n",
       "32  221547    NIO         6 Stocks To Watch  Nivida Could Be Falling  opinion   \n",
       "57  221572    NIO  Stocks   Dow Drops Nearly 400 Points as Apple ...     news   \n",
       "78  221593   UBER  The Zacks Analyst Blog Highlights  Advanced Mi...  opinion   \n",
       "82  221597   UBER                     The Best Of CES 2020  Revised   opinion   \n",
       "\n",
       "                                              content release_date  \\\n",
       "24  ECB Effects\\nThe move in the euro was huge  fa...   2019-03-07   \n",
       "32  6 Stocks To Watch  March 6 Trading Session\\nSt...   2019-03-06   \n",
       "57  Investing com   A rout in Apple and Facebook  ...   2018-11-19   \n",
       "78  For Immediate ReleaseChicago  IL   January 13 ...   2020-01-12   \n",
       "82  With 4 500 companies bringing their innovation...   2020-01-16   \n",
       "\n",
       "                     provider  \\\n",
       "24             Michael Kramer   \n",
       "32             Michael Kramer   \n",
       "57              Investing.com   \n",
       "78  Zacks Investment Research   \n",
       "82  Zacks Investment Research   \n",
       "\n",
       "                                                  url  article_id  \\\n",
       "24  https://www.investing.com/analysis/a-central-b...   200395687   \n",
       "32  https://www.investing.com/analysis/6-stocks-to...   200394931   \n",
       "57  https://www.investing.com/news/stock-market-ne...     1694042   \n",
       "78  https://www.investing.com/analysis/the-zacks-a...   200498277   \n",
       "82  https://www.investing.com/analysis/the-best-of...   200499164   \n",
       "\n",
       "                                 preprocessed_content  \n",
       "24  [ecb, effect, move, euro, huge, falling, pip, ...  \n",
       "32  [stock, watch, march, trading, session, stock,...  \n",
       "57  [investing, com, rout, apple, facebook, nasdaq...  \n",
       "78  [immediate, releasechicago, il, january, zacks...  \n",
       "82  [company, bringing, innovation, ce, jan, get, ...  "
      ]
     },
<<<<<<< HEAD
     "execution_count": 8,
=======
     "execution_count": 9,
>>>>>>> e9a7b6b3f9533c77d19a1d027c4aafa664483ca7
     "metadata": {},
     "output_type": "execute_result"
    }
   ],
   "source": [
    "train_data_v1.head()"
   ]
  },
  {
   "cell_type": "code",
<<<<<<< HEAD
   "execution_count": 9,
=======
   "execution_count": 10,
>>>>>>> e9a7b6b3f9533c77d19a1d027c4aafa664483ca7
   "metadata": {},
   "outputs": [],
   "source": [
    "# train_data_head = train_data_v1.head()\n",
    "\n",
    "# # Specify the filename for the Excel file\n",
    "# output_file = 'train_data_v1_head.xlsx'\n",
    "\n",
    "# # Save to Excel\n",
    "# train_data_head.to_excel(output_file, index=False)"
   ]
  },
  {
   "cell_type": "markdown",
   "metadata": {},
   "source": [
    "## Train Topic Models"
   ]
  },
  {
   "cell_type": "code",
<<<<<<< HEAD
   "execution_count": 17,
=======
   "execution_count": 41,
>>>>>>> e9a7b6b3f9533c77d19a1d027c4aafa664483ca7
   "metadata": {},
   "outputs": [],
   "source": [
    "def compute_coherence_values(train_data_list, dictionary, max_topics=20):\n",
    "    \"\"\"\n",
    "    Compute coherence values for different numbers of topics in LDA model.\n",
    "\n",
    "    Parameters:\n",
    "    - train_data_list: List of tokenized documents.\n",
    "    - dictionary: Gensim dictionary.\n",
    "    - max_topics: Maximum number of topics to test.\n",
    "\n",
    "    Returns:\n",
    "    - coherence_values: List of coherence values for each number of topics.\n",
    "    - optimal_num_topics: The optimal number of topics based on maximum coherence.\n",
    "    \"\"\"\n",
    "\n",
    "    # Create Document-Term Matrix\n",
    "    doc_term_matrix = [dictionary.doc2bow(doc) for doc in train_data_list]\n",
    "\n",
    "    coherence_values = []\n",
    "    \n",
    "    # Iterate over different numbers of topics\n",
    "    for num_topics in range(2, max_topics + 1):\n",
    "        lda_model = gensim.models.LdaModel(\n",
    "            doc_term_matrix,\n",
    "            num_topics=num_topics,\n",
    "            id2word=dictionary,\n",
    "            random_state=42,\n",
    "            passes=10,\n",
    "            alpha='auto'\n",
    "        )\n",
    "\n",
    "        # Compute coherence score\n",
    "        coherence_model_lda = CoherenceModel(model=lda_model, texts=train_data_list, dictionary=dictionary, coherence='c_v')\n",
    "        coherence_values.append(coherence_model_lda.get_coherence())\n",
    "\n",
    "    # Find the optimal number of topics (maximum coherence)\n",
    "    optimal_num_topics = coherence_values.index(max(coherence_values)) + 2  # +2 because range starts from 2\n",
    "\n",
    "    return coherence_values, optimal_num_topics"
   ]
  },
  {
   "cell_type": "code",
   "execution_count": 45,
   "metadata": {},
   "outputs": [],
   "source": [
    "def train_topic_model(train_data, model_type='LDA', max_topics=20):\n",
    "    \"\"\"\n",
    "    Train a topic model on the given training data.\n",
    "\n",
    "    Parameters:\n",
    "    - train_data: list of str, the text to train the model on\n",
    "    - model_type: str, the type of model to train ('LDA', 'FLSA-W', 'BERTopic')\n",
    "    - num_topics: int, the number of topics to generate\n",
    "\n",
    "    Returns:\n",
    "    - model: the trained model\n",
    "    - topics: the topics generated by the model\n",
    "    \"\"\"\n",
    "\n",
    "    train_data_list_string = [' '.join(tokens) for tokens in train_data['preprocessed_content']]\n",
    "    train_data_list_tokens = train_data['preprocessed_content'].tolist()  # This should already be a list of lists\n",
    "\n",
    "\n",
    "    if model_type == 'LDA':\n",
    "        # Create Gensim dictionary\n",
    "        dictionary = corpora.Dictionary(train_data_list_tokens)\n",
    "        \n",
    "        # Compute coherence values and find optimal number of topics\n",
    "        coherence_values, optimal_num_topics = compute_coherence_values(train_data_list_tokens, dictionary, max_topics)\n",
    "\n",
    "        # Create Document-Term Matrix\n",
    "        doc_term_matrix = [dictionary.doc2bow(doc) for doc in train_data_list_tokens]\n",
    "\n",
    "        # Train LDA model with optimal number of topics\n",
    "        lda_model = gensim.models.LdaModel(\n",
    "            doc_term_matrix,\n",
    "            num_topics=optimal_num_topics,\n",
    "            id2word=dictionary,\n",
    "            random_state=42,\n",
    "            passes=10,\n",
    "            alpha='auto'\n",
    "        )\n",
    "\n",
    "        # Get topics (top words in each topic)\n",
    "        topics = lda_model.print_topics(num_words=10)\n",
    "\n",
    "        return lda_model, topics\n",
    "    \n",
    "    elif model_type == 'FLSA-W':\n",
    "        # Replace with actual FLSA-W training code\n",
    "        flsa_w_model = None\n",
    "        topics = None\n",
    "        \n",
    "        return flsa_w_model, topics\n",
    "    \n",
    "    elif model_type == 'BERTopic':\n",
    "        # Train BERTopic model\n",
    "        topic_model = BERTopic(nr_topics=10)\n",
    "        topics, _ = topic_model.fit_transform(train_data_list_string)\n",
    "        \n",
    "        return topic_model, topics\n",
    "    \n",
    "    else:\n",
    "        raise ValueError(\"Invalid model_type. Choose from 'LDA', 'FLSA-W', 'BERTopic'.\")"
   ]
  },
  {
   "cell_type": "markdown",
   "metadata": {},
   "source": [
    "## Iteration 1"
   ]
  },
  {
   "cell_type": "code",
   "execution_count": 12,
   "metadata": {},
   "outputs": [],
   "source": [
    "def print_topics_lda(topics):\n",
    "    for idx, topic in enumerate(topics):\n",
    "        print(f\"Topic {idx + 1}: {', '.join(topic)}\")"
   ]
  },
  {
   "cell_type": "code",
<<<<<<< HEAD
   "execution_count": 18,
   "metadata": {},
   "outputs": [],
   "source": [
    "def print_topics_flsaw(topics):\n",
    "    for idx, topic in enumerate(topics):\n",
    "        print(f\"Topic {idx + 1}: {', '.join(topic)}\")"
   ]
  },
  {
   "cell_type": "code",
   "execution_count": 14,
=======
   "execution_count": 13,
>>>>>>> e9a7b6b3f9533c77d19a1d027c4aafa664483ca7
   "metadata": {},
   "outputs": [],
   "source": [
    "def print_bertopic_topics(topic_model):\n",
    "    \"\"\"\n",
    "    Print topics generated by BERTopic.\n",
    "    \n",
    "    Parameters:\n",
    "    - topic_model: the trained BERTopic model\n",
    "    \"\"\"\n",
    "    topics = topic_model.get_topics()\n",
    "    for topic_num, words in topics.items():\n",
    "        # Ignore the '-1' topic, which is typically noise in BERTopic\n",
    "        if topic_num == -1:\n",
    "            continue\n",
    "        print(f\"Topic {topic_num}: {', '.join([word[0] for word in words])}\")\n"
   ]
  },
  {
   "cell_type": "markdown",
   "metadata": {},
   "source": [
    "### LDA"
   ]
  },
  {
   "cell_type": "code",
   "execution_count": 40,
   "metadata": {},
   "outputs": [
    {
     "data": {
      "text/html": [
       "<div>\n",
       "<style scoped>\n",
       "    .dataframe tbody tr th:only-of-type {\n",
       "        vertical-align: middle;\n",
       "    }\n",
       "\n",
       "    .dataframe tbody tr th {\n",
       "        vertical-align: top;\n",
       "    }\n",
       "\n",
       "    .dataframe thead th {\n",
       "        text-align: right;\n",
       "    }\n",
       "</style>\n",
       "<table border=\"1\" class=\"dataframe\">\n",
       "  <thead>\n",
       "    <tr style=\"text-align: right;\">\n",
       "      <th></th>\n",
       "      <th>id</th>\n",
       "      <th>ticker</th>\n",
       "      <th>title</th>\n",
       "      <th>category</th>\n",
       "      <th>content</th>\n",
       "      <th>release_date</th>\n",
       "      <th>provider</th>\n",
       "      <th>url</th>\n",
       "      <th>article_id</th>\n",
       "      <th>preprocessed_content</th>\n",
       "    </tr>\n",
       "  </thead>\n",
       "  <tbody>\n",
       "    <tr>\n",
       "      <th>24</th>\n",
       "      <td>221539</td>\n",
       "      <td>NIO</td>\n",
       "      <td>A Central Bank War Just Started And Its Good F...</td>\n",
       "      <td>opinion</td>\n",
       "      <td>ECB Effects\\nThe move in the euro was huge  fa...</td>\n",
       "      <td>2019-03-07</td>\n",
       "      <td>Michael Kramer</td>\n",
       "      <td>https://www.investing.com/analysis/a-central-b...</td>\n",
       "      <td>200395687</td>\n",
       "      <td>[ecb, effect, move, euro, huge, falling, pip, ...</td>\n",
       "    </tr>\n",
       "    <tr>\n",
       "      <th>32</th>\n",
       "      <td>221547</td>\n",
       "      <td>NIO</td>\n",
       "      <td>6 Stocks To Watch  Nivida Could Be Falling</td>\n",
       "      <td>opinion</td>\n",
       "      <td>6 Stocks To Watch  March 6 Trading Session\\nSt...</td>\n",
       "      <td>2019-03-06</td>\n",
       "      <td>Michael Kramer</td>\n",
       "      <td>https://www.investing.com/analysis/6-stocks-to...</td>\n",
       "      <td>200394931</td>\n",
       "      <td>[stock, watch, march, trading, session, stock,...</td>\n",
       "    </tr>\n",
       "    <tr>\n",
       "      <th>57</th>\n",
       "      <td>221572</td>\n",
       "      <td>NIO</td>\n",
       "      <td>Stocks   Dow Drops Nearly 400 Points as Apple ...</td>\n",
       "      <td>news</td>\n",
       "      <td>Investing com   A rout in Apple and Facebook  ...</td>\n",
       "      <td>2018-11-19</td>\n",
       "      <td>Investing.com</td>\n",
       "      <td>https://www.investing.com/news/stock-market-ne...</td>\n",
       "      <td>1694042</td>\n",
       "      <td>[investing, com, rout, apple, facebook, nasdaq...</td>\n",
       "    </tr>\n",
       "    <tr>\n",
       "      <th>78</th>\n",
       "      <td>221593</td>\n",
       "      <td>UBER</td>\n",
       "      <td>The Zacks Analyst Blog Highlights  Advanced Mi...</td>\n",
       "      <td>opinion</td>\n",
       "      <td>For Immediate ReleaseChicago  IL   January 13 ...</td>\n",
       "      <td>2020-01-12</td>\n",
       "      <td>Zacks Investment Research</td>\n",
       "      <td>https://www.investing.com/analysis/the-zacks-a...</td>\n",
       "      <td>200498277</td>\n",
       "      <td>[immediate, releasechicago, il, january, zacks...</td>\n",
       "    </tr>\n",
       "    <tr>\n",
       "      <th>82</th>\n",
       "      <td>221597</td>\n",
       "      <td>UBER</td>\n",
       "      <td>The Best Of CES 2020  Revised</td>\n",
       "      <td>opinion</td>\n",
       "      <td>With 4 500 companies bringing their innovation...</td>\n",
       "      <td>2020-01-16</td>\n",
       "      <td>Zacks Investment Research</td>\n",
       "      <td>https://www.investing.com/analysis/the-best-of...</td>\n",
       "      <td>200499164</td>\n",
       "      <td>[company, bringing, innovation, ce, jan, get, ...</td>\n",
       "    </tr>\n",
       "  </tbody>\n",
       "</table>\n",
       "</div>"
      ],
      "text/plain": [
       "        id ticker                                              title category  \\\n",
       "24  221539    NIO  A Central Bank War Just Started And Its Good F...  opinion   \n",
       "32  221547    NIO         6 Stocks To Watch  Nivida Could Be Falling  opinion   \n",
       "57  221572    NIO  Stocks   Dow Drops Nearly 400 Points as Apple ...     news   \n",
       "78  221593   UBER  The Zacks Analyst Blog Highlights  Advanced Mi...  opinion   \n",
       "82  221597   UBER                     The Best Of CES 2020  Revised   opinion   \n",
       "\n",
       "                                              content release_date  \\\n",
       "24  ECB Effects\\nThe move in the euro was huge  fa...   2019-03-07   \n",
       "32  6 Stocks To Watch  March 6 Trading Session\\nSt...   2019-03-06   \n",
       "57  Investing com   A rout in Apple and Facebook  ...   2018-11-19   \n",
       "78  For Immediate ReleaseChicago  IL   January 13 ...   2020-01-12   \n",
       "82  With 4 500 companies bringing their innovation...   2020-01-16   \n",
       "\n",
       "                     provider  \\\n",
       "24             Michael Kramer   \n",
       "32             Michael Kramer   \n",
       "57              Investing.com   \n",
       "78  Zacks Investment Research   \n",
       "82  Zacks Investment Research   \n",
       "\n",
       "                                                  url  article_id  \\\n",
       "24  https://www.investing.com/analysis/a-central-b...   200395687   \n",
       "32  https://www.investing.com/analysis/6-stocks-to...   200394931   \n",
       "57  https://www.investing.com/news/stock-market-ne...     1694042   \n",
       "78  https://www.investing.com/analysis/the-zacks-a...   200498277   \n",
       "82  https://www.investing.com/analysis/the-best-of...   200499164   \n",
       "\n",
       "                                 preprocessed_content  \n",
       "24  [ecb, effect, move, euro, huge, falling, pip, ...  \n",
       "32  [stock, watch, march, trading, session, stock,...  \n",
       "57  [investing, com, rout, apple, facebook, nasdaq...  \n",
       "78  [immediate, releasechicago, il, january, zacks...  \n",
       "82  [company, bringing, innovation, ce, jan, get, ...  "
      ]
     },
     "execution_count": 40,
     "metadata": {},
     "output_type": "execute_result"
    }
   ],
   "source": [
    "train_data_v1.head()"
   ]
  },
  {
   "cell_type": "code",
   "execution_count": 47,
   "metadata": {},
   "outputs": [
    {
     "name": "stdout",
     "output_type": "stream",
     "text": [
      "(0, '0.028*\"tsmc\" + 0.021*\"said\" + 0.021*\"samsung\" + 0.017*\"chip\" + 0.017*\"taiwan\" + 0.014*\"infineon\" + 0.013*\"manufacturing\" + 0.012*\"smartphone\" + 0.012*\"semiconductor\" + 0.010*\"co\"')\n",
      "(1, '0.027*\"year\" + 0.026*\"quarter\" + 0.021*\"company\" + 0.020*\"zacks\" + 0.018*\"revenue\" + 0.015*\"earnings\" + 0.015*\"million\" + 0.012*\"stock\" + 0.012*\"estimate\" + 0.010*\"growth\"')\n",
      "(2, '0.015*\"oil\" + 0.010*\"index\" + 0.010*\"dollar\" + 0.010*\"price\" + 0.010*\"week\" + 0.010*\"higher\" + 0.009*\"market\" + 0.009*\"expected\" + 0.009*\"data\" + 0.007*\"lower\"')\n",
      "(3, '0.039*\"biotech\" + 0.034*\"projected\" + 0.023*\"disease\" + 0.018*\"climb\" + 0.014*\"surge\" + 0.014*\"amat\" + 0.013*\"help\" + 0.012*\"genome\" + 0.012*\"applied\" + 0.012*\"biology\"')\n",
      "(4, '0.019*\"analyst\" + 0.013*\"company\" + 0.012*\"report\" + 0.012*\"zacks\" + 0.012*\"share\" + 0.009*\"growth\" + 0.009*\"year\" + 0.009*\"micron\" + 0.008*\"revenue\" + 0.008*\"sale\"')\n",
      "(5, '0.016*\"company\" + 0.010*\"apple\" + 0.009*\"technology\" + 0.008*\"driving\" + 0.008*\"car\" + 0.007*\"nasdaq\" + 0.007*\"vehicle\" + 0.007*\"google\" + 0.007*\"also\" + 0.007*\"amazon\"')\n",
      "(6, '0.045*\"oracle\" + 0.019*\"google\" + 0.017*\"orcl\" + 0.014*\"android\" + 0.012*\"java\" + 0.009*\"sun\" + 0.008*\"use\" + 0.007*\"could\" + 0.007*\"qplum\" + 0.007*\"license\"')\n",
      "(7, '0.058*\"qualcomm\" + 0.018*\"patent\" + 0.013*\"said\" + 0.012*\"note\" + 0.012*\"court\" + 0.010*\"corp\" + 0.010*\"inc\" + 0.010*\"licensing\" + 0.009*\"commission\" + 0.009*\"nvidia\"')\n",
      "(8, '0.021*\"semiconductor\" + 0.020*\"etf\" + 0.016*\"stock\" + 0.014*\"year\" + 0.014*\"zacks\" + 0.014*\"company\" + 0.013*\"nasdaq\" + 0.012*\"fund\" + 0.012*\"earnings\" + 0.011*\"technology\"')\n",
      "(9, '0.020*\"nasdaq\" + 0.018*\"stock\" + 0.014*\"zacks\" + 0.013*\"inc\" + 0.011*\"nyse\" + 0.009*\"today\" + 0.009*\"week\" + 0.008*\"portfolio\" + 0.008*\"earnings\" + 0.008*\"day\"')\n",
      "(10, '0.014*\"market\" + 0.012*\"week\" + 0.010*\"year\" + 0.008*\"fed\" + 0.008*\"rate\" + 0.008*\"investor\" + 0.007*\"last\" + 0.007*\"earnings\" + 0.006*\"might\" + 0.006*\"china\"')\n",
      "(11, '0.012*\"year\" + 0.010*\"market\" + 0.010*\"stock\" + 0.007*\"investor\" + 0.007*\"price\" + 0.007*\"bitcoin\" + 0.006*\"company\" + 0.006*\"share\" + 0.005*\"one\" + 0.005*\"would\"')\n",
      "(12, '0.029*\"stock\" + 0.028*\"zacks\" + 0.022*\"earnings\" + 0.021*\"investment\" + 0.015*\"company\" + 0.014*\"year\" + 0.013*\"estimate\" + 0.013*\"growth\" + 0.012*\"research\" + 0.010*\"market\"')\n",
      "(13, '0.027*\"nasdaq\" + 0.026*\"nvidia\" + 0.024*\"percent\" + 0.019*\"share\" + 0.019*\"stock\" + 0.015*\"day\" + 0.013*\"traded\" + 0.010*\"com\" + 0.010*\"nvda\" + 0.009*\"rose\"')\n",
      "(14, '0.016*\"week\" + 0.016*\"model\" + 0.012*\"trader\" + 0.010*\"bh\" + 0.010*\"idea\" + 0.009*\"exchange\" + 0.009*\"stock\" + 0.008*\"trading\" + 0.008*\"following\" + 0.007*\"trade\"')\n",
      "(15, '0.020*\"bp\" + 0.015*\"tivo\" + 0.013*\"botz\" + 0.011*\"petrochina\" + 0.009*\"mobil\" + 0.009*\"exxon\" + 0.007*\"fitbit\" + 0.007*\"frank\" + 0.004*\"gleason\" + 0.004*\"lithium\"')\n",
      "(16, '0.014*\"stock\" + 0.009*\"market\" + 0.008*\"day\" + 0.007*\"week\" + 0.007*\"trading\" + 0.006*\"time\" + 0.006*\"short\" + 0.005*\"nasdaq\" + 0.005*\"nvda\" + 0.005*\"one\"')\n",
      "(17, '0.034*\"stock\" + 0.032*\"nasdaq\" + 0.015*\"resistance\" + 0.014*\"around\" + 0.013*\"support\" + 0.013*\"nvidia\" + 0.012*\"higher\" + 0.012*\"nvda\" + 0.011*\"week\" + 0.010*\"nyse\"')\n",
      "(18, '0.021*\"nvidia\" + 0.015*\"intel\" + 0.012*\"company\" + 0.012*\"market\" + 0.012*\"nasdaq\" + 0.012*\"amd\" + 0.011*\"chip\" + 0.009*\"data\" + 0.008*\"technology\" + 0.008*\"ai\"')\n",
      "(19, '0.039*\"nasdaq\" + 0.032*\"nyse\" + 0.022*\"trade\" + 0.019*\"inc\" + 0.015*\"china\" + 0.013*\"trump\" + 0.013*\"point\" + 0.012*\"close\" + 0.012*\"stock\" + 0.011*\"rose\"')\n"
     ]
    }
   ],
   "source": [
    "LDA_model, LDA_topics = train_topic_model(train_data_v1, model_type='LDA', max_topics=20)\n",
    "\n",
    "# Print topics\n",
    "for topic in LDA_topics:\n",
    "    print(topic)"
   ]
  },
  {
   "cell_type": "code",
   "execution_count": 26,
   "metadata": {},
   "outputs": [
    {
     "name": "stdout",
     "output_type": "stream",
     "text": [
      "Initial LDA Topics:\n",
      "Topic 1: nasdaq, nyse, stock, share, company, close, rose, point, trade, fell\n",
      "Topic 2: ai, gaming, nasdaq, data, market, company, gpus, new, gpu, technology\n",
      "Topic 3: game, gaming, microsoft, nasdaq, cloud, market, video, service, streaming, year\n",
      "Topic 4: said, chip, percent, billion, corp, reuters, company, analyst, share, data\n",
      "Topic 5: market, investor, fed, year, china, like, trade, month, monday, sector\n",
      "Topic 6: amd, year, graphic, market, price, share, gaming, nasdaq, analyst, demand\n",
      "Topic 7: stock, zacks, growth, company, earnings, investment, value, investor, market, research\n",
      "Topic 8: market, week, percent, index, year, stock, oil, price, nasdaq, point\n",
      "Topic 9: stock, investor, new, market, zacks, nasdaq, make, company, year, like\n",
      "Topic 10: driving, car, company, technology, vehicle, self, autonomous, nasdaq, market, intel\n",
      "Topic 11: china, trade, nasdaq, trump, chinese, tariff, company, president, war, deal\n",
      "Topic 12: stock, nasdaq, day, market, week, trading, time, nyse, like, high\n",
      "Topic 13: intel, nasdaq, nm, intc, chip, cpu, tsmc, amd, share, nyse\n",
      "Topic 14: apple, company, google, amazon, facebook, nasdaq, user, new, service, year\n",
      "Topic 15: etf, fund, semiconductor, technology, nasdaq, index, sector, company, exposure, read\n",
      "Topic 16: earnings, year, zacks, stock, estimate, company, quarter, rank, revenue, consensus\n",
      "Topic 17: rate, market, week, fed, bank, inflation, growth, data, month, price\n",
      "Topic 18: traded, earnings, nasdaq, revenue, day, share, stock, com, eps, index\n",
      "Topic 19: year, quarter, company, revenue, million, zacks, growth, billion, share, stock\n",
      "Topic 20: zacks, stock, investment, market, research, company, year, buy, portfolio, analyst\n"
     ]
    }
   ],
   "source": [
    "print(\"Initial LDA Topics:\")\n",
    "print_topics_lda(LDA_topics)"
   ]
  },
  {
   "cell_type": "markdown",
   "metadata": {},
   "source": [
    "### FLSA-W"
   ]
  },
  {
   "cell_type": "code",
   "execution_count": null,
   "metadata": {
    "vscode": {
     "languageId": "markdown"
    }
   },
   "outputs": [],
   "source": [
    "# Train FLSA-W model on the first version of the preprocessed dataset\n",
    "\n",
    "# Print the generated FLSA-W topics\n"
   ]
  },
  {
   "cell_type": "markdown",
   "metadata": {},
   "source": [
    "### BERTopic"
   ]
  },
  {
   "cell_type": "code",
   "execution_count": 69,
   "metadata": {},
   "outputs": [],
   "source": [
    "# Train BERTopic model on the first version of the preprocessed dataset\n",
    "# num_topics is maximum number of topics rather than a fixed number of topics\n",
    "bertopic_model, bertopic_topics = train_topic_model(train_data_v1, model_type='BERTopic', num_topics=10)\n"
   ]
  },
  {
   "cell_type": "code",
   "execution_count": 54,
   "metadata": {},
   "outputs": [
    {
     "name": "stdout",
     "output_type": "stream",
     "text": [
      "BERTopic Topics:\n",
      "Topic 0: year, company, zacks, quarter, stock, revenue, earnings, nasdaq, million, growth\n",
      "Topic 1: nasdaq, stock, nyse, week, market, trade, index, day, inc, year\n",
      "Topic 2: nvidia, year, gaming, revenue, company, quarter, share, nvda, billion, nasdaq\n",
      "Topic 3: driving, car, vehicle, self, autonomous, technology, company, ai, system, nvidia\n",
      "Topic 4: traded, nvidia, day, seven, lowest, gmt, highest, exchange, volume, session\n",
      "Topic 5: earnings, growth, estimate, zacks, stock, eps, period, company, investment, quarter\n",
      "Topic 6: huawei, said, qualcomm, china, company, chinese, technology, patent, commission, chip\n",
      "Topic 7: facebook, user, ad, company, platform, video, zacks, nasdaq, rank, twitter\n",
      "Topic 8: rallied, climbed, soared, australian, gained, italy, market, dollar, step, towards\n"
     ]
    }
   ],
   "source": [
    "# Print the generated BERTopic topics\n",
    "print(\"BERTopic Topics:\")\n",
    "print_bertopic_topics(bertopic_model)"
   ]
  },
  {
   "cell_type": "markdown",
   "metadata": {},
   "source": [
    "## Iteration 2"
   ]
  },
  {
   "cell_type": "markdown",
   "metadata": {},
   "source": [
    "## Iteration 3"
   ]
  },
  {
   "cell_type": "markdown",
   "metadata": {},
   "source": [
    "## Iteration ...."
   ]
  },
  {
   "cell_type": "markdown",
   "metadata": {},
   "source": [
    "## Evaluation"
   ]
  },
  {
   "cell_type": "markdown",
   "metadata": {},
   "source": [
    "### Qualitative"
   ]
  },
  {
   "cell_type": "markdown",
   "metadata": {},
   "source": [
    "### Quantitative"
   ]
  },
  {
   "cell_type": "markdown",
   "metadata": {},
   "source": [
    "## Output of Final Topic Model"
   ]
  }
 ],
 "metadata": {
  "kernelspec": {
   "display_name": "JADS-NLP",
   "language": "python",
   "name": "python3"
  },
  "language_info": {
   "codemirror_mode": {
    "name": "ipython",
    "version": 3
   },
   "file_extension": ".py",
   "mimetype": "text/x-python",
   "name": "python",
   "nbconvert_exporter": "python",
   "pygments_lexer": "ipython3",
   "version": "3.12.4"
  }
 },
 "nbformat": 4,
 "nbformat_minor": 2
}
